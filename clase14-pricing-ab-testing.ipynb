{
 "cells": [
  {
   "cell_type": "markdown",
   "id": "1247ef34-7411-421d-a60f-2dd831d8ef4c",
   "metadata": {
    "tags": []
   },
   "source": [
    "# Pruebas A/B en entorno profesional\n",
    "\n",
    "### Objetivo de la Sesión\n",
    "\n",
    "El objetivo de esta sesión es comprender el proceso de creación, planificación y análisis de **pruebas A/B** para apoyar la toma de decisiones empresariales, especialmente en la **fijación de precios**. Aprenderemos cómo diseñar un experimento controlado para evaluar cambios de precio, analizar los resultados y obtener conclusiones valiosas que puedan guiar a la empresa en la mejora de sus indicadores clave de rendimiento (KPIs).\n",
    "\n",
    "### ¿Qué es una Prueba A/B?\n",
    "\n",
    "Las **pruebas A/B** son un método de experimentación utilizado para comparar dos versiones de una variable (A y B) para determinar cuál de ellas tiene mejor desempeño en función de un KPI o métrica. Este tipo de prueba es muy común en el marketing, implementación de modelos productivos de machine learning y también en la fijación de precios de productos y servicios.\n",
    "\n",
    "En el contexto de fijación de precios, una prueba A/B puede ser útil para comparar el impacto de dos precios diferentes sobre el comportamiento del consumidor, como la tasa de conversión, ingresos o el valor del ciclo de vida del cliente.\n",
    "\n",
    "### Caso Práctico: Pruebas A/B en la Empresa ABC\n",
    "\n",
    "Imaginemos que la empresa **ABC**, que ofrece un servicio de suscripción, está evaluando ajustar el precio de uno de sus planes. Actualmente, tienen un plan mensual a **10 USD** y quieren probar si aumentar el precio a **12 USD** afectaría sus tasas de conversión y retención de clientes. Para tomar esta decisión, realizarán una **prueba A/B**.\n",
    "\n",
    "#### Contexto del Caso:\n",
    "- **Problema**: La empresa está considerando aumentar el precio de su plan de suscripción mensual, pero necesita datos para respaldar la decisión.\n",
    "- **Hipótesis**: El aumento de precio a **12 USD** podría reducir las conversiones, pero también podría aumentar los ingresos por cliente si el impacto negativo en la conversión es limitado.\n",
    "- **Objetivo**: Evaluar el efecto de un aumento de precio sobre dos métricas principales:\n",
    "  1. **Tasa de conversión**: Proporción de usuarios que se suscriben después de ver el nuevo precio.\n",
    "  2. **Valor de por vida del cliente (LTV)**: El valor esperado que un cliente generará a lo largo de su relación con la empresa.\n",
    "\n",
    "### Proceso para Ejecutar una Prueba A/B\n",
    "\n",
    "#### Paso 1: Definir la Hipótesis y los KPIs\n",
    "El primer paso para realizar una prueba A/B es formular la hipótesis que deseas probar. En este caso, la hipótesis es que el cambio de precio impactará tanto la **tasa de conversión** como el **LTV** de los clientes. Los KPIs principales que mediremos son:\n",
    "- **Tasa de conversión**: Proporción de usuarios que completan la suscripción.\n",
    "- **Ingresos**: La cantidad total de ingresos generados por el grupo de prueba.\n",
    "- **LTV**: El valor total que un cliente promedio generará para la empresa.\n",
    "\n",
    "$H_0 = \\Delta TC = 0$\n",
    "\n",
    "$H_i = \\Delta TC > 0$\n",
    "\n",
    "#### Paso 2: Selección de la Muestra y Segmentación\n",
    "\n",
    "- **Cambios grandes es mejor usar muestras pequeñas**\n",
    "- **Cambios pequeñas es mejor usar muestras grandes**\n",
    "\n",
    "Para llevar a cabo la prueba A/B, es crucial dividir a los usuarios en dos grupos aleatorios y comparables:\n",
    "- **Grupo A**: Usuarios que ven el precio original de 10 USD.\n",
    "- **Grupo B**: Usuarios que ven el nuevo precio de 12 USD.\n",
    "\n",
    "La segmentación debe realizarse de manera aleatoria para garantizar que ambos grupos sean representativos y no haya sesgo en los resultados.\n",
    "\n",
    "Antes de dividir a los usuarios en dos grupos, es crucial calcular el **tamaño de la muestra** necesario para asegurar que los resultados de la prueba A/B sean **estadísticamente significativos**. El tamaño de la muestra dependerá de varios factores, como la **tasa de conversión base**, el **nivel de confianza** y el **poder estadístico** que se espera obtener con la prueba.\n",
    "\n",
    "##### Factores clave para calcular el tamaño de la muestra:\n",
    "1. **Tasa de conversión base**: La tasa de conversión actual del grupo de control (por ejemplo, si el 5% de los usuarios actualmente se suscriben al plan de 10 USD).\n",
    "2. **Magnitud del cambio esperado**: La diferencia mínima en la tasa de conversión que se espera detectar entre los dos grupos (por ejemplo, esperar un aumento de la tasa de conversión del 5% al 6% con el precio de 12 USD).\n",
    "3. **Nivel de confianza**: El nivel de confianza, comúnmente del 95%, es la probabilidad de que el resultado observado no sea debido al azar.\n",
    "4. **Poder estadístico**: El poder estadístico, normalmente del 80%, es la probabilidad de detectar un verdadero efecto si este existe.\n",
    "\n",
    "##### Fórmula simplificada para el cálculo para proporciones:\n",
    "Se puede usar una calculadora de tamaño de muestra en línea o herramientas estadísticas como Python (`statsmodels`) para hacer este cálculo. Una fórmula simplificada para el tamaño de la muestra es:\n",
    "\n",
    "$\n",
    "n = \\frac{2 \\times (Z_{\\alpha/2} + Z_{\\beta})^2 \\times p(1-p)}{(p_1 - p_2)^2}\n",
    "$\n",
    "\n",
    "Donde:\n",
    "- $Z_{\\alpha/2}$ es el valor Z correspondiente al nivel de confianza (1.96 para el 95%).\n",
    "- $Z_{\\beta}$ es el valor Z correspondiente al poder estadístico (0.84 para el 80%).\n",
    "- $p$ es la tasa de conversión base.\n",
    "- $p_1$ y $p_2$ son las tasas de conversión esperadas para los grupos A y B.\n",
    "  \n",
    "##### Ejemplo con tasa de conversión:\n",
    "- **Tasa de conversión base**: 5% (0.05).\n",
    "- **Diferencia esperada en la tasa de conversión**: del 5% al 6% (0.06 - 0.05).\n",
    "- **Nivel de confianza**: 95% (valor Z = 1.96).\n",
    "- **Poder estadístico**: 80% (valor Z = 0.84).\n",
    "\n",
    "Con estos valores, podríamos calcular el tamaño de la muestra usando la fórmula o una herramienta en línea.\n",
    "\n",
    "¿Cual es el tamaño mínimo de la muestra necesaria en cada grupo?\n",
    "\n",
    "##### Fórmula para el cálculo del tamaño de la muestra con valores:\n",
    "$\n",
    "n = \\frac{2 \\times (Z_{\\alpha/2} + Z_{\\beta})^2 \\times \\sigma^2}{\\Delta^2}\n",
    "$\n",
    "\n",
    "$7448$\n",
    "\n",
    "Donde:\n",
    "- $Z_{\\alpha/2}$: El valor Z para el nivel de confianza (1.96 para 95% de confianza).\n",
    "- $Z_{\\beta}$: El valor Z para el poder estadístico (0.84 para 80% de poder).\n",
    "- $\\sigma$: Desviación estándar del LTV.\n",
    "- $\\Delta$: Diferencia mínima en el LTV que queremos detectar entre los dos grupos.\n",
    "\n",
    "##### Ejemplo con tasa de conversión:\n",
    "Imaginemos que:\n",
    "- El **LTV actual** ($\\mu_1$) es de 100 USD.\n",
    "- El **LTV esperado** ($\\mu_2$) con el nuevo precio es de 120 USD.\n",
    "- La **desviación estándar** ($\\sigma$) es de 30 USD.\n",
    "- La **diferencia esperada en el LTV** ($\\Delta = \\mu_2 - \\mu_1$) es de 20 USD.\n",
    "- Queremos un **nivel de confianza** del 95% y un **poder estadístico** del 80%.\n",
    "\n",
    "¿Cuál es el tamaño mínimo de la muestra necesaria en cada grupo?\n",
    "\n",
    "¿Qué creen que pase entre mas chica es la diferencia que queremos comprobar?\n",
    "\n",
    "#### Paso 3: Ejecutar la Prueba\n",
    "La empresa ABC debe ejecutar la prueba durante un período definido (por ejemplo, 4 semanas), asegurándose de que la prueba cubra suficientes usuarios para obtener resultados estadísticamente significativos.\n",
    "\n",
    "Durante la prueba, se monitorearán los KPIs en ambos grupos para observar cómo se comportan con los dos precios diferentes.\n",
    "\n",
    "#### Paso 4: Análisis de Resultados\n",
    "Una vez finalizada la prueba, se analizarán los resultados mediante técnicas estadísticas para determinar si el cambio de precio tiene un impacto significativo en los KPIs definidos.\n",
    "\n",
    "Los puntos clave del análisis incluyen:\n",
    "1. **Comparar tasas de conversión**: ¿El grupo B (12 USD) tuvo una tasa de conversión significativamente menor que el grupo A (10 USD)?\n",
    "2. **Ingresos totales**: ¿El grupo B generó mayores ingresos por cliente a pesar de una posible caída en las conversiones?\n",
    "3. **Valor del Tiempo de Vida (LTV)**: ¿El LTV promedio del grupo B fue superior o inferior al del grupo A?\n",
    "\n",
    "Una vez finalizada la prueba, es fundamental analizar los resultados para determinar si el cambio de precio ha tenido un impacto **estadísticamente significativo** en los KPIs, particularmente en el **Valor del Tiempo de Vida (LTV)**.\n",
    "\n",
    "En lugar de simplemente observar las diferencias en las medias, utilizaremos un **t-test** para comprobar si la diferencia en los KPIs entre los grupos es significativa desde un punto de vista estadístico.\n",
    "\n",
    "##### Pasos Clave en el Análisis:\n",
    "1. **Comparar LTV promedio entre Grupo A (10 USD) y Grupo B (12 USD)**.\n",
    "2. **Realizar una prueba t de dos muestras** para comparar las medias de LTV en ambos grupos:\n",
    "    - **Hipótesis nula ($H_0$)**: No hay diferencia significativa en el LTV entre los dos grupos.\n",
    "    - **Hipótesis alternativa ($H_1$)**: Existe una diferencia significativa en el LTV entre los dos grupos.\n",
    "3. **Calcular el valor p** para determinar si podemos rechazar la hipótesis nula:\n",
    "    - Si $p \\leq 0.05$, rechazamos $H_0$ y concluimos que la diferencia en LTV es estadísticamente significativa.\n",
    "    - Si $p > 0.05$, no hay evidencia suficiente para rechazar $H_0$, por lo tanto, no podemos afirmar que haya una diferencia significativa."
   ]
  },
  {
   "cell_type": "code",
   "execution_count": 3,
   "id": "e1fe74c0-efed-4d66-9274-08c540239de5",
   "metadata": {
    "tags": []
   },
   "outputs": [
    {
     "name": "stdout",
     "output_type": "stream",
     "text": [
      "T-statistic: -6.906043053510043, P-value: 1.6370006736192083e-05\n"
     ]
    }
   ],
   "source": [
    "# Mismo número de observaciones en ambas muestras\n",
    "#Compruebo si son distintos los LTV\n",
    "\n",
    "import numpy as np\n",
    "import scipy.stats as stats\n",
    "\n",
    "# LTV del Grupo A y Grupo B\n",
    "ltv_grupo_a = [100, 110, 105, 98, 102, 95, 107]  # LTV con precio de 10 USD\n",
    "ltv_grupo_b = [120, 125, 118, 130, 115, 122, 119]  # LTV con precio de 12 USD\n",
    "\n",
    "# Realizamos un t-test de dos muestras\n",
    "t_stat, p_value = stats.ttest_ind(ltv_grupo_a, ltv_grupo_b)\n",
    "\n",
    "# Mostramos los resultados\n",
    "print(f\"T-statistic: {t_stat}, P-value: {p_value}\")"
   ]
  },
  {
   "cell_type": "code",
   "execution_count": 4,
   "id": "7c9e90f3-1edb-45d1-af4e-057bfdda6cec",
   "metadata": {
    "tags": []
   },
   "outputs": [
    {
     "name": "stdout",
     "output_type": "stream",
     "text": [
      "T-statistic: -3.1924461222722558, P-value: 0.008514555865328299\n"
     ]
    }
   ],
   "source": [
    "# Experimento controlado, distinto número de observaciones\n",
    "#Compruebo si son distintos los LTV\n",
    "ltv_grupo_a = [100, 16, 105, 98, 102, 92, 107, 105, 112, 101, 106]  # Más observaciones\n",
    "ltv_grupo_b = [120, 125, 118, 130, 115, 122, 119]  # Menos observaciones\n",
    "\n",
    "# Realizamos un Welch's t-test, que es robusto a tamaños de muestras desiguales\n",
    "t_stat, p_value = stats.ttest_ind(ltv_grupo_a, ltv_grupo_b, equal_var=False)\n",
    "\n",
    "# Mostramos los resultados\n",
    "print(f\"T-statistic: {t_stat}, P-value: {p_value}\")"
   ]
  },
  {
   "cell_type": "markdown",
   "id": "7a89e292-c6ad-453f-99b3-085be4cf220f",
   "metadata": {},
   "source": [
    "¿Qué decisión tomarían?"
   ]
  },
  {
   "cell_type": "markdown",
   "id": "bd6b345c-0b90-4dff-951f-e3782cd5fcfb",
   "metadata": {},
   "source": [
    "Sin embargo el objetivo era aumentar el LTV 20 USD, ¿esto se cumplio?"
   ]
  },
  {
   "cell_type": "code",
   "execution_count": 7,
   "id": "e3d89196-c799-46c1-947c-f45a8a6a15a5",
   "metadata": {
    "tags": []
   },
   "outputs": [
    {
     "name": "stdout",
     "output_type": "stream",
     "text": [
      "Mean LTV of Group A: 94.91\n",
      "Mean LTV of Group B: 121.29\n",
      "Objective Difference: 20\n",
      "T-statistic: 0.7718\n",
      "P-value: 0.2348\n"
     ]
    }
   ],
   "source": [
    "# Objectivo: tener diferencia de 20 dolares en el LTV\n",
    "objective_difference = 20\n",
    "\n",
    "# Promedio y desviación estandar por grupo\n",
    "mean_a = np.mean(ltv_grupo_a)\n",
    "mean_b = np.mean(ltv_grupo_b)\n",
    "\n",
    "std_a = np.std(ltv_grupo_a, ddof=1)\n",
    "std_b = np.std(ltv_grupo_b, ddof=1)\n",
    "\n",
    "n_a = len(ltv_grupo_a)\n",
    "n_b = len(ltv_grupo_b)\n",
    "\n",
    "# Realizar un t-test de una cola (mayor o igual que el objetivo)\n",
    "# Null hypothesis H0: (mean_b - mean_a) <= objective_difference\n",
    "# Alternative hypothesis H1: (mean_b - mean_a) > objective_difference\n",
    "\n",
    "# Calculate the t-statistic and p-value\n",
    "pooled_std = np.sqrt(((std_a**2 / n_a) + (std_b**2 / n_b)))\n",
    "t_stat = (mean_b - mean_a - objective_difference) / pooled_std\n",
    "p_value = 1 - stats.t.cdf(t_stat, df=min(n_a, n_b) - 1)\n",
    "\n",
    "# Output the results\n",
    "print(f\"Mean LTV of Group A: {mean_a:.2f}\")\n",
    "print(f\"Mean LTV of Group B: {mean_b:.2f}\")\n",
    "print(f\"Objective Difference: {objective_difference}\")\n",
    "print(f\"T-statistic: {t_stat:.4f}\")\n",
    "print(f\"P-value: {p_value:.4f}\")"
   ]
  },
  {
   "cell_type": "markdown",
   "id": "4bc259bc-ca25-4877-babc-b325affcc7f1",
   "metadata": {},
   "source": [
    "¿Qué decisión tomarían?"
   ]
  },
  {
   "cell_type": "code",
   "execution_count": 9,
   "id": "2ddd39c7-00e5-40a6-9ae9-f053ac974886",
   "metadata": {
    "tags": []
   },
   "outputs": [
    {
     "name": "stdout",
     "output_type": "stream",
     "text": [
      "Z-statistic: 1.6088219735707359, P-value: 0.10765527467052376\n"
     ]
    }
   ],
   "source": [
    "# Comparar conversiones\n",
    "import numpy as np\n",
    "import statsmodels.api as sm\n",
    "\n",
    "conversions_a = 48\n",
    "total_a = 1000\n",
    "conversions_b = 30\n",
    "total_b = 900\n",
    "\n",
    "# Calcular conversion rate\n",
    "rate_a = conversions_a / total_a\n",
    "rate_b = conversions_b / total_b\n",
    "\n",
    "# Hacer un z-test de proporciones\n",
    "count = np.array([conversions_a, conversions_b])\n",
    "nobs = np.array([total_a, total_b])\n",
    "z_stat, p_value = sm.stats.proportions_ztest(count, nobs)\n",
    "\n",
    "print(f\"Z-statistic: {z_stat}, P-value: {p_value}\")"
   ]
  },
  {
   "cell_type": "markdown",
   "id": "b38fe27a-7c83-48db-bc35-ad0f7879c889",
   "metadata": {},
   "source": [
    "¿Qué decisión tomarían?"
   ]
  },
  {
   "cell_type": "markdown",
   "id": "856cd877-25cd-44df-8035-8990d63097f4",
   "metadata": {},
   "source": [
    "#### Paso 5: Toma de Decisiones\n",
    "Con base en los resultados del análisis, la empresa ABC tomará una decisión fundamentada sobre si incrementar el precio a 12 USD. Si el incremento en el precio compensa la disminución en las conversiones y resulta en un mayor LTV e ingresos, podría ser una buena estrategia.\n",
    "\n",
    "### Conclusión\n",
    "\n",
    "Las pruebas A/B son una herramienta poderosa en la toma de decisiones empresariales, especialmente en la fijación de precios. Al realizar experimentos controlados y analizar los datos de manera rigurosa, las empresas pueden minimizar el riesgo asociado con los cambios de precio, garantizando que sus decisiones estén basadas en datos concretos.\n",
    "\n",
    "### Actividad de la Sesión\n",
    "\n",
    "1. **Discusión en clase**: Analizaremos ejemplos de pruebas A/B reales y discutiremos cómo aplicar esta metodología en diferentes áreas de negocio, como marketing, cambios en ambiente productivo, diseño de productos y fijación de precios.\n",
    "2. **Trabajo en equipo**: Diseñen una prueba A/B para evaluar una hipótesis de cambio de precio.\n",
    "\n",
    "#### Trabajo de equipo\n",
    "CompuTech, una empresa de servicios de consulta de AI a través de API, está evaluando cambiar el precio de uno de sus servicios más populares. Tienen como objetivo incrementar 20 USD el ingreso promedio por usuario.\n",
    "\n",
    "\n",
    "El servicio tiene actualmente un precio de 1 USD por consulta, y la empresa está considerando aumentar el precio a 1.25 USD. Antes de implementar este cambio, desean evaluar cómo este aumento afectará su KPI ventas por usuario. Se llevará a cabo una prueba A/B para respaldar esta decisión.\n",
    "\n",
    "##### Objetivo del Caso\n",
    "El objetivo de la prueba es determinar si el cambio de precio tiene un impacto significativo en los siguientes KPIs:\n",
    "\n",
    "Ingreso promedio por usuario: Ingreso promedio por usuario. Desean que por lo menos aumente un 20 USD.\n",
    "\n",
    "Tasa de Conversión: Proporción de usuarios que completan la suscripción.\n",
    "\n",
    "\n",
    "##### Hipótesis\n",
    "- Hipótesis Nula ($H_0$): El aumento de precio a 1.25 USD no tiene un impacto significativo en la tasa de conversión ni en el ingreso promedio por usuario.\n",
    "- Hipótesis Alternativa ($H_1$): El aumento de precio a 1.25 USD tiene un impacto significativo en la tasa de conversión y el ingreso promedio por usuario.\n"
   ]
  },
  {
   "cell_type": "markdown",
   "id": "8fc4e45b-4f84-4cba-98f6-2002313d56ee",
   "metadata": {},
   "source": [
    "## Reporte de Laboratorio"
   ]
  },
  {
   "cell_type": "code",
   "execution_count": 13,
   "id": "da5a870c-b9c3-4d13-bb77-9cda94a744d4",
   "metadata": {},
   "outputs": [],
   "source": [
    "import pandas as pd"
   ]
  },
  {
   "cell_type": "markdown",
   "id": "908f1969-82c4-4536-8a4f-c849bbb76510",
   "metadata": {},
   "source": [
    "### El B es el de precio modificado\n",
    "\n",
    "- $p \\leq 0.05$: Se rechaza $H_0$\n",
    "- $p > 0.05$: No se Rechaza $H_0$"
   ]
  },
  {
   "cell_type": "code",
   "execution_count": 15,
   "id": "261c5f79-db57-4aef-bdd7-679f01a4f72a",
   "metadata": {},
   "outputs": [],
   "source": [
    "conversion_A = pd.read_csv('Data/group_A_conversion.csv')\n",
    "conversion_B = pd.read_csv('Data/group_B_conversion.csv')\n",
    "\n",
    "revenue_A = pd.read_csv('Data/group_A_revenue.csv')\n",
    "revenue_B = pd.read_csv('Data/group_B_revenue.csv')"
   ]
  },
  {
   "cell_type": "code",
   "execution_count": 16,
   "id": "166b4f41-8cf6-4e77-8190-cc6a4ab5eead",
   "metadata": {},
   "outputs": [
    {
     "name": "stdout",
     "output_type": "stream",
     "text": [
      "Mean LTV of Group A: 100.06\n",
      "Mean LTV of Group B: 120.75\n",
      "Objective Difference: 20\n",
      "T-statistic: 0.4893\n",
      "P-value: 0.3126\n",
      "No se rechaza la hipótesis nula (H0)\n"
     ]
    }
   ],
   "source": [
    "# Objectivo: tener diferencia de 20 dolares en el LTV\n",
    "objective_difference = 20\n",
    "\n",
    "# Promedio y desviación estandar por grupo\n",
    "mean_a = np.mean(revenue_A['ARPU'])\n",
    "mean_b = np.mean(revenue_B['ARPU'])\n",
    "\n",
    "std_a = np.std(revenue_A['ARPU'], ddof=1)\n",
    "std_b = np.std(revenue_B['ARPU'], ddof=1)\n",
    "\n",
    "n_a = len(revenue_A['ARPU'])\n",
    "n_b = len(revenue_B['ARPU'])\n",
    "\n",
    "# Realizar un t-test de una cola (mayor o igual que el objetivo)\n",
    "# Null hypothesis H0: (mean_b - mean_a) <= objective_difference\n",
    "# Alternative hypothesis H1: (mean_b - mean_a) > objective_difference\n",
    "\n",
    "# Calculate the t-statistic and p-value\n",
    "pooled_std = np.sqrt(((std_a**2 / n_a) + (std_b**2 / n_b)))\n",
    "t_stat = (mean_b - mean_a - objective_difference) / pooled_std\n",
    "p_value = 1 - stats.t.cdf(t_stat, df=min(n_a, n_b) - 1)\n",
    "\n",
    "# Output the results\n",
    "print(f\"Mean LTV of Group A: {mean_a:.2f}\")\n",
    "print(f\"Mean LTV of Group B: {mean_b:.2f}\")\n",
    "print(f\"Objective Difference: {objective_difference}\")\n",
    "print(f\"T-statistic: {t_stat:.4f}\")\n",
    "print(f\"P-value: {p_value:.4f}\")\n",
    "\n",
    "if p_value <= 0.05:\n",
    "    print('Se rechaza la hipótesis nula (H0)')\n",
    "else:\n",
    "    print('No se rechaza la hipótesis nula (H0)')"
   ]
  },
  {
   "cell_type": "markdown",
   "id": "41efbe0f-fa79-49e6-b414-de63bb5cf1e0",
   "metadata": {},
   "source": [
    "**Hipótesis:**\n",
    "\n",
    "$H_0: \\Delta ARPU < 20$\n",
    "\n",
    "$H_i: \\Delta ARPU >= 20$"
   ]
  },
  {
   "cell_type": "markdown",
   "id": "8bef60a7-bb31-4d4e-a936-9750d0b9cda5",
   "metadata": {},
   "source": [
    "El resultado de la prueba es que el ARPU no aumenta 20 USD al subir el precio de la consulta."
   ]
  },
  {
   "cell_type": "code",
   "execution_count": 19,
   "id": "bfe6c4ea-75ac-41f1-a48a-5ce9ad3d2b73",
   "metadata": {},
   "outputs": [
    {
     "name": "stdout",
     "output_type": "stream",
     "text": [
      "Mean LTV of Group A: 100.06\n",
      "Mean LTV of Group B: 120.75\n",
      "Objective Difference: 18\n",
      "T-statistic: 1.9010\n",
      "P-value: 0.0294\n",
      "Se rechaza la hipótesis nula (H0)\n"
     ]
    }
   ],
   "source": [
    "# Objectivo: tener diferencia de 20 dolares en el LTV\n",
    "objective_difference = 18\n",
    "\n",
    "# Promedio y desviación estandar por grupo\n",
    "mean_a = np.mean(revenue_A['ARPU'])\n",
    "mean_b = np.mean(revenue_B['ARPU'])\n",
    "\n",
    "std_a = np.std(revenue_A['ARPU'], ddof=1)\n",
    "std_b = np.std(revenue_B['ARPU'], ddof=1)\n",
    "\n",
    "n_a = len(revenue_A['ARPU'])\n",
    "n_b = len(revenue_B['ARPU'])\n",
    "\n",
    "# Realizar un t-test de una cola (mayor o igual que el objetivo)\n",
    "# Null hypothesis H0: (mean_b - mean_a) <= objective_difference\n",
    "# Alternative hypothesis H1: (mean_b - mean_a) > objective_difference\n",
    "\n",
    "# Calculate the t-statistic and p-value\n",
    "pooled_std = np.sqrt(((std_a**2 / n_a) + (std_b**2 / n_b)))\n",
    "t_stat = (mean_b - mean_a - objective_difference) / pooled_std\n",
    "p_value = 1 - stats.t.cdf(t_stat, df=min(n_a, n_b) - 1)\n",
    "\n",
    "# Output the results\n",
    "print(f\"Mean LTV of Group A: {mean_a:.2f}\")\n",
    "print(f\"Mean LTV of Group B: {mean_b:.2f}\")\n",
    "print(f\"Objective Difference: {objective_difference}\")\n",
    "print(f\"T-statistic: {t_stat:.4f}\")\n",
    "print(f\"P-value: {p_value:.4f}\")\n",
    "\n",
    "if p_value <= 0.05:\n",
    "    print('Se rechaza la hipótesis nula (H0)')\n",
    "else:\n",
    "    print('No se rechaza la hipótesis nula (H0)')"
   ]
  },
  {
   "cell_type": "markdown",
   "id": "22e01b70-aab8-4135-bc3a-211f5b1dc8ff",
   "metadata": {},
   "source": [
    "**Hipótesis:**\n",
    "\n",
    "$H_0: \\Delta ARPU < 18$\n",
    "\n",
    "$H_i: \\Delta ARPU >= 18$"
   ]
  },
  {
   "cell_type": "code",
   "execution_count": 21,
   "id": "bf3f22a5-ebd0-40bb-818a-3c9627fcb31d",
   "metadata": {},
   "outputs": [
    {
     "name": "stdout",
     "output_type": "stream",
     "text": [
      "Z-statistic: 0.33634590917760526, P-value: 0.7366100338880623\n",
      "No se rechaza la hipótesis nula (H0)\n"
     ]
    }
   ],
   "source": [
    "conversions_a = conversion_A['Converted'].sum()\n",
    "total_a = len(conversion_A)\n",
    "conversions_b = conversion_B['Converted'].sum()\n",
    "total_b = len(conversion_B)\n",
    "\n",
    "# Calcular conversion rate\n",
    "rate_a = conversions_a / total_a\n",
    "rate_b = conversions_b / total_b\n",
    "\n",
    "# Hacer un z-test de proporciones\n",
    "count = np.array([conversions_a, conversions_b])\n",
    "nobs = np.array([total_a, total_b])\n",
    "z_stat, p_value = sm.stats.proportions_ztest(count, nobs)\n",
    "\n",
    "print(f\"Z-statistic: {z_stat}, P-value: {p_value}\")\n",
    "\n",
    "if p_value <= 0.05:\n",
    "    print('Se rechaza la hipótesis nula (H0)')\n",
    "else:\n",
    "    print('No se rechaza la hipótesis nula (H0)')"
   ]
  },
  {
   "cell_type": "markdown",
   "id": "21fbd9fe-1d3b-4ef1-b9dc-18923f190ee0",
   "metadata": {},
   "source": [
    "$H_0: \\Delta Conversión = 0$\n",
    "\n",
    "$H_i: \\Delta Conversión ≠ 0$"
   ]
  },
  {
   "cell_type": "markdown",
   "id": "07688a41-461e-4487-92ce-a5b80010da8d",
   "metadata": {},
   "source": [
    "La conversión es igual entre ambos grupos."
   ]
  },
  {
   "cell_type": "markdown",
   "id": "7d06d9ab-9df5-410e-9c1f-6bf7abc47a3a",
   "metadata": {},
   "source": [
    "## Conclusión\n",
    "\n",
    "Al incrementar el precio de la consulta de 1 USD a 1.25 USD, el ARPU no logra el incremento 20 USD, pero la tasa de conversión entre ambos grupos se mantiene constante a pesar del aumento de precio. Además, al ajustar la prueba estadística para el ARPU, observamos un incremento de al menos 18 USD. Dado que la conversión no cambia entre los grupos y el ARPU aumenta, subir el precio de la consulta resulta favorable para la empresa, ya que genera mayores ganancias."
   ]
  },
  {
   "cell_type": "markdown",
   "id": "3480cbcd-7a40-436d-ac21-7b960276e165",
   "metadata": {},
   "source": [
    "<script>\n",
    "  $(document).ready(function(){\n",
    "    $('div.prompt').hide();\n",
    "    $('div.back-to-top').hide();\n",
    "    $('nav#menubar').hide();\n",
    "    $('.breadcrumb').hide();\n",
    "    $('.hidden-print').hide();\n",
    "  });\n",
    "</script>\n",
    "\n",
    "<footer id=\"attribution\" style=\"float:right; color:#808080; background:#fff;\">\n",
    "Created with Jupyter by Luis Márquez, Ana Sofía Hinojosa, and Ivanna Herrera\n",
    "</footer>"
   ]
  }
 ],
 "metadata": {
  "kernelspec": {
   "display_name": "Python 3 (ipykernel)",
   "language": "python",
   "name": "python3"
  },
  "language_info": {
   "codemirror_mode": {
    "name": "ipython",
    "version": 3
   },
   "file_extension": ".py",
   "mimetype": "text/x-python",
   "name": "python",
   "nbconvert_exporter": "python",
   "pygments_lexer": "ipython3",
   "version": "3.12.3"
  }
 },
 "nbformat": 4,
 "nbformat_minor": 5
}
