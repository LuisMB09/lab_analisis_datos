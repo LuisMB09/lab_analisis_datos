{
 "cells": [
  {
   "cell_type": "markdown",
   "id": "d81ff073",
   "metadata": {},
   "source": [
    "# **Análisis Financiero de Datos y Diseño de Indicadores – EXAMEN EJEMPLO 2**\n",
    "\n",
    "**Instrucciones:**\n",
    "- Este examen utiliza el método del caso para evaluar tu comprensión de los KPIs, su rol en la toma de decisiones, y el uso de regresión lineal para el análisis de datos.\n",
    "- En cada pregunta, explica claramente tu razonamiento y muestra todos los cálculos necesarios.\n",
    "- Puedes utilizar Python (Pandas, Matplotlib, Seaborn) para los cálculos y visualizaciones.\n",
    "- Sé conciso y directo en tus explicaciones.\n",
    "\n",
    "---\n",
    "\n",
    "## **Estudio de Caso: OptiTech Solutions**\n",
    "\n",
    "OptiTech Solutions es una empresa tecnológica que está expandiéndose rápidamente. La empresa ha recopilado datos de los últimos dos años y te han solicitado analizar su rendimiento financiero y comercial para ayudarles a entender cómo factores como el marketing, la satisfacción del cliente, y la efectividad de las promociones impactan sus ingresos.\n",
    "\n",
    "La empresa te proporciona los siguientes datos:\n",
    "\n",
    "- **Fecha**: Mes y año\n",
    "- **Gastos de Marketing**: Cantidad gastada en marketing cada mes (USD)\n",
    "- **Tráfico Web**: Número de visitas al sitio web cada mes\n",
    "- **Satisfacción del Cliente (CSAT)**: Puntuación de 1 a 5 que representa la satisfacción de los clientes\n",
    "- **Tasa de Abandono (Churn Rate)**: El porcentaje de clientes que se van cada mes\n",
    "- **Precio del Producto (USD)**: Precio promedio del producto cada mes\n",
    "- **Interacciones del Servicio al Cliente**: Número de interacciones con el servicio al cliente cada mes\n",
    "- **Condiciones Económicas**: Un índice que varía entre 0.9 y 1.1, representando el entorno económico general\n",
    "- **Promociones**: Porcentaje de promoción que se aplico en el més\n",
    "- **Nuevos Clientes**: Número de nuevos clientes adquiridos cada mes\n",
    "- **Clientes Existentes**: Número de clientes que aun no se hán perdido cada mes\n",
    "- **Clientes que Regresan**: Número de clientes que regresan cada mes\n",
    "- **Ingresos Totales (USD)**: Ingresos totales generados cada mes\n",
    "---\n",
    "\n",
    "## **Sección 1: Selección y Definición de KPIs** (20 puntos)\n",
    "\n",
    "# **Pregunta 1: Selección de los KPIs Correctos**\n",
    "\n",
    "OptiTech Solutions está buscando expandir su base de clientes mientras mantiene un fuerte enfoque en la retención de clientes existentes. Tu tarea es identificar el KPI más estratégico que la empresa debería monitorear en este momento para evaluar su desempeño y crecimiento.\n",
    "\n",
    "Con base en los datos proporcionados, selecciona uno de los siguientes KPIs para centrarse en medir el desempeño actual y crecimiento futuro. Para cada KPI, proporciona:\n",
    "1. Una breve definición.\n",
    "2. La fórmula utilizada para calcularlo.\n",
    "3. Una razón por la cual este KPI es importante para OptiTech en esta etapa de su crecimiento.\n",
    "\n",
    "A continuación se presentan las opciones de KPIs:\n",
    "\n",
    "### **Opción 1: Tasa de Interacciones del Servicio al Cliente**\n",
    "   - *Definición*: El número promedio de interacciones del servicio al cliente por cliente.\n",
    "   - *Fórmula*: $\\text{Tasa de Interacciones} = \\frac{\\text{Interacciones del Servicio al Cliente}}{\\text{Clientes Existentes}}$\n",
    "\n",
    "### **Opción 2: Ingreso Promedio por Cliente (ARPU)**\n",
    "   - *Definición*: El ingreso promedio generado por cada cliente en un mes.\n",
    "   - *Fórmula*: $\\text{ARPU} = \\frac{\\text{Ingresos Totales}}{\\text{Clientes Existentes}}$\n",
    "\n",
    "### **Opción 3: Tasa de Crecimiento de Nuevos Clientes**\n",
    "   - *Definición*: El porcentaje de aumento o disminución en la cantidad de nuevos clientes adquiridos en comparación con el mes anterior.\n",
    "   - *Fórmula*: $\\text{Tasa de Crecimiento de Nuevos Clientes} = \\frac{\\text{Nuevos Clientes}_{\\text{mes actual}} - \\text{Nuevos Clientes}_{\\text{mes anterior}}}{\\text{Nuevos Clientes}_{\\text{mes anterior}}}$\n",
    "\n",
    "### **Opción 4: Tasa de Retorno de Clientes**\n",
    "   - *Definición*: El porcentaje de clientes existentes que regresan a hacer compras adicionales en un mes dado.\n",
    "   - *Fórmula*: $\\text{Tasa de Retorno de Clientes} = \\frac{\\text{Clientes que Regresan}}{\\text{Clientes Existentes}}$\n",
    "\n",
    "---\n",
    "\n",
    "## **Sección 2: Cálculo y Visualización de KPIs** (20 puntos)\n",
    "\n",
    "**Pregunta 2: Visualización y Análisis de KPIs**  \n",
    "Usando el conjunto de datos proporcionado:\n",
    "1. Calcula los KPIs seleccionados para cada mes durante el período de dos años.\n",
    "2. Crea visualizaciones (gráficos de líneas, barras o scatter plots) que muestren cómo han cambiado los KPIs a lo largo del tiempo. Asegúrate de resaltar cualquier tendencia o patrón importante.\n",
    "3. Discute cualquier conclusión o preocupación que la empresa deba considerar con base en estas tendencias.\n",
    "\n",
    "---\n",
    "\n",
    "## **Sección 3: Ajuste de un Modelo de Regresión** (40 puntos)\n",
    "\n",
    "**Pregunta 3: Ajuste de un Modelo de Regresión Lineal para Ingresos Totales**  \n",
    "OptiTech Solutions está interesada en entender qué factores están afectando sus ingresos totales. Se te solicita que ajustes un modelo de regresión lineal para explicar los ingresos totales con base en algunas de las variables disponibles.\n",
    "\n",
    "1. **Preparación de los datos**:  \n",
    "   - Usa las siguientes variables como independientes:  \n",
    "     - **Gastos de Marketing**  \n",
    "     - **Tráfico Web**  \n",
    "     - **Satisfacción del Cliente**  \n",
    "     - **Precio del Producto**  \n",
    "     - **Condiciones Económicas**  \n",
    "     - **Promociones**\n",
    "   - Usa **Ingresos Totales** como la variable dependiente.\n",
    "\n",
    "2. **Construcción del modelo**:  \n",
    "   - Ajusta un modelo de regresión lineal utilizando las variables mencionadas.  \n",
    "   - Escribe la ecuación de la regresión (incluye los coeficientes de cada variable).\n",
    "\n",
    "3. **Interpretación de los Coeficientes**:  \n",
    "   - Explica el significado de los coeficientes obtenidos en el modelo. ¿Cómo afecta un aumento en una de las variables independientes a los ingresos totales?  \n",
    "   - Indica si alguno de los coeficientes es inesperado o tiene un signo que no anticipabas.\n",
    "\n",
    "---\n",
    "\n",
    "## **Sección 4: Interpretación y Aplicación** (20 puntos)\n",
    "\n",
    "**Pregunta 4: Estrategia y Toma de Decisiones**  \n",
    "Ahora que has ajustado el modelo de regresión y analizado los KPIs:\n",
    "1. Identifica tres acciones estratégicas que OptiTech debería tomar con base en los resultados del análisis. Tus sugerencias deben estar directamente relacionadas con la mejora de los KPIs seleccionados.\n",
    "2. Considera los factores económicos y la efectividad de las promociones. ¿Cómo puede la empresa optimizar sus estrategias de marketing o precios en función de los resultados obtenidos?\n",
    "\n",
    "---\n",
    "\n",
    "## **Criterios de Evaluación:**\n",
    "- **Selección y Definición de KPIs** (20 puntos): Corrección y claridad al definir y seleccionar los KPIs relevantes.\n",
    "- **Cálculo y Visualización de KPIs** (20 puntos): Exactitud en los cálculos de KPIs, calidad de las visualizaciones y profundidad de los insights obtenidos de las tendencias.\n",
    "- **Ajuste del Modelo de Regresión** (40 puntos): Aplicación correcta de las técnicas de regresión, interpretación de los coeficientes, y precisión en los cálculos.\n",
    "- **Interpretación y Aplicación** (20 puntos): Calidad de las recomendaciones, profundidad del razonamiento y comprensión del impacto en la estrategia futura.\n"
   ]
  },
  {
   "cell_type": "markdown",
   "id": "5f076785-1d30-4c90-8fad-8f62d2647243",
   "metadata": {},
   "source": [
    "## Sección 1"
   ]
  },
  {
   "cell_type": "markdown",
   "id": "6b374bd0-d06b-4fac-af66-4649291e9235",
   "metadata": {},
   "source": [
    "### **Opción 4: Tasa de Retorno de Clientes**\n",
    "   - *Definición*: El porcentaje de clientes existentes que regresan a hacer compras adicionales en un mes dado.\n",
    "   - *Fórmula*: $\\text{Tasa de Retorno de Clientes} = \\frac{\\text{Clientes que Regresan}}{\\text{Clientes Existentes}}$\n",
    "   - *Razón*: Se quieren enfocar en esta etapa en su retención de clientes, por lo que monitorear los clientes que regresan les es útil para ver su retención."
   ]
  },
  {
   "cell_type": "markdown",
   "id": "01694ea1-005a-4491-9a59-76cbf9c7cb29",
   "metadata": {},
   "source": [
    "## Sección 2"
   ]
  },
  {
   "cell_type": "code",
   "execution_count": 5,
   "id": "810cfc7c-36e6-42bd-81fa-b64df94e6017",
   "metadata": {},
   "outputs": [],
   "source": [
    "import pandas as pd\n",
    "import numpy as np\n",
    "import matplotlib.pyplot as plt\n",
    "import seaborn as sns\n",
    "import datetime\n",
    "from sklearn.preprocessing import StandardScaler\n",
    "from sklearn.linear_model import LinearRegression\n",
    "from sklearn.metrics import r2_score\n",
    "import statsmodels.api as sm"
   ]
  },
  {
   "cell_type": "code",
   "execution_count": 6,
   "id": "a2eb9b0a-4ab6-48f2-88df-80a384341a74",
   "metadata": {},
   "outputs": [
    {
     "data": {
      "text/html": [
       "<div>\n",
       "<style scoped>\n",
       "    .dataframe tbody tr th:only-of-type {\n",
       "        vertical-align: middle;\n",
       "    }\n",
       "\n",
       "    .dataframe tbody tr th {\n",
       "        vertical-align: top;\n",
       "    }\n",
       "\n",
       "    .dataframe thead th {\n",
       "        text-align: right;\n",
       "    }\n",
       "</style>\n",
       "<table border=\"1\" class=\"dataframe\">\n",
       "  <thead>\n",
       "    <tr style=\"text-align: right;\">\n",
       "      <th></th>\n",
       "      <th>Date</th>\n",
       "      <th>Marketing_Expenditure</th>\n",
       "      <th>Web_Traffic</th>\n",
       "      <th>Customer_Satisfaction</th>\n",
       "      <th>Churn_Rate</th>\n",
       "      <th>Product_Price</th>\n",
       "      <th>Customer_Service_Interactions</th>\n",
       "      <th>Economic_Conditions</th>\n",
       "      <th>Promotions</th>\n",
       "      <th>New_Customers</th>\n",
       "      <th>Existing_Customers</th>\n",
       "      <th>Returning_Customers</th>\n",
       "      <th>Total_Revenue</th>\n",
       "    </tr>\n",
       "  </thead>\n",
       "  <tbody>\n",
       "    <tr>\n",
       "      <th>0</th>\n",
       "      <td>2022-01-31</td>\n",
       "      <td>21490.142459</td>\n",
       "      <td>19656.0</td>\n",
       "      <td>4.27</td>\n",
       "      <td>0.022134</td>\n",
       "      <td>101.48</td>\n",
       "      <td>525.99</td>\n",
       "      <td>1.010705</td>\n",
       "      <td>0.0</td>\n",
       "      <td>152.0</td>\n",
       "      <td>1000.0</td>\n",
       "      <td>406.0</td>\n",
       "      <td>56862.410616</td>\n",
       "    </tr>\n",
       "    <tr>\n",
       "      <th>1</th>\n",
       "      <td>2022-02-28</td>\n",
       "      <td>19802.598401</td>\n",
       "      <td>20123.0</td>\n",
       "      <td>3.85</td>\n",
       "      <td>0.034349</td>\n",
       "      <td>101.31</td>\n",
       "      <td>591.23</td>\n",
       "      <td>0.937713</td>\n",
       "      <td>0.0</td>\n",
       "      <td>181.0</td>\n",
       "      <td>1147.0</td>\n",
       "      <td>429.0</td>\n",
       "      <td>67246.822342</td>\n",
       "    </tr>\n",
       "    <tr>\n",
       "      <th>2</th>\n",
       "      <td>2022-03-31</td>\n",
       "      <td>22377.848223</td>\n",
       "      <td>18887.0</td>\n",
       "      <td>4.26</td>\n",
       "      <td>0.009253</td>\n",
       "      <td>100.03</td>\n",
       "      <td>402.39</td>\n",
       "      <td>1.008659</td>\n",
       "      <td>0.0</td>\n",
       "      <td>181.0</td>\n",
       "      <td>1317.0</td>\n",
       "      <td>520.0</td>\n",
       "      <td>70962.260685</td>\n",
       "    </tr>\n",
       "    <tr>\n",
       "      <th>3</th>\n",
       "      <td>2022-04-30</td>\n",
       "      <td>25221.263482</td>\n",
       "      <td>23362.0</td>\n",
       "      <td>4.12</td>\n",
       "      <td>0.027880</td>\n",
       "      <td>98.83</td>\n",
       "      <td>407.08</td>\n",
       "      <td>1.019266</td>\n",
       "      <td>0.0</td>\n",
       "      <td>210.0</td>\n",
       "      <td>1490.0</td>\n",
       "      <td>577.0</td>\n",
       "      <td>94118.001283</td>\n",
       "    </tr>\n",
       "    <tr>\n",
       "      <th>4</th>\n",
       "      <td>2022-05-31</td>\n",
       "      <td>20167.105093</td>\n",
       "      <td>18882.0</td>\n",
       "      <td>4.06</td>\n",
       "      <td>0.024789</td>\n",
       "      <td>92.92</td>\n",
       "      <td>604.37</td>\n",
       "      <td>0.955807</td>\n",
       "      <td>0.0</td>\n",
       "      <td>168.0</td>\n",
       "      <td>1622.0</td>\n",
       "      <td>647.0</td>\n",
       "      <td>87814.684151</td>\n",
       "    </tr>\n",
       "  </tbody>\n",
       "</table>\n",
       "</div>"
      ],
      "text/plain": [
       "         Date  Marketing_Expenditure  Web_Traffic  Customer_Satisfaction  \\\n",
       "0  2022-01-31           21490.142459      19656.0                   4.27   \n",
       "1  2022-02-28           19802.598401      20123.0                   3.85   \n",
       "2  2022-03-31           22377.848223      18887.0                   4.26   \n",
       "3  2022-04-30           25221.263482      23362.0                   4.12   \n",
       "4  2022-05-31           20167.105093      18882.0                   4.06   \n",
       "\n",
       "   Churn_Rate  Product_Price  Customer_Service_Interactions  \\\n",
       "0    0.022134         101.48                         525.99   \n",
       "1    0.034349         101.31                         591.23   \n",
       "2    0.009253         100.03                         402.39   \n",
       "3    0.027880          98.83                         407.08   \n",
       "4    0.024789          92.92                         604.37   \n",
       "\n",
       "   Economic_Conditions  Promotions  New_Customers  Existing_Customers  \\\n",
       "0             1.010705         0.0          152.0              1000.0   \n",
       "1             0.937713         0.0          181.0              1147.0   \n",
       "2             1.008659         0.0          181.0              1317.0   \n",
       "3             1.019266         0.0          210.0              1490.0   \n",
       "4             0.955807         0.0          168.0              1622.0   \n",
       "\n",
       "   Returning_Customers  Total_Revenue  \n",
       "0                406.0   56862.410616  \n",
       "1                429.0   67246.822342  \n",
       "2                520.0   70962.260685  \n",
       "3                577.0   94118.001283  \n",
       "4                647.0   87814.684151  "
      ]
     },
     "execution_count": 6,
     "metadata": {},
     "output_type": "execute_result"
    }
   ],
   "source": [
    "df = pd.read_csv('optitech_solutions_sales.csv')\n",
    "df.head()"
   ]
  },
  {
   "cell_type": "code",
   "execution_count": 7,
   "id": "3d928cfc-c834-49cb-8874-d4e1086bb02f",
   "metadata": {},
   "outputs": [
    {
     "data": {
      "image/png": "[encoded data removed]",
      "text/plain": [
       "<Figure size 1200x600 with 1 Axes>"
      ]
     },
     "metadata": {},
     "output_type": "display_data"
    }
   ],
   "source": [
    "df['Tasa_Retorno_Clientes'] = df['Returning_Customers'] / df['Existing_Customers']\n",
    "plt.figure(figsize=(12, 6)) \n",
    "plt.plot(df.Date, df.Tasa_Retorno_Clientes, c = 'navy')\n",
    "plt.grid()"
   ]
  },
  {
   "cell_type": "markdown",
   "id": "4920e521-5cf3-4932-b6db-7d5832771d48",
   "metadata": {},
   "source": [
    "Se ha mantenido en un rango de 0.38 a 0.46 pero es bastante volátil, en los último meses tuvo una fuerte caída pero se ha estado recuperando el porcentaje de clientes que regresan. A futuro deben concentrarse en mantener más estable la cantidad de clientes que regresan y buscar estrategias para retener más pues el promedio de la industria es de 80%, por lo que están bastante bajos."
   ]
  },
  {
   "cell_type": "markdown",
   "id": "5540ee12-3045-4bd5-a2e2-37bf272b011a",
   "metadata": {},
   "source": [
    "## Sección 3"
   ]
  },
  {
   "cell_type": "markdown",
   "id": "214de3bf-1bdc-48ea-825f-78be4814c38c",
   "metadata": {},
   "source": [
    "1. **Preparación de los datos**:  \n",
    "   - Usa las siguientes variables como independientes:  \n",
    "     - **Gastos de Marketing**  \n",
    "     - **Tráfico Web**  \n",
    "     - **Satisfacción del Cliente**  \n",
    "     - **Precio del Producto**  \n",
    "     - **Condiciones Económicas**  \n",
    "     - **Promociones**\n",
    "   - Usa **Ingresos Totales** como la variable dependiente.\n",
    "\n",
    "2. **Construcción del modelo**:  \n",
    "   - Ajusta un modelo de regresión lineal utilizando las variables mencionadas.  \n",
    "   - Escribe la ecuación de la regresión (incluye los coeficientes de cada variable).\n",
    "\n",
    "3. **Interpretación de los Coeficientes**:  \n",
    "   - Explica el significado de los coeficientes obtenidos en el modelo. ¿Cómo afecta un aumento en una de las variables independientes a los ingresos totales?  \n",
    "   - Indica si alguno de los coeficientes es inesperado o tiene un signo que no anticipabas."
   ]
  },
  {
   "cell_type": "code",
   "execution_count": 11,
   "id": "0b195c89-4ea2-467b-81de-5d046656f138",
   "metadata": {},
   "outputs": [
    {
     "data": {
      "text/plain": [
       "Index(['Date', 'Marketing_Expenditure', 'Web_Traffic', 'Customer_Satisfaction',\n",
       "       'Churn_Rate', 'Product_Price', 'Customer_Service_Interactions',\n",
       "       'Economic_Conditions', 'Promotions', 'New_Customers',\n",
       "       'Existing_Customers', 'Returning_Customers', 'Total_Revenue',\n",
       "       'Tasa_Retorno_Clientes'],\n",
       "      dtype='object')"
      ]
     },
     "execution_count": 11,
     "metadata": {},
     "output_type": "execute_result"
    }
   ],
   "source": [
    "df.columns"
   ]
  },
  {
   "cell_type": "code",
   "execution_count": 12,
   "id": "96168276-dffc-4d45-ae12-51b48b7efafa",
   "metadata": {},
   "outputs": [
    {
     "name": "stdout",
     "output_type": "stream",
     "text": [
      "<class 'pandas.core.frame.DataFrame'>\n",
      "RangeIndex: 24 entries, 0 to 23\n",
      "Data columns (total 14 columns):\n",
      " #   Column                         Non-Null Count  Dtype  \n",
      "---  ------                         --------------  -----  \n",
      " 0   Date                           24 non-null     object \n",
      " 1   Marketing_Expenditure          24 non-null     float64\n",
      " 2   Web_Traffic                    24 non-null     float64\n",
      " 3   Customer_Satisfaction          24 non-null     float64\n",
      " 4   Churn_Rate                     24 non-null     float64\n",
      " 5   Product_Price                  24 non-null     float64\n",
      " 6   Customer_Service_Interactions  24 non-null     float64\n",
      " 7   Economic_Conditions            24 non-null     float64\n",
      " 8   Promotions                     24 non-null     float64\n",
      " 9   New_Customers                  24 non-null     float64\n",
      " 10  Existing_Customers             24 non-null     float64\n",
      " 11  Returning_Customers            24 non-null     float64\n",
      " 12  Total_Revenue                  24 non-null     float64\n",
      " 13  Tasa_Retorno_Clientes          24 non-null     float64\n",
      "dtypes: float64(13), object(1)\n",
      "memory usage: 2.8+ KB\n"
     ]
    }
   ],
   "source": [
    "df.info()"
   ]
  },
  {
   "cell_type": "code",
   "execution_count": 13,
   "id": "7ee1358f-a397-4f06-aee3-f4541c2d300a",
   "metadata": {},
   "outputs": [],
   "source": [
    "X = df[['Marketing_Expenditure','Web_Traffic','Customer_Satisfaction','Product_Price','Economic_Conditions','Promotions']]\n",
    "y = df['Total_Revenue']"
   ]
  },
  {
   "cell_type": "code",
   "execution_count": 14,
   "id": "b4e35507-f478-4a43-b726-c42edd544c64",
   "metadata": {},
   "outputs": [
    {
     "name": "stdout",
     "output_type": "stream",
     "text": [
      "                            OLS Regression Results                            \n",
      "==============================================================================\n",
      "Dep. Variable:          Total_Revenue   R-squared:                       0.522\n",
      "Model:                            OLS   Adj. R-squared:                  0.353\n",
      "Method:                 Least Squares   F-statistic:                     3.095\n",
      "Date:                Sun, 06 Oct 2024   Prob (F-statistic):             0.0309\n",
      "Time:                        21:43:09   Log-Likelihood:                -285.29\n",
      "No. Observations:                  24   AIC:                             584.6\n",
      "Df Residuals:                      17   BIC:                             592.8\n",
      "Df Model:                           6                                         \n",
      "Covariance Type:            nonrobust                                         \n",
      "=========================================================================================\n",
      "                            coef    std err          t      P>|t|      [0.025      0.975]\n",
      "-----------------------------------------------------------------------------------------\n",
      "const                 -5.321e+05   2.45e+05     -2.170      0.044   -1.05e+06   -1.48e+04\n",
      "Marketing_Expenditure    -1.3786      4.585     -0.301      0.767     -11.053       8.296\n",
      "Web_Traffic               2.0283      5.488      0.370      0.716      -9.551      13.608\n",
      "Customer_Satisfaction  2.404e+04   6.01e+04      0.400      0.694   -1.03e+05    1.51e+05\n",
      "Product_Price          1150.9191   2336.226      0.493      0.629   -3778.088    6079.926\n",
      "Economic_Conditions    4.238e+05   2.05e+05      2.072      0.054   -7806.441    8.55e+05\n",
      "Promotions             3.276e+05   1.63e+05      2.010      0.061   -1.63e+04    6.71e+05\n",
      "==============================================================================\n",
      "Omnibus:                        0.510   Durbin-Watson:                   0.799\n",
      "Prob(Omnibus):                  0.775   Jarque-Bera (JB):                0.612\n",
      "Skew:                          -0.169   Prob(JB):                        0.736\n",
      "Kurtosis:                       2.294   Cond. No.                     9.15e+05\n",
      "==============================================================================\n",
      "\n",
      "Notes:\n",
      "[1] Standard Errors assume that the covariance matrix of the errors is correctly specified.\n",
      "[2] The condition number is large, 9.15e+05. This might indicate that there are\n",
      "strong multicollinearity or other numerical problems.\n"
     ]
    }
   ],
   "source": [
    "# Agregar la constante (intercepto) a las variables independientes\n",
    "X = sm.add_constant(X)\n",
    "\n",
    "# Ajustar el modelo usando OLS\n",
    "model = sm.OLS(y, X)\n",
    "results = model.fit()\n",
    "\n",
    "# Mostrar el resumen del modelo\n",
    "print(results.summary())"
   ]
  },
  {
   "cell_type": "markdown",
   "id": "8f1fce6f-864b-49b2-8ad0-f8a822af36cc",
   "metadata": {},
   "source": [
    "-532100 - 1.3786 * Marketing_Expenditure + 2.0283 * Web_Traffic + 24040 * Customer_Satisfaction + 1150.9191 * Product_Price + 423800 * Economic_Conditions + 327600 * Promotions"
   ]
  },
  {
   "cell_type": "markdown",
   "id": "8761fabe-71f8-4fa4-9f25-324a40367dd0",
   "metadata": {},
   "source": [
    "Aumentar una unidad la variable independiente, se multiplica por su coeficiente correspondiente y ese resultado es lo que suma o resta a los ingresos totales. Por ejemplo si el Web Traffic sube 1, aumenta 2.0283 los ingresos totales, si aumenta el precio dle producto una unidad, los ingresos subn 1150.9191.\n",
    "\n",
    "El signo del Marketing Expenditure es inesperado pues uno supone que mayor gasto en marketing traería mas ingresos por le alcance, pero de acuerdo al modelo esto no es así, pues tiene un signo negativo, lo que significa que un mayor gasto en marketing nos resta a nuestros ingresos totales."
   ]
  },
  {
   "cell_type": "markdown",
   "id": "6c6d95f1-4361-4717-bd2f-ac305679e973",
   "metadata": {},
   "source": [
    "## Sección 4"
   ]
  },
  {
   "cell_type": "markdown",
   "id": "fbfcdf96-d746-4cac-904b-402bb4aa2fd2",
   "metadata": {},
   "source": [
    "**Pregunta 4: Estrategia y Toma de Decisiones**  \n",
    "Ahora que has ajustado el modelo de regresión y analizado los KPIs:\n",
    "1. Identifica tres acciones estratégicas que OptiTech debería tomar con base en los resultados del análisis. Tus sugerencias deben estar directamente relacionadas con la mejora de los KPIs seleccionados.\n",
    "2. Considera los factores económicos y la efectividad de las promociones. ¿Cómo puede la empresa optimizar sus estrategias de marketing o precios en función de los resultados obtenidos?"
   ]
  },
  {
   "cell_type": "code",
   "execution_count": 19,
   "id": "f3774641-1a1f-4803-8cb3-0e381d6dbcc9",
   "metadata": {},
   "outputs": [
    {
     "data": {
      "image/png": "[encoded data removed]",
      "text/plain": [
       "<Figure size 640x480 with 1 Axes>"
      ]
     },
     "metadata": {},
     "output_type": "display_data"
    }
   ],
   "source": [
    "plt.scatter(df.Customer_Satisfaction, df.Tasa_Retorno_Clientes)\n",
    "plt.grid()"
   ]
  },
  {
   "cell_type": "markdown",
   "id": "af1a1d2b-a0b3-446b-9188-dbdd21b66d29",
   "metadata": {},
   "source": [
    "Hacer ofertas para varias compras seguidas, de esta forma incentivas a los clientes a regresar, pueden ser sistema de puntos por compra. También se puede apreciar que a mayor satisfacción del cliente la tasa de retorno aumenta por lo que es útil analizar que se hizo con los clientes con alta satisfacción para poder aplicarlo para todos. \n",
    "\n",
    "Buenas condiciones económicas son beneficiosas para los ingresos, además subir precios también aumenta los ingresos, por lo que en tiempos buenos de la economía es buena idea subir los precios para aumentar las ganancias de la empresa. Además de regular los gastos de marketing pues vimos que aumentarlos mucho no es bueno pero en momentos de promoción con un gasto moderado de marketing traería más clientes y le da más ingresos a la empresa."
   ]
  }
 ],
 "metadata": {
  "kernelspec": {
   "display_name": "Python 3 (ipykernel)",
   "language": "python",
   "name": "python3"
  },
  "language_info": {
   "codemirror_mode": {
    "name": "ipython",
    "version": 3
   },
   "file_extension": ".py",
   "mimetype": "text/x-python",
   "name": "python",
   "nbconvert_exporter": "python",
   "pygments_lexer": "ipython3",
   "version": "3.12.3"
  }
 },
 "nbformat": 4,
 "nbformat_minor": 5
}
