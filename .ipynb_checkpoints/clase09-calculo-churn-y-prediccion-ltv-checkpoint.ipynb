{
 "cells": [
  {
   "cell_type": "markdown",
   "id": "de383cbc",
   "metadata": {},
   "source": [
    "# Cálculo de Churn y predicción de LTV\n",
    "\n",
    "## Objetivo\n",
    "\n",
    "En esta sección, abordaremos cómo calcular el churn de los clientes usando un enfoque basado en la frecuencia de compra y la inactividad. Luego, avanzaremos hacia la modelación predictiva para identificar los factores que más influyen en el LTV.\n",
    "\n",
    "### Algoritmo para calcular el Customer Churn\n",
    "\n",
    "1. **Preparación de los datos**:\n",
    "   - Asegúrate de que el dataset incluye campos esenciales como el ID del cliente, la fecha de compra, y cualquier otro atributo relevante para el análisis, como el monto de la compra.\n",
    "\n",
    "<br>\n",
    "\n",
    "2. **Definir la fecha de corte**:\n",
    "   - Establece una fecha de corte que representa el momento de análisis para determinar si un cliente ha dejado de ser activo.\n",
    "\n",
    "<br>\n",
    "\n",
    "3. **Calcula la frecuencia de las compras**:\n",
    "   - Calcula la frecuencia de compra para cada cliente determinando el número de días entre compras consecutivas.\n",
    "\n",
    "<br>\n",
    "\n",
    "4. **Determina el threshold del Churn**:\n",
    "   - Analiza la distribución del tiempo entre compras para todos los clientes.\n",
    "   - Establece un umbral de churn utilizando el percentil 95 de estos tiempos para definir cuándo un cliente debería considerarse como churned.\n",
    "\n",
    "<br>\n",
    "\n",
    "5. **Etiqueta a los clientes como churned**:\n",
    "   - Compara el tiempo desde la última compra de cada cliente hasta la fecha de corte con el threshold establecido. Etiqueta al cliente como churned si este tiempo supera el umbral definido.\n",
    "\n",
    "<br>\n",
    "\n",
    "6. **Análisis y reporte**:\n",
    "   - Realiza un análisis del churn rate, considerando diferentes segmentaciones o factores demográficos.\n",
    "   - Investiga profundamente para entender los factores que influyen en el churn y desarrolla estrategias orientadas a mejorar la retención de clientes."
   ]
  },
  {
   "cell_type": "code",
   "execution_count": 1,
   "id": "179d3055",
   "metadata": {
    "tags": []
   },
   "outputs": [],
   "source": [
    "import pandas as pd\n",
    "import numpy as np"
   ]
  },
  {
   "cell_type": "code",
   "execution_count": 2,
   "id": "bf2137f1",
   "metadata": {
    "tags": []
   },
   "outputs": [
    {
     "name": "stdout",
     "output_type": "stream",
     "text": [
      "Requirement already satisfied: ucimlrepo in c:\\users\\luism\\anaconda3\\lib\\site-packages (0.0.7)\n",
      "Requirement already satisfied: pandas>=1.0.0 in c:\\users\\luism\\anaconda3\\lib\\site-packages (from ucimlrepo) (1.5.3)\n",
      "Requirement already satisfied: certifi>=2020.12.5 in c:\\users\\luism\\anaconda3\\lib\\site-packages (from ucimlrepo) (2023.7.22)\n",
      "Requirement already satisfied: python-dateutil>=2.8.1 in c:\\users\\luism\\anaconda3\\lib\\site-packages (from pandas>=1.0.0->ucimlrepo) (2.8.2)\n",
      "Requirement already satisfied: pytz>=2020.1 in c:\\users\\luism\\anaconda3\\lib\\site-packages (from pandas>=1.0.0->ucimlrepo) (2022.7)\n",
      "Requirement already satisfied: numpy>=1.21.0 in c:\\users\\luism\\anaconda3\\lib\\site-packages (from pandas>=1.0.0->ucimlrepo) (1.24.3)\n",
      "Requirement already satisfied: six>=1.5 in c:\\users\\luism\\anaconda3\\lib\\site-packages (from python-dateutil>=2.8.1->pandas>=1.0.0->ucimlrepo) (1.16.0)\n"
     ]
    }
   ],
   "source": [
    "# Datos gratis\n",
    "!pip install ucimlrepo"
   ]
  },
  {
   "cell_type": "code",
   "execution_count": 4,
   "id": "d789bd7d",
   "metadata": {
    "tags": []
   },
   "outputs": [],
   "source": [
    "from ucimlrepo import fetch_ucirepo\n",
    "\n",
    "# Obtener dataset\n",
    "online_retail = fetch_ucirepo(id=352)\n",
    "\n",
    "# data (como dataframe de pandas)\n",
    "X = online_retail.data.features.copy()\n",
    "y = online_retail.data.targets"
   ]
  },
  {
   "cell_type": "code",
   "execution_count": 5,
   "id": "f6198759",
   "metadata": {
    "tags": []
   },
   "outputs": [
    {
     "name": "stdout",
     "output_type": "stream",
     "text": [
      "{'uci_id': 352, 'name': 'Online Retail', 'repository_url': 'https://archive.ics.uci.edu/dataset/352/online+retail', 'data_url': 'https://archive.ics.uci.edu/static/public/352/data.csv', 'abstract': 'This is a transnational data set which contains all the transactions occurring between 01/12/2010 and 09/12/2011 for a UK-based and registered non-store online retail.', 'area': 'Business', 'tasks': ['Classification', 'Clustering'], 'characteristics': ['Multivariate', 'Sequential', 'Time-Series'], 'num_instances': 541909, 'num_features': 6, 'feature_types': ['Integer', 'Real'], 'demographics': [], 'target_col': None, 'index_col': ['InvoiceNo', 'StockCode'], 'has_missing_values': 'no', 'missing_values_symbol': None, 'year_of_dataset_creation': 2015, 'last_updated': 'Fri Jan 05 2024', 'dataset_doi': '10.24432/C5BW33', 'creators': ['Daqing Chen'], 'intro_paper': {'title': 'Data mining for the online retail industry: A case study of RFM model-based customer segmentation using data mining', 'authors': 'Daqing Chen, Sai Laing Sain, Kun Guo', 'published_in': 'Journal of Database Marketing and Customer Strategy Management, Vol. 19, No. 3', 'year': 2012, 'url': 'https://www.semanticscholar.org/paper/e43a5a90fa33d419df42e485099f8f08badf2149', 'doi': '10.1057/dbm.2012.17'}, 'additional_info': {'summary': 'This is a transnational data set which contains all the transactions occurring between 01/12/2010 and 09/12/2011 for a UK-based and registered non-store online retail.The company mainly sells unique all-occasion gifts. Many customers of the company are wholesalers.', 'purpose': None, 'funded_by': None, 'instances_represent': None, 'recommended_data_splits': None, 'sensitive_data': None, 'preprocessing_description': None, 'variable_info': \"InvoiceNo: Invoice number. Nominal, a 6-digit integral number uniquely assigned to each transaction. If this code starts with letter 'c', it indicates a cancellation. \\nStockCode: Product (item) code. Nominal, a 5-digit integral number uniquely assigned to each distinct product.\\nDescription: Product (item) name. Nominal.\\nQuantity: The quantities of each product (item) per transaction. Numeric.\\t\\nInvoiceDate: Invoice Date and time. Numeric, the day and time when each transaction was generated.\\nUnitPrice: Unit price. Numeric, Product price per unit in sterling.\\nCustomerID: Customer number. Nominal, a 5-digit integral number uniquely assigned to each customer.\\nCountry: Country name. Nominal, the name of the country where each customer resides. \", 'citation': None}}\n"
     ]
    }
   ],
   "source": [
    "# metadata\n",
    "print(online_retail.metadata)"
   ]
  },
  {
   "cell_type": "code",
   "execution_count": 6,
   "id": "89871d7f",
   "metadata": {
    "tags": []
   },
   "outputs": [
    {
     "name": "stdout",
     "output_type": "stream",
     "text": [
      "          name     role         type demographic  \\\n",
      "0    InvoiceNo       ID  Categorical        None   \n",
      "1    StockCode       ID  Categorical        None   \n",
      "2  Description  Feature  Categorical        None   \n",
      "3     Quantity  Feature      Integer        None   \n",
      "4  InvoiceDate  Feature         Date        None   \n",
      "5    UnitPrice  Feature   Continuous        None   \n",
      "6   CustomerID  Feature  Categorical        None   \n",
      "7      Country  Feature  Categorical        None   \n",
      "\n",
      "                                         description     units missing_values  \n",
      "0  a 6-digit integral number uniquely assigned to...      None             no  \n",
      "1  a 5-digit integral number uniquely assigned to...      None             no  \n",
      "2                                       product name      None             no  \n",
      "3  the quantities of each product (item) per tran...      None             no  \n",
      "4  the day and time when each transaction was gen...      None             no  \n",
      "5                             product price per unit  sterling             no  \n",
      "6  a 5-digit integral number uniquely assigned to...      None             no  \n",
      "7  the name of the country where each customer re...      None             no  \n"
     ]
    }
   ],
   "source": [
    "# Información de las variables\n",
    "print(online_retail.variables)"
   ]
  },
  {
   "cell_type": "markdown",
   "id": "13a9e436",
   "metadata": {},
   "source": [
    "### Preparación de los datos"
   ]
  },
  {
   "cell_type": "code",
   "execution_count": 7,
   "id": "8f74e164",
   "metadata": {
    "tags": []
   },
   "outputs": [
    {
     "name": "stdout",
     "output_type": "stream",
     "text": [
      "<class 'pandas.core.frame.DataFrame'>\n",
      "RangeIndex: 541909 entries, 0 to 541908\n",
      "Data columns (total 6 columns):\n",
      " #   Column       Non-Null Count   Dtype  \n",
      "---  ------       --------------   -----  \n",
      " 0   Description  540455 non-null  object \n",
      " 1   Quantity     541909 non-null  int64  \n",
      " 2   InvoiceDate  541909 non-null  object \n",
      " 3   UnitPrice    541909 non-null  float64\n",
      " 4   CustomerID   406829 non-null  float64\n",
      " 5   Country      541909 non-null  object \n",
      "dtypes: float64(2), int64(1), object(3)\n",
      "memory usage: 24.8+ MB\n"
     ]
    }
   ],
   "source": [
    "X.info()"
   ]
  },
  {
   "cell_type": "code",
   "execution_count": 8,
   "id": "fb88a794",
   "metadata": {
    "tags": []
   },
   "outputs": [
    {
     "data": {
      "text/html": [
       "<div>\n",
       "<style scoped>\n",
       "    .dataframe tbody tr th:only-of-type {\n",
       "        vertical-align: middle;\n",
       "    }\n",
       "\n",
       "    .dataframe tbody tr th {\n",
       "        vertical-align: top;\n",
       "    }\n",
       "\n",
       "    .dataframe thead th {\n",
       "        text-align: right;\n",
       "    }\n",
       "</style>\n",
       "<table border=\"1\" class=\"dataframe\">\n",
       "  <thead>\n",
       "    <tr style=\"text-align: right;\">\n",
       "      <th></th>\n",
       "      <th>Description</th>\n",
       "      <th>Quantity</th>\n",
       "      <th>InvoiceDate</th>\n",
       "      <th>UnitPrice</th>\n",
       "      <th>CustomerID</th>\n",
       "      <th>Country</th>\n",
       "    </tr>\n",
       "  </thead>\n",
       "  <tbody>\n",
       "    <tr>\n",
       "      <th>0</th>\n",
       "      <td>WHITE HANGING HEART T-LIGHT HOLDER</td>\n",
       "      <td>6</td>\n",
       "      <td>12/1/2010 8:26</td>\n",
       "      <td>2.55</td>\n",
       "      <td>17850.0</td>\n",
       "      <td>United Kingdom</td>\n",
       "    </tr>\n",
       "    <tr>\n",
       "      <th>1</th>\n",
       "      <td>WHITE METAL LANTERN</td>\n",
       "      <td>6</td>\n",
       "      <td>12/1/2010 8:26</td>\n",
       "      <td>3.39</td>\n",
       "      <td>17850.0</td>\n",
       "      <td>United Kingdom</td>\n",
       "    </tr>\n",
       "    <tr>\n",
       "      <th>2</th>\n",
       "      <td>CREAM CUPID HEARTS COAT HANGER</td>\n",
       "      <td>8</td>\n",
       "      <td>12/1/2010 8:26</td>\n",
       "      <td>2.75</td>\n",
       "      <td>17850.0</td>\n",
       "      <td>United Kingdom</td>\n",
       "    </tr>\n",
       "    <tr>\n",
       "      <th>3</th>\n",
       "      <td>KNITTED UNION FLAG HOT WATER BOTTLE</td>\n",
       "      <td>6</td>\n",
       "      <td>12/1/2010 8:26</td>\n",
       "      <td>3.39</td>\n",
       "      <td>17850.0</td>\n",
       "      <td>United Kingdom</td>\n",
       "    </tr>\n",
       "    <tr>\n",
       "      <th>4</th>\n",
       "      <td>RED WOOLLY HOTTIE WHITE HEART.</td>\n",
       "      <td>6</td>\n",
       "      <td>12/1/2010 8:26</td>\n",
       "      <td>3.39</td>\n",
       "      <td>17850.0</td>\n",
       "      <td>United Kingdom</td>\n",
       "    </tr>\n",
       "  </tbody>\n",
       "</table>\n",
       "</div>"
      ],
      "text/plain": [
       "                           Description  Quantity     InvoiceDate  UnitPrice  \\\n",
       "0   WHITE HANGING HEART T-LIGHT HOLDER         6  12/1/2010 8:26       2.55   \n",
       "1                  WHITE METAL LANTERN         6  12/1/2010 8:26       3.39   \n",
       "2       CREAM CUPID HEARTS COAT HANGER         8  12/1/2010 8:26       2.75   \n",
       "3  KNITTED UNION FLAG HOT WATER BOTTLE         6  12/1/2010 8:26       3.39   \n",
       "4       RED WOOLLY HOTTIE WHITE HEART.         6  12/1/2010 8:26       3.39   \n",
       "\n",
       "   CustomerID         Country  \n",
       "0     17850.0  United Kingdom  \n",
       "1     17850.0  United Kingdom  \n",
       "2     17850.0  United Kingdom  \n",
       "3     17850.0  United Kingdom  \n",
       "4     17850.0  United Kingdom  "
      ]
     },
     "execution_count": 8,
     "metadata": {},
     "output_type": "execute_result"
    }
   ],
   "source": [
    "X.head()"
   ]
  },
  {
   "cell_type": "code",
   "execution_count": 9,
   "id": "09a83fc0",
   "metadata": {
    "tags": []
   },
   "outputs": [],
   "source": [
    "X['InvoiceDate'] = pd.to_datetime(X['InvoiceDate'])"
   ]
  },
  {
   "cell_type": "code",
   "execution_count": 10,
   "id": "fa561613",
   "metadata": {
    "tags": []
   },
   "outputs": [
    {
     "data": {
      "text/html": [
       "<div>\n",
       "<style scoped>\n",
       "    .dataframe tbody tr th:only-of-type {\n",
       "        vertical-align: middle;\n",
       "    }\n",
       "\n",
       "    .dataframe tbody tr th {\n",
       "        vertical-align: top;\n",
       "    }\n",
       "\n",
       "    .dataframe thead th {\n",
       "        text-align: right;\n",
       "    }\n",
       "</style>\n",
       "<table border=\"1\" class=\"dataframe\">\n",
       "  <thead>\n",
       "    <tr style=\"text-align: right;\">\n",
       "      <th></th>\n",
       "      <th>Description</th>\n",
       "      <th>Quantity</th>\n",
       "      <th>InvoiceDate</th>\n",
       "      <th>UnitPrice</th>\n",
       "      <th>CustomerID</th>\n",
       "      <th>Country</th>\n",
       "    </tr>\n",
       "  </thead>\n",
       "  <tbody>\n",
       "    <tr>\n",
       "      <th>0</th>\n",
       "      <td>WHITE HANGING HEART T-LIGHT HOLDER</td>\n",
       "      <td>6</td>\n",
       "      <td>2010-12-01 08:26:00</td>\n",
       "      <td>2.55</td>\n",
       "      <td>17850.0</td>\n",
       "      <td>United Kingdom</td>\n",
       "    </tr>\n",
       "    <tr>\n",
       "      <th>1</th>\n",
       "      <td>WHITE METAL LANTERN</td>\n",
       "      <td>6</td>\n",
       "      <td>2010-12-01 08:26:00</td>\n",
       "      <td>3.39</td>\n",
       "      <td>17850.0</td>\n",
       "      <td>United Kingdom</td>\n",
       "    </tr>\n",
       "    <tr>\n",
       "      <th>2</th>\n",
       "      <td>CREAM CUPID HEARTS COAT HANGER</td>\n",
       "      <td>8</td>\n",
       "      <td>2010-12-01 08:26:00</td>\n",
       "      <td>2.75</td>\n",
       "      <td>17850.0</td>\n",
       "      <td>United Kingdom</td>\n",
       "    </tr>\n",
       "    <tr>\n",
       "      <th>3</th>\n",
       "      <td>KNITTED UNION FLAG HOT WATER BOTTLE</td>\n",
       "      <td>6</td>\n",
       "      <td>2010-12-01 08:26:00</td>\n",
       "      <td>3.39</td>\n",
       "      <td>17850.0</td>\n",
       "      <td>United Kingdom</td>\n",
       "    </tr>\n",
       "    <tr>\n",
       "      <th>4</th>\n",
       "      <td>RED WOOLLY HOTTIE WHITE HEART.</td>\n",
       "      <td>6</td>\n",
       "      <td>2010-12-01 08:26:00</td>\n",
       "      <td>3.39</td>\n",
       "      <td>17850.0</td>\n",
       "      <td>United Kingdom</td>\n",
       "    </tr>\n",
       "  </tbody>\n",
       "</table>\n",
       "</div>"
      ],
      "text/plain": [
       "                           Description  Quantity         InvoiceDate  \\\n",
       "0   WHITE HANGING HEART T-LIGHT HOLDER         6 2010-12-01 08:26:00   \n",
       "1                  WHITE METAL LANTERN         6 2010-12-01 08:26:00   \n",
       "2       CREAM CUPID HEARTS COAT HANGER         8 2010-12-01 08:26:00   \n",
       "3  KNITTED UNION FLAG HOT WATER BOTTLE         6 2010-12-01 08:26:00   \n",
       "4       RED WOOLLY HOTTIE WHITE HEART.         6 2010-12-01 08:26:00   \n",
       "\n",
       "   UnitPrice  CustomerID         Country  \n",
       "0       2.55     17850.0  United Kingdom  \n",
       "1       3.39     17850.0  United Kingdom  \n",
       "2       2.75     17850.0  United Kingdom  \n",
       "3       3.39     17850.0  United Kingdom  \n",
       "4       3.39     17850.0  United Kingdom  "
      ]
     },
     "execution_count": 10,
     "metadata": {},
     "output_type": "execute_result"
    }
   ],
   "source": [
    "# Sort data\n",
    "X.sort_values(by=['CustomerID', 'InvoiceDate'])\n",
    "\n",
    "X.head()"
   ]
  },
  {
   "cell_type": "code",
   "execution_count": 11,
   "id": "53cfb445",
   "metadata": {
    "tags": []
   },
   "outputs": [
    {
     "data": {
      "text/html": [
       "<div>\n",
       "<style scoped>\n",
       "    .dataframe tbody tr th:only-of-type {\n",
       "        vertical-align: middle;\n",
       "    }\n",
       "\n",
       "    .dataframe tbody tr th {\n",
       "        vertical-align: top;\n",
       "    }\n",
       "\n",
       "    .dataframe thead th {\n",
       "        text-align: right;\n",
       "    }\n",
       "</style>\n",
       "<table border=\"1\" class=\"dataframe\">\n",
       "  <thead>\n",
       "    <tr style=\"text-align: right;\">\n",
       "      <th></th>\n",
       "      <th>Country</th>\n",
       "      <th>CustomerID</th>\n",
       "      <th>InvoiceDate</th>\n",
       "      <th>LineTotal</th>\n",
       "    </tr>\n",
       "  </thead>\n",
       "  <tbody>\n",
       "    <tr>\n",
       "      <th>0</th>\n",
       "      <td>Australia</td>\n",
       "      <td>12386.0</td>\n",
       "      <td>2010-12-08 09:53:00</td>\n",
       "      <td>258.90</td>\n",
       "    </tr>\n",
       "    <tr>\n",
       "      <th>1</th>\n",
       "      <td>Australia</td>\n",
       "      <td>12386.0</td>\n",
       "      <td>2011-01-06 12:37:00</td>\n",
       "      <td>143.00</td>\n",
       "    </tr>\n",
       "    <tr>\n",
       "      <th>2</th>\n",
       "      <td>Australia</td>\n",
       "      <td>12388.0</td>\n",
       "      <td>2011-01-17 11:12:00</td>\n",
       "      <td>431.30</td>\n",
       "    </tr>\n",
       "    <tr>\n",
       "      <th>3</th>\n",
       "      <td>Australia</td>\n",
       "      <td>12388.0</td>\n",
       "      <td>2011-02-07 13:59:00</td>\n",
       "      <td>124.05</td>\n",
       "    </tr>\n",
       "    <tr>\n",
       "      <th>4</th>\n",
       "      <td>Australia</td>\n",
       "      <td>12388.0</td>\n",
       "      <td>2011-03-09 15:47:00</td>\n",
       "      <td>210.90</td>\n",
       "    </tr>\n",
       "  </tbody>\n",
       "</table>\n",
       "</div>"
      ],
      "text/plain": [
       "     Country  CustomerID         InvoiceDate  LineTotal\n",
       "0  Australia     12386.0 2010-12-08 09:53:00     258.90\n",
       "1  Australia     12386.0 2011-01-06 12:37:00     143.00\n",
       "2  Australia     12388.0 2011-01-17 11:12:00     431.30\n",
       "3  Australia     12388.0 2011-02-07 13:59:00     124.05\n",
       "4  Australia     12388.0 2011-03-09 15:47:00     210.90"
      ]
     },
     "execution_count": 11,
     "metadata": {},
     "output_type": "execute_result"
    }
   ],
   "source": [
    "X['LineTotal'] = X['Quantity']*X['UnitPrice']\n",
    "\n",
    "customer_invoices = X.groupby(['Country', 'CustomerID', 'InvoiceDate'])['LineTotal'].sum().reset_index()\n",
    "customer_invoices.head()"
   ]
  },
  {
   "cell_type": "code",
   "execution_count": 12,
   "id": "702b4a21",
   "metadata": {
    "tags": []
   },
   "outputs": [
    {
     "data": {
      "text/plain": [
       "3611"
      ]
     },
     "execution_count": 12,
     "metadata": {},
     "output_type": "execute_result"
    }
   ],
   "source": [
    "# Cuantos retornos exísten\n",
    "sum(customer_invoices['LineTotal'] < 0)"
   ]
  },
  {
   "cell_type": "code",
   "execution_count": 13,
   "id": "edf6df45",
   "metadata": {
    "tags": []
   },
   "outputs": [],
   "source": [
    "customer_invoices_clean = customer_invoices[customer_invoices['LineTotal'] > 0].copy().dropna()"
   ]
  },
  {
   "cell_type": "markdown",
   "id": "05b56cb5",
   "metadata": {},
   "source": [
    "### Definir la fecha de corte"
   ]
  },
  {
   "cell_type": "code",
   "execution_count": 14,
   "id": "0fed6ebf",
   "metadata": {
    "tags": []
   },
   "outputs": [
    {
     "data": {
      "text/plain": [
       "Timestamp('2011-12-09 12:50:00')"
      ]
     },
     "execution_count": 14,
     "metadata": {},
     "output_type": "execute_result"
    }
   ],
   "source": [
    "snapshot_date = customer_invoices_clean['InvoiceDate'].max() \n",
    "snapshot_date"
   ]
  },
  {
   "cell_type": "code",
   "execution_count": 15,
   "id": "6e8d2c12",
   "metadata": {
    "tags": []
   },
   "outputs": [
    {
     "data": {
      "text/plain": [
       "Timestamp('2010-12-01 08:26:00')"
      ]
     },
     "execution_count": 15,
     "metadata": {},
     "output_type": "execute_result"
    }
   ],
   "source": [
    "customer_invoices_clean['InvoiceDate'].min() "
   ]
  },
  {
   "cell_type": "markdown",
   "id": "a2537d5f",
   "metadata": {},
   "source": [
    "### Calcula la frecuencia de las compras"
   ]
  },
  {
   "cell_type": "code",
   "execution_count": 16,
   "id": "a54f05fc",
   "metadata": {
    "tags": []
   },
   "outputs": [
    {
     "data": {
      "text/html": [
       "<div>\n",
       "<style scoped>\n",
       "    .dataframe tbody tr th:only-of-type {\n",
       "        vertical-align: middle;\n",
       "    }\n",
       "\n",
       "    .dataframe tbody tr th {\n",
       "        vertical-align: top;\n",
       "    }\n",
       "\n",
       "    .dataframe thead th {\n",
       "        text-align: right;\n",
       "    }\n",
       "</style>\n",
       "<table border=\"1\" class=\"dataframe\">\n",
       "  <thead>\n",
       "    <tr style=\"text-align: right;\">\n",
       "      <th></th>\n",
       "      <th>Country</th>\n",
       "      <th>CustomerID</th>\n",
       "      <th>InvoiceDate</th>\n",
       "      <th>LineTotal</th>\n",
       "      <th>DaysBetweenPurchases</th>\n",
       "    </tr>\n",
       "  </thead>\n",
       "  <tbody>\n",
       "    <tr>\n",
       "      <th>0</th>\n",
       "      <td>Australia</td>\n",
       "      <td>12386.0</td>\n",
       "      <td>2010-12-08 09:53:00</td>\n",
       "      <td>258.90</td>\n",
       "      <td>NaN</td>\n",
       "    </tr>\n",
       "    <tr>\n",
       "      <th>1</th>\n",
       "      <td>Australia</td>\n",
       "      <td>12386.0</td>\n",
       "      <td>2011-01-06 12:37:00</td>\n",
       "      <td>143.00</td>\n",
       "      <td>29.0</td>\n",
       "    </tr>\n",
       "    <tr>\n",
       "      <th>2</th>\n",
       "      <td>Australia</td>\n",
       "      <td>12388.0</td>\n",
       "      <td>2011-01-17 11:12:00</td>\n",
       "      <td>431.30</td>\n",
       "      <td>NaN</td>\n",
       "    </tr>\n",
       "    <tr>\n",
       "      <th>3</th>\n",
       "      <td>Australia</td>\n",
       "      <td>12388.0</td>\n",
       "      <td>2011-02-07 13:59:00</td>\n",
       "      <td>124.05</td>\n",
       "      <td>21.0</td>\n",
       "    </tr>\n",
       "    <tr>\n",
       "      <th>4</th>\n",
       "      <td>Australia</td>\n",
       "      <td>12388.0</td>\n",
       "      <td>2011-03-09 15:47:00</td>\n",
       "      <td>210.90</td>\n",
       "      <td>30.0</td>\n",
       "    </tr>\n",
       "  </tbody>\n",
       "</table>\n",
       "</div>"
      ],
      "text/plain": [
       "     Country  CustomerID         InvoiceDate  LineTotal  DaysBetweenPurchases\n",
       "0  Australia     12386.0 2010-12-08 09:53:00     258.90                   NaN\n",
       "1  Australia     12386.0 2011-01-06 12:37:00     143.00                  29.0\n",
       "2  Australia     12388.0 2011-01-17 11:12:00     431.30                   NaN\n",
       "3  Australia     12388.0 2011-02-07 13:59:00     124.05                  21.0\n",
       "4  Australia     12388.0 2011-03-09 15:47:00     210.90                  30.0"
      ]
     },
     "execution_count": 16,
     "metadata": {},
     "output_type": "execute_result"
    }
   ],
   "source": [
    "# Calculate days between purchases\n",
    "customer_invoices_clean['DaysBetweenPurchases'] = customer_invoices_clean.groupby(['Country', 'CustomerID'])['InvoiceDate'].diff().dt.days\n",
    "customer_invoices_clean.head()"
   ]
  },
  {
   "cell_type": "code",
   "execution_count": 17,
   "id": "83b2453d",
   "metadata": {
    "tags": []
   },
   "outputs": [
    {
     "data": {
      "text/html": [
       "<div>\n",
       "<style scoped>\n",
       "    .dataframe tbody tr th:only-of-type {\n",
       "        vertical-align: middle;\n",
       "    }\n",
       "\n",
       "    .dataframe tbody tr th {\n",
       "        vertical-align: top;\n",
       "    }\n",
       "\n",
       "    .dataframe thead th {\n",
       "        text-align: right;\n",
       "    }\n",
       "</style>\n",
       "<table border=\"1\" class=\"dataframe\">\n",
       "  <thead>\n",
       "    <tr style=\"text-align: right;\">\n",
       "      <th></th>\n",
       "      <th>CustomerID</th>\n",
       "      <th>LineTotal</th>\n",
       "      <th>DaysBetweenPurchases</th>\n",
       "    </tr>\n",
       "  </thead>\n",
       "  <tbody>\n",
       "    <tr>\n",
       "      <th>count</th>\n",
       "      <td>18410.000000</td>\n",
       "      <td>18410.000000</td>\n",
       "      <td>14064.000000</td>\n",
       "    </tr>\n",
       "    <tr>\n",
       "      <th>mean</th>\n",
       "      <td>15266.278816</td>\n",
       "      <td>483.541889</td>\n",
       "      <td>39.882039</td>\n",
       "    </tr>\n",
       "    <tr>\n",
       "      <th>std</th>\n",
       "      <td>1733.927581</td>\n",
       "      <td>1685.409307</td>\n",
       "      <td>51.995823</td>\n",
       "    </tr>\n",
       "    <tr>\n",
       "      <th>min</th>\n",
       "      <td>12346.000000</td>\n",
       "      <td>0.380000</td>\n",
       "      <td>0.000000</td>\n",
       "    </tr>\n",
       "    <tr>\n",
       "      <th>25%</th>\n",
       "      <td>13777.000000</td>\n",
       "      <td>159.685000</td>\n",
       "      <td>6.000000</td>\n",
       "    </tr>\n",
       "    <tr>\n",
       "      <th>50%</th>\n",
       "      <td>15178.500000</td>\n",
       "      <td>303.590000</td>\n",
       "      <td>22.000000</td>\n",
       "    </tr>\n",
       "    <tr>\n",
       "      <th>75%</th>\n",
       "      <td>16779.000000</td>\n",
       "      <td>474.585000</td>\n",
       "      <td>51.000000</td>\n",
       "    </tr>\n",
       "    <tr>\n",
       "      <th>max</th>\n",
       "      <td>18287.000000</td>\n",
       "      <td>168469.600000</td>\n",
       "      <td>365.000000</td>\n",
       "    </tr>\n",
       "  </tbody>\n",
       "</table>\n",
       "</div>"
      ],
      "text/plain": [
       "         CustomerID      LineTotal  DaysBetweenPurchases\n",
       "count  18410.000000   18410.000000          14064.000000\n",
       "mean   15266.278816     483.541889             39.882039\n",
       "std     1733.927581    1685.409307             51.995823\n",
       "min    12346.000000       0.380000              0.000000\n",
       "25%    13777.000000     159.685000              6.000000\n",
       "50%    15178.500000     303.590000             22.000000\n",
       "75%    16779.000000     474.585000             51.000000\n",
       "max    18287.000000  168469.600000            365.000000"
      ]
     },
     "execution_count": 17,
     "metadata": {},
     "output_type": "execute_result"
    }
   ],
   "source": [
    "customer_invoices_clean.describe()"
   ]
  },
  {
   "cell_type": "markdown",
   "id": "f7ac16b0",
   "metadata": {},
   "source": [
    "### Determina el threshold del Churn"
   ]
  },
  {
   "cell_type": "code",
   "execution_count": 18,
   "id": "8371279b",
   "metadata": {
    "tags": []
   },
   "outputs": [
    {
     "data": {
      "text/plain": [
       "147.0"
      ]
     },
     "execution_count": 18,
     "metadata": {},
     "output_type": "execute_result"
    }
   ],
   "source": [
    "general_threshold = customer_invoices_clean['DaysBetweenPurchases'].quantile(0.95)\n",
    "general_threshold"
   ]
  },
  {
   "cell_type": "markdown",
   "id": "5addadd3",
   "metadata": {},
   "source": [
    "Observamos que es casi un tercio de año para considerarlo perdido, dado el poco tiempo de los datos quiza debemos ser mas conservadores y asumurlo perdido al percentil 90."
   ]
  },
  {
   "cell_type": "code",
   "execution_count": 19,
   "id": "93e8fec2",
   "metadata": {
    "tags": []
   },
   "outputs": [
    {
     "data": {
      "text/plain": [
       "103.0"
      ]
     },
     "execution_count": 19,
     "metadata": {},
     "output_type": "execute_result"
    }
   ],
   "source": [
    "general_threshold = customer_invoices_clean['DaysBetweenPurchases'].quantile(0.90)\n",
    "general_threshold"
   ]
  },
  {
   "cell_type": "code",
   "execution_count": 20,
   "id": "d0fd28bf",
   "metadata": {
    "tags": []
   },
   "outputs": [
    {
     "data": {
      "text/html": [
       "<div>\n",
       "<style scoped>\n",
       "    .dataframe tbody tr th:only-of-type {\n",
       "        vertical-align: middle;\n",
       "    }\n",
       "\n",
       "    .dataframe tbody tr th {\n",
       "        vertical-align: top;\n",
       "    }\n",
       "\n",
       "    .dataframe thead th {\n",
       "        text-align: right;\n",
       "    }\n",
       "</style>\n",
       "<table border=\"1\" class=\"dataframe\">\n",
       "  <thead>\n",
       "    <tr style=\"text-align: right;\">\n",
       "      <th></th>\n",
       "      <th>Country</th>\n",
       "      <th>percentile_90</th>\n",
       "      <th>transaction_count</th>\n",
       "    </tr>\n",
       "  </thead>\n",
       "  <tbody>\n",
       "    <tr>\n",
       "      <th>0</th>\n",
       "      <td>Australia</td>\n",
       "      <td>108.8</td>\n",
       "      <td>45</td>\n",
       "    </tr>\n",
       "    <tr>\n",
       "      <th>1</th>\n",
       "      <td>Austria</td>\n",
       "      <td>123.0</td>\n",
       "      <td>6</td>\n",
       "    </tr>\n",
       "    <tr>\n",
       "      <th>2</th>\n",
       "      <td>Bahrain</td>\n",
       "      <td>NaN</td>\n",
       "      <td>0</td>\n",
       "    </tr>\n",
       "    <tr>\n",
       "      <th>3</th>\n",
       "      <td>Belgium</td>\n",
       "      <td>93.2</td>\n",
       "      <td>73</td>\n",
       "    </tr>\n",
       "    <tr>\n",
       "      <th>4</th>\n",
       "      <td>Brazil</td>\n",
       "      <td>NaN</td>\n",
       "      <td>0</td>\n",
       "    </tr>\n",
       "  </tbody>\n",
       "</table>\n",
       "</div>"
      ],
      "text/plain": [
       "     Country  percentile_90  transaction_count\n",
       "0  Australia          108.8                 45\n",
       "1    Austria          123.0                  6\n",
       "2    Bahrain            NaN                  0\n",
       "3    Belgium           93.2                 73\n",
       "4     Brazil            NaN                  0"
      ]
     },
     "execution_count": 20,
     "metadata": {},
     "output_type": "execute_result"
    }
   ],
   "source": [
    "threshold_per_country = customer_invoices_clean.groupby('Country')['DaysBetweenPurchases'].agg(\n",
    "    percentile_90=lambda x: x.quantile(0.90),\n",
    "    transaction_count='count'\n",
    ").reset_index()\n",
    "\n",
    "threshold_per_country.head()"
   ]
  },
  {
   "cell_type": "markdown",
   "id": "130a35ea",
   "metadata": {},
   "source": [
    "Usaremos por lo pronto el threshold general para aquellos paises que tengan menos de 15 transacciones."
   ]
  },
  {
   "cell_type": "code",
   "execution_count": 21,
   "id": "d9ccb78c",
   "metadata": {
    "tags": []
   },
   "outputs": [
    {
     "data": {
      "text/html": [
       "<div>\n",
       "<style scoped>\n",
       "    .dataframe tbody tr th:only-of-type {\n",
       "        vertical-align: middle;\n",
       "    }\n",
       "\n",
       "    .dataframe tbody tr th {\n",
       "        vertical-align: top;\n",
       "    }\n",
       "\n",
       "    .dataframe thead th {\n",
       "        text-align: right;\n",
       "    }\n",
       "</style>\n",
       "<table border=\"1\" class=\"dataframe\">\n",
       "  <thead>\n",
       "    <tr style=\"text-align: right;\">\n",
       "      <th></th>\n",
       "      <th>Country</th>\n",
       "      <th>percentile_90</th>\n",
       "      <th>transaction_count</th>\n",
       "      <th>threshold</th>\n",
       "    </tr>\n",
       "  </thead>\n",
       "  <tbody>\n",
       "    <tr>\n",
       "      <th>0</th>\n",
       "      <td>Australia</td>\n",
       "      <td>108.8</td>\n",
       "      <td>45</td>\n",
       "      <td>108.8</td>\n",
       "    </tr>\n",
       "    <tr>\n",
       "      <th>1</th>\n",
       "      <td>Austria</td>\n",
       "      <td>123.0</td>\n",
       "      <td>6</td>\n",
       "      <td>103.0</td>\n",
       "    </tr>\n",
       "    <tr>\n",
       "      <th>2</th>\n",
       "      <td>Bahrain</td>\n",
       "      <td>NaN</td>\n",
       "      <td>0</td>\n",
       "      <td>103.0</td>\n",
       "    </tr>\n",
       "    <tr>\n",
       "      <th>3</th>\n",
       "      <td>Belgium</td>\n",
       "      <td>93.2</td>\n",
       "      <td>73</td>\n",
       "      <td>93.2</td>\n",
       "    </tr>\n",
       "    <tr>\n",
       "      <th>4</th>\n",
       "      <td>Brazil</td>\n",
       "      <td>NaN</td>\n",
       "      <td>0</td>\n",
       "      <td>103.0</td>\n",
       "    </tr>\n",
       "  </tbody>\n",
       "</table>\n",
       "</div>"
      ],
      "text/plain": [
       "     Country  percentile_90  transaction_count  threshold\n",
       "0  Australia          108.8                 45      108.8\n",
       "1    Austria          123.0                  6      103.0\n",
       "2    Bahrain            NaN                  0      103.0\n",
       "3    Belgium           93.2                 73       93.2\n",
       "4     Brazil            NaN                  0      103.0"
      ]
     },
     "execution_count": 21,
     "metadata": {},
     "output_type": "execute_result"
    }
   ],
   "source": [
    "threshold_per_country['threshold'] = threshold_per_country.apply(\n",
    "    lambda row: general_threshold if row['transaction_count'] < 30 else row['percentile_90'],\n",
    "    axis=1\n",
    ")\n",
    "\n",
    "threshold_per_country.head()"
   ]
  },
  {
   "cell_type": "markdown",
   "id": "28e26c1d",
   "metadata": {},
   "source": [
    "### Etiqueta a los clientes como churned\n",
    "\n",
    "Con la nueva tabla de thresholds ahora hay que etiquetar a los clientes perdidos"
   ]
  },
  {
   "cell_type": "code",
   "execution_count": 22,
   "id": "bf350530",
   "metadata": {
    "tags": []
   },
   "outputs": [
    {
     "data": {
      "text/html": [
       "<div>\n",
       "<style scoped>\n",
       "    .dataframe tbody tr th:only-of-type {\n",
       "        vertical-align: middle;\n",
       "    }\n",
       "\n",
       "    .dataframe tbody tr th {\n",
       "        vertical-align: top;\n",
       "    }\n",
       "\n",
       "    .dataframe thead th {\n",
       "        text-align: right;\n",
       "    }\n",
       "</style>\n",
       "<table border=\"1\" class=\"dataframe\">\n",
       "  <thead>\n",
       "    <tr style=\"text-align: right;\">\n",
       "      <th></th>\n",
       "      <th>Country</th>\n",
       "      <th>CustomerID</th>\n",
       "      <th>LastInvoiceDate</th>\n",
       "    </tr>\n",
       "  </thead>\n",
       "  <tbody>\n",
       "    <tr>\n",
       "      <th>0</th>\n",
       "      <td>Australia</td>\n",
       "      <td>12386.0</td>\n",
       "      <td>2011-01-06 12:37:00</td>\n",
       "    </tr>\n",
       "    <tr>\n",
       "      <th>1</th>\n",
       "      <td>Australia</td>\n",
       "      <td>12388.0</td>\n",
       "      <td>2011-11-24 12:30:00</td>\n",
       "    </tr>\n",
       "    <tr>\n",
       "      <th>2</th>\n",
       "      <td>Australia</td>\n",
       "      <td>12393.0</td>\n",
       "      <td>2011-09-28 15:41:00</td>\n",
       "    </tr>\n",
       "    <tr>\n",
       "      <th>3</th>\n",
       "      <td>Australia</td>\n",
       "      <td>12415.0</td>\n",
       "      <td>2011-11-15 14:22:00</td>\n",
       "    </tr>\n",
       "    <tr>\n",
       "      <th>4</th>\n",
       "      <td>Australia</td>\n",
       "      <td>12422.0</td>\n",
       "      <td>2011-09-05 09:48:00</td>\n",
       "    </tr>\n",
       "  </tbody>\n",
       "</table>\n",
       "</div>"
      ],
      "text/plain": [
       "     Country  CustomerID     LastInvoiceDate\n",
       "0  Australia     12386.0 2011-01-06 12:37:00\n",
       "1  Australia     12388.0 2011-11-24 12:30:00\n",
       "2  Australia     12393.0 2011-09-28 15:41:00\n",
       "3  Australia     12415.0 2011-11-15 14:22:00\n",
       "4  Australia     12422.0 2011-09-05 09:48:00"
      ]
     },
     "execution_count": 22,
     "metadata": {},
     "output_type": "execute_result"
    }
   ],
   "source": [
    "last_invoice_date_per_customer = customer_invoices_clean.groupby(['Country','CustomerID'])['InvoiceDate'].max().reset_index().rename(columns={'InvoiceDate': 'LastInvoiceDate'})\n",
    "\n",
    "last_invoice_date_per_customer.head()"
   ]
  },
  {
   "cell_type": "code",
   "execution_count": 23,
   "id": "c244d45f",
   "metadata": {
    "tags": []
   },
   "outputs": [
    {
     "data": {
      "text/html": [
       "<div>\n",
       "<style scoped>\n",
       "    .dataframe tbody tr th:only-of-type {\n",
       "        vertical-align: middle;\n",
       "    }\n",
       "\n",
       "    .dataframe tbody tr th {\n",
       "        vertical-align: top;\n",
       "    }\n",
       "\n",
       "    .dataframe thead th {\n",
       "        text-align: right;\n",
       "    }\n",
       "</style>\n",
       "<table border=\"1\" class=\"dataframe\">\n",
       "  <thead>\n",
       "    <tr style=\"text-align: right;\">\n",
       "      <th></th>\n",
       "      <th>Country</th>\n",
       "      <th>CustomerID</th>\n",
       "      <th>LastInvoiceDate</th>\n",
       "      <th>percentile_90</th>\n",
       "      <th>transaction_count</th>\n",
       "      <th>threshold</th>\n",
       "    </tr>\n",
       "  </thead>\n",
       "  <tbody>\n",
       "    <tr>\n",
       "      <th>0</th>\n",
       "      <td>Australia</td>\n",
       "      <td>12386.0</td>\n",
       "      <td>2011-01-06 12:37:00</td>\n",
       "      <td>108.8</td>\n",
       "      <td>45</td>\n",
       "      <td>108.8</td>\n",
       "    </tr>\n",
       "    <tr>\n",
       "      <th>1</th>\n",
       "      <td>Australia</td>\n",
       "      <td>12388.0</td>\n",
       "      <td>2011-11-24 12:30:00</td>\n",
       "      <td>108.8</td>\n",
       "      <td>45</td>\n",
       "      <td>108.8</td>\n",
       "    </tr>\n",
       "    <tr>\n",
       "      <th>2</th>\n",
       "      <td>Australia</td>\n",
       "      <td>12393.0</td>\n",
       "      <td>2011-09-28 15:41:00</td>\n",
       "      <td>108.8</td>\n",
       "      <td>45</td>\n",
       "      <td>108.8</td>\n",
       "    </tr>\n",
       "    <tr>\n",
       "      <th>3</th>\n",
       "      <td>Australia</td>\n",
       "      <td>12415.0</td>\n",
       "      <td>2011-11-15 14:22:00</td>\n",
       "      <td>108.8</td>\n",
       "      <td>45</td>\n",
       "      <td>108.8</td>\n",
       "    </tr>\n",
       "    <tr>\n",
       "      <th>4</th>\n",
       "      <td>Australia</td>\n",
       "      <td>12422.0</td>\n",
       "      <td>2011-09-05 09:48:00</td>\n",
       "      <td>108.8</td>\n",
       "      <td>45</td>\n",
       "      <td>108.8</td>\n",
       "    </tr>\n",
       "  </tbody>\n",
       "</table>\n",
       "</div>"
      ],
      "text/plain": [
       "     Country  CustomerID     LastInvoiceDate  percentile_90  \\\n",
       "0  Australia     12386.0 2011-01-06 12:37:00          108.8   \n",
       "1  Australia     12388.0 2011-11-24 12:30:00          108.8   \n",
       "2  Australia     12393.0 2011-09-28 15:41:00          108.8   \n",
       "3  Australia     12415.0 2011-11-15 14:22:00          108.8   \n",
       "4  Australia     12422.0 2011-09-05 09:48:00          108.8   \n",
       "\n",
       "   transaction_count  threshold  \n",
       "0                 45      108.8  \n",
       "1                 45      108.8  \n",
       "2                 45      108.8  \n",
       "3                 45      108.8  \n",
       "4                 45      108.8  "
      ]
     },
     "execution_count": 23,
     "metadata": {},
     "output_type": "execute_result"
    }
   ],
   "source": [
    "customers = last_invoice_date_per_customer.merge(threshold_per_country, on='Country')\n",
    "customers.head()"
   ]
  },
  {
   "cell_type": "code",
   "execution_count": 24,
   "id": "1c8e340c",
   "metadata": {
    "tags": []
   },
   "outputs": [
    {
     "data": {
      "text/html": [
       "<div>\n",
       "<style scoped>\n",
       "    .dataframe tbody tr th:only-of-type {\n",
       "        vertical-align: middle;\n",
       "    }\n",
       "\n",
       "    .dataframe tbody tr th {\n",
       "        vertical-align: top;\n",
       "    }\n",
       "\n",
       "    .dataframe thead th {\n",
       "        text-align: right;\n",
       "    }\n",
       "</style>\n",
       "<table border=\"1\" class=\"dataframe\">\n",
       "  <thead>\n",
       "    <tr style=\"text-align: right;\">\n",
       "      <th></th>\n",
       "      <th>Country</th>\n",
       "      <th>CustomerID</th>\n",
       "      <th>LastInvoiceDate</th>\n",
       "      <th>percentile_90</th>\n",
       "      <th>transaction_count</th>\n",
       "      <th>threshold</th>\n",
       "      <th>inactivity_days</th>\n",
       "      <th>churned</th>\n",
       "    </tr>\n",
       "  </thead>\n",
       "  <tbody>\n",
       "    <tr>\n",
       "      <th>0</th>\n",
       "      <td>Australia</td>\n",
       "      <td>12386.0</td>\n",
       "      <td>2011-01-06 12:37:00</td>\n",
       "      <td>108.8</td>\n",
       "      <td>45</td>\n",
       "      <td>108.8</td>\n",
       "      <td>337</td>\n",
       "      <td>1</td>\n",
       "    </tr>\n",
       "    <tr>\n",
       "      <th>1</th>\n",
       "      <td>Australia</td>\n",
       "      <td>12388.0</td>\n",
       "      <td>2011-11-24 12:30:00</td>\n",
       "      <td>108.8</td>\n",
       "      <td>45</td>\n",
       "      <td>108.8</td>\n",
       "      <td>15</td>\n",
       "      <td>0</td>\n",
       "    </tr>\n",
       "    <tr>\n",
       "      <th>2</th>\n",
       "      <td>Australia</td>\n",
       "      <td>12393.0</td>\n",
       "      <td>2011-09-28 15:41:00</td>\n",
       "      <td>108.8</td>\n",
       "      <td>45</td>\n",
       "      <td>108.8</td>\n",
       "      <td>71</td>\n",
       "      <td>0</td>\n",
       "    </tr>\n",
       "    <tr>\n",
       "      <th>3</th>\n",
       "      <td>Australia</td>\n",
       "      <td>12415.0</td>\n",
       "      <td>2011-11-15 14:22:00</td>\n",
       "      <td>108.8</td>\n",
       "      <td>45</td>\n",
       "      <td>108.8</td>\n",
       "      <td>23</td>\n",
       "      <td>0</td>\n",
       "    </tr>\n",
       "    <tr>\n",
       "      <th>4</th>\n",
       "      <td>Australia</td>\n",
       "      <td>12422.0</td>\n",
       "      <td>2011-09-05 09:48:00</td>\n",
       "      <td>108.8</td>\n",
       "      <td>45</td>\n",
       "      <td>108.8</td>\n",
       "      <td>95</td>\n",
       "      <td>0</td>\n",
       "    </tr>\n",
       "  </tbody>\n",
       "</table>\n",
       "</div>"
      ],
      "text/plain": [
       "     Country  CustomerID     LastInvoiceDate  percentile_90  \\\n",
       "0  Australia     12386.0 2011-01-06 12:37:00          108.8   \n",
       "1  Australia     12388.0 2011-11-24 12:30:00          108.8   \n",
       "2  Australia     12393.0 2011-09-28 15:41:00          108.8   \n",
       "3  Australia     12415.0 2011-11-15 14:22:00          108.8   \n",
       "4  Australia     12422.0 2011-09-05 09:48:00          108.8   \n",
       "\n",
       "   transaction_count  threshold  inactivity_days  churned  \n",
       "0                 45      108.8              337        1  \n",
       "1                 45      108.8               15        0  \n",
       "2                 45      108.8               71        0  \n",
       "3                 45      108.8               23        0  \n",
       "4                 45      108.8               95        0  "
      ]
     },
     "execution_count": 24,
     "metadata": {},
     "output_type": "execute_result"
    }
   ],
   "source": [
    "customers['inactivity_days'] = (snapshot_date - customers['LastInvoiceDate']).dt.days\n",
    "customers['churned'] = (customers['inactivity_days'] > customers['threshold']).astype('int')\n",
    "\n",
    "customers.head()"
   ]
  },
  {
   "cell_type": "code",
   "execution_count": 25,
   "id": "65632bc0",
   "metadata": {
    "tags": []
   },
   "outputs": [
    {
     "data": {
      "text/plain": [
       "<Axes: xlabel='Country'>"
      ]
     },
     "execution_count": 25,
     "metadata": {},
     "output_type": "execute_result"
    },
    {
     "data": {
      "image/png": "[encoded data removed]",
      "text/plain": [
       "<Figure size 640x480 with 1 Axes>"
      ]
     },
     "metadata": {},
     "output_type": "display_data"
    }
   ],
   "source": [
    "customers.groupby('Country')['churned'].mean().plot(kind='bar')"
   ]
  },
  {
   "cell_type": "markdown",
   "id": "5153e81b",
   "metadata": {},
   "source": [
    "## Algoritmo para predecir el LTV a 24 meses\n",
    "\n",
    "### Preparación de los datos\n",
    "\n",
    "1. **Colección y limpieza de datos:**\n",
    "    - Asegurarse de que los datos incluyan información relevante como demografía del cliente, historial de compras y métricas de interacción.\n",
    "    - Limpiar los datos para manejar valores faltantes, outliers y consistencia de formatos.\n",
    "    - Define y calcula la variable objetivo.\n",
    "\n",
    "### Ingeniería de características\n",
    "\n",
    "2. **Creación de características:**\n",
    "    - Crear características que reflejen el comportamiento del cliente, tales como el gasto total, la cantidad promedio de transacciones, la frecuencia de compra, y el tiempo desde la última compra.\n",
    "    - Considerar la creación de características en ventanas de tiempo como el gasto total en los últimos 6 o 12 meses.\n",
    "\n",
    "### Análisis exploratorio de datos (EDA)\n",
    "\n",
    "3. **Análisis exploratorio:**\n",
    "    - Analizar los datos para entender patrones y relaciones.\n",
    "    - Visualizar las distribuciones del gasto y otras métricas relevantes a través de diferentes segmentos de clientes.\n",
    "    - Agrupar clientes basándose en la fecha de su primera compra y seguir su comportamiento a lo largo del tiempo.\n",
    "\n",
    "\n",
    "### Modelado predictivo\n",
    "\n",
    "4. **Modelado predictivo:**\n",
    "    - Dividir los datos en conjuntos de entrenamiento y prueba.\n",
    "    - Elegir un modelo de regresión adecuado para predecir un resultado continuo como el LTV.\n",
    "    - Entrenar el modelo en los datos de entrenamiento utilizando las características desarrolladas.\n",
    "\n",
    "### Evaluación del modelo\n",
    "\n",
    "5. **Evaluación del modelo:**\n",
    "    - Evaluar el modelo en el conjunto de prueba usando métricas adecuadas, como el error cuadrático medio (RMSE) o el error absoluto medio (MAE).\n",
    "    - Analizar los residuales para asegurar que el modelo funciona bien en todos los segmentos de clientes.\n",
    "\n",
    "### Interpretación del modelo y aplicación de insights\n",
    "\n",
    "6. **Interpretación y acción:**\n",
    "    - Interpretar el modelo para entender qué características son más predictivas del LTV.\n",
    "    - Usar la salida del modelo para segmentar clientes basándose en su LTV predicho y dirigirles estrategias de marketing específicas.\n",
    "\n",
    "### Despliegue y monitoreo\n",
    "\n",
    "7. **Despliegue y monitoreo:**\n",
    "    - Implementar el modelo en un entorno de producción donde pueda predecir el LTV de nuevos clientes.\n",
    "    - Monitorear regularmente el desempeño del modelo y actualizarlo según sea necesario para manejar cambios en el comportamiento del cliente o en las condiciones del mercado."
   ]
  },
  {
   "cell_type": "code",
   "execution_count": null,
   "id": "62247b71-8d1e-44db-b387-3107b60bf0b2",
   "metadata": {},
   "outputs": [],
   "source": []
  }
 ],
 "metadata": {
  "celltoolbar": "Raw Cell Format",
  "kernelspec": {
   "display_name": "Python 3 (ipykernel)",
   "language": "python",
   "name": "python3"
  },
  "language_info": {
   "codemirror_mode": {
    "name": "ipython",
    "version": 3
   },
   "file_extension": ".py",
   "mimetype": "text/x-python",
   "name": "python",
   "nbconvert_exporter": "python",
   "pygments_lexer": "ipython3",
   "version": "3.11.4"
  }
 },
 "nbformat": 4,
 "nbformat_minor": 5
}
