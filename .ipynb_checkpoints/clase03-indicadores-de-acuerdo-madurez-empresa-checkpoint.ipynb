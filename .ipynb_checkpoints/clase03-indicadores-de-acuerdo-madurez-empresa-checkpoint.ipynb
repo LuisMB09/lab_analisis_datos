{
 "cells": [
  {
   "cell_type": "markdown",
   "id": "f4cc8d62",
   "metadata": {},
   "source": [
    "# Indicadores por madurez de la compañia y área del negocio\n",
    "\n",
    "Exploraremos como es que el nivel de madurez influyen en la selección de KPIs. Distinguiremos entre indicadores \"Lead\" y \"Lag\" y ahondaremos en indicadores por área de negocio.\n",
    "\n",
    "## Objetivo\n",
    "- Entender como la madurez de la compañia afecta el enfoque de KPIs.\n",
    "- Distinguir entre indicadores Lead y Lag.\n",
    "- Aplicar este conocimiento en un caso de estudio para elegir KPIs apropiados basados en el nivel de madurez de la compañia y la disponibilidad de datos.\n",
    "\n",
    "**Referencias:** Para una mejor comprensión visiten los siguientes vinculos:\n",
    "- [Ladder of Proof](https://medium.com/@nfx/the-ladder-of-proof-56254ddd675f) por NFX, ayuda a entender a las Startups los pasos necesarios para probar que su modelo de negocio es atractivo.\n",
    "- [Investopedia - Seed Capital](https://www.investopedia.com/terms/s/seedcapital.asp)\n",
    "- [Forbes - KPIs](https://www.forbes.com/councils/theyec/2023/06/29/11-key-performance-indicators-your-business-should-be-tracking-and-why/)\n",
    "- [Roman Pichler - How to Choose the Right KPIs](https://romanpichler.medium.com/how-to-choose-the-right-kpis-5f7957ed5ef6)"
   ]
  },
  {
   "cell_type": "markdown",
   "id": "09d2681d",
   "metadata": {},
   "source": [
    "## Niveles de madures en la empresa y enfoque en KPIs\n",
    "\n",
    "Los negocios atraviesan diversas etapas de crecimiento, cada una con sus propios desafíos y oportunidades. Para navegar con éxito en este camino, es fundamental seleccionar los indicadores clave de desempeño (KPIs) más adecuados. Estos indicadores nos permiten medir el progreso hacia nuestros objetivos y tomar decisiones estratégicas basadas en datos. **Sin embargo, es crucial reconocer que los KPIs son solo una parte de la ecuación.** Si bien son esenciales para monitorear el rendimiento general del negocio, no proporcionan una visión completa de la salud de la organización. Es necesario complementar los KPIs con otros indicadores y análisis cualitativos para obtener una comprensión más profunda de los factores que influyen en el éxito.\n",
    "\n",
    "### 1. Etapa pre-semilla y semilla (pre-seed y seed).\n",
    "- **Enfoque:** Esta etapa es para probar el concepto inicial, desarrollar el producto y ganar los primeros usuarios o clientes.\n",
    "- **KPIs típicos:**\n",
    "  - **User Engagement:** Mide la interacción del usuario con el producto, crucial para refinar la experiencia del usuario. La formula depende completamente del producto, pero comunmente puede encontrarse como tiempo promedio en la aplicación por usuario, click through rate, returning rate, etc...\n",
    "  - **Retroalimentaciones de Early Adopter:** Insights cualitativos de usuarios iniciales que guian el desarrollo del producto.\n",
    "  - **Monthly Active Users (MAU):** Métrica vital para medir la tracción inicial y la retención de los usuarios.\n",
    "    - Formula: $\\text{MAU} = \\text{Unique Users per Month}$\n",
    "  - **Burn Rate:** Tasa a la cual la compañia se gasta la inversión para financiar la idea antes de generar flujo de caja positivo de las operaciones.\n",
    "    - Formula: $\\text{Burn Rate} = \\frac{\\text{Dinero gastado a traves del periodo}}{\\text{Periodo de tiempo}}$\n",
    "  - **Cash Runway:** Tiempo (normalmente mencionado en meses) que tienes de vida como startup antes de que se le acabe el dinero. Esta métrica es importante por que te ayuda a seguir tu progreso y el tiempo que tienes para alcanzar a ser rentable.\n",
    "      - Formula: $\\text{Cash Runway} = \\frac{\\text{Capital}}{\\text{Burn Rate}}$\n",
    "\n",
    "### 2. Series A a C\n",
    "- **Enfoque:** Las compañias en esta etapa están escalando las operaciones, expandiendo el mercado, y construyendo la linea de productos.\n",
    "- **KPIs típicos:**\n",
    "  - **Customer Acquisition Cost (CAC):** Costos asociados con convencer al cliente para adquirir el producto o servicio. Crucial para etender la escabilidad de los esfuerzos de venta.\n",
    "    - Formula: $\\text{CAC} = \\frac{\\text{Gastos totales de Marketing y Ventas}}{\\text{Número de nuevos clientes adquiridos}}$\n",
    "  - **Customer Lifetime Value (CLTV):** Predice el revenue total que un negocio puede esperar de manera razonable de un cliente a traves de la relación comercial que tenga con el negocio.\n",
    "    - Formula: $\\text{CLTV} = \\frac{\\text{Average Revenue per User (ARPU)} \\times \\text{Gross Margin}}{\\text{Churn Rate}}$\n",
    "  - **Tasa de crecimiento de ingresos:** Indica el ritmo al cual el ingreso de la compañía esta creciento, ayudando a medir el éxito de las estrategias de ventas y marketing.\n",
    "    - Formula: $\\text{Tasa de crecimiento de ingresos} = \\frac{\\text{Ingresos del periodo actual}}{\\text{Ingresos del periodo pasado}} - 1$\n",
    "  - **Churn Rate:** Mide la tasa a la cual los clientes dejan de tener una relación comercial con el negocio. Importante para entender la retención de los clientes.\n",
    "    - Formula: $\\text{Churn Rate} = \\frac{\\text{Numero de clientes perdidos en el periodo}}{\\text{Clientes que comenzaron al inicio del periodo + Clientes adquiridos en el periodo}}$\n",
    "\n",
    "### 3. Compañias maduras o independientes de inversión\n",
    "- **Enfoque:** El enfoque cambia a sostenibilidad, eficiencia y maximizar el valor para los accionistas o dueños.\n",
    "- **KPIs típicos:**\n",
    "  - **Net Promoter Score (NPS):** Refleja la satisfacción y lealtad de los clientes. Crucial para negocios maduros enfocados en mantener o aumentar el número de sus clientes.\n",
    "    - Formula: $\\text{NPS} = (\\text{% Promotores (9 o 10)} - \\text{% Detractores (6 o menos)}) \\times 100$\n",
    "  - **Market Share:** Indica el porcentaje de las ventas de una industria que controla una determinada empresa, mostrando una posición competitiva.\n",
    "    - Formula: $\\text{Market Share} = \\frac{\\text{Ventas de la compañia}}{\\text{Ventas totales de la industria}} \\times 100$\n",
    "  - **EBITDA:** Provides insight into profitability before the effects of interest, taxes, depreciation, and amortization.\n",
    "    - Formula: $\\text{EBITDA} = \\text{Ingresos} - \\text{Costos y gastos (excluyendo impuestos, intereses, depreciación, y amortización)}$\n",
    "  - **Return on Assets (ROA):** Indica que tan eficiente una compañía puede administrar sus actuvis para producir ganancias durante un periodo.\n",
    "    - Formula: $\\text{ROA} = \\frac{\\text{Ingreso neto}}{\\text{Activos totales}}$\n",
    "\n",
    "Esta sección marca la importancia de alinear los KPIs con la etapa de desarrollo de la empresa para asegurar que reflejan y apoyan adecuacuadamente los objetivos de la empresa y sus necesidades operacionales.\n",
    "\n",
    "**EJEMPLOS DE EMPRESAS SELECCIONADAS POR ALUMNOS**\n"
   ]
  },
  {
   "cell_type": "markdown",
   "id": "e9b9630f",
   "metadata": {},
   "source": [
    "## Indicadores Lead y Lag\n",
    "\n",
    "Lead y Lag son dos tipos de indicadores usados para medir el desempeño. Sirven para propositos distintos y proveen conclusiones a diferentes tiempos del ciclo de la empresa.\n",
    "\n",
    "**Referencias:** [Investopedia - Lead and Lag Indicators](https://www.investopedia.com/ask/answers/what-are-leading-lagging-and-coincident-indicators/)\n",
    "\n",
    "### Indicadores Lead\n",
    "- **Definición:** Indicadores Lead son medidas predictivas que mandan señales de eventos futuros y son útiles para influir en el cambio. Por lo general, ofrecen datos en tiempo real que pueden predecir el resultado de un proceso.\n",
    "- **Ejemplos:**\n",
    "    - **Customer Satisfaction (CSAT):** Puede indicar retención y recurrencia de los usuarios. Indicador Lead especificamente para áreas como ventas, producto o retención de clientes.\n",
    "    - **Trafico del sitio web:** Puede indicar ventas futuras de la empresa.\n",
    "    - **Horas de etrenamiento de empleados:** Correlacionada positivamente con mejoras en la calidad de producción o entrega de servicio.\n",
    "- **Ventajas:** Teniendo vista al futuro, los indicadores Lead pueden ayudar a directivos a hacer ajusted proactivos antes de que los resultados Lag sean aparentes.\n",
    "\n",
    "### Indicadores Lag\n",
    "- **Definición:** Los indicadores lag miden el resultado de los procesos, mostrando el impacto de las acciones pasadas al final del periodo. Estan enfocadas en resultados.\n",
    "- **Ejemplos:**\n",
    "  - **Ganancia trimestral:** Refleja el desempeño financiero del pasado.\n",
    "  - **Customer Satisfaction (CSAT):** Es obtenido despues de que el cliente interactua con el producto o servicio.\n",
    "- **Ventajas:** Son útiles para declarar objetivos y evaluaciones de desempeño. Proveen datos que son certeros y fáciles de recolectar y entender.\n",
    "\n",
    "Entender la diferencia entre indicadores Lead y Lag, y como pueden ser aplicados de manera estrategica en el contexto de las actividades operacionales de una empresa, es crucial para una administración y toma de decisión efectiva."
   ]
  },
  {
   "cell_type": "markdown",
   "id": "ae431c05",
   "metadata": {},
   "source": [
    "## Caso práctico: OptiTech Solutions\n",
    "\n",
    "**Antecedentes:**\n",
    "OptiTech Solutions es una empresa de tecnología en expansión que se especializa en la implementación de soluciones de Inteligencia Artificial para pequeñas empresas. Desde su fundación hace cinco años, OptiTech ha progresado desde las fases iniciales de financiamiento hasta la etapa de crecimiento acelerado. Actualmente, la empresa se está preparando para una ronda de financiación Serie B, con el objetivo de ampliar su presencia en el mercado y mejorar las funcionalidades de sus productos.\n",
    "\n",
    "**Desafío:**\n",
    "El reto principal de OptiTech Solutions es fortalecer su toma de decisiones estratégicas para atraer inversionistas y asegurar un crecimiento sostenible. Para esto, el equipo directivo pretende optimizar sus Indicadores Clave de Desempeño (KPIs) relacionados con la adquisición de clientes y su satisfacción, facilitando así decisiones más informadas y adaptativas frente a las exigencias del mercado.\n",
    "\n",
    "**Datos disponibles:**\n",
    "Descripción de los datos\n",
    "- Date: Mes y año de registro.\n",
    "- Marketing_Expenditure: Fondos dedicados a Marketing.\n",
    "- Web_Traffic: Numero de visitas en la página.\n",
    "- New_Customers: Clientes nuevos adquiridos mensualmente.\n",
    "- Beginning_Customers: Clientes totales al inicio del mes.\n",
    "- Monthly_Revenue: Ingreso mensual.\n",
    "- Employee_Training_Hours: Horas dedicadas al entrenamiento de empleados al mes.\n",
    "- Total_Customer_Respondents: Clientes que contestaron la encuesta CSAT.\n",
    "- High_Customer_Score_Respondents: Clientes que dieron una calificación de 4 o 5 al CSAT.\n",
    "- Total_Employee_Respondents: Empleados que contestaron el eNPS.\n",
    "- Promoters_Employee_Score_Respondents: Empleados que dieron una calificación de 9 o 10 al eNPS.\n",
    "- Detractors_Employee_Score_Respondents: Empleados que dieron una calificación de 6 o menos al eNPS.\n",
    "\n",
    "**Su actividad:**\n",
    "Como consultores, su grupo tiene la tarea de:\n",
    "1. Revisar la trayectoria de crecimiento de la empresa:\n",
    "    - Analizar los datos históricos de ingresos y gastos de marketing para evaluar la salud financiera y los patrones de crecimiento de OptiTech Solutions.\n",
    "    - Evaluar el tráfico web y las tendencias de adquisición de clientes para inferir el alcance del mercado y la visibilidad de la marca.\n",
    "\n",
    "&nbsp;\n",
    "\n",
    "2. Definir indicadores clave de rendimiento (KPI):\n",
    "    - Determinar los KPIs más cruciales que correspondan con la fase actual de desarrollo de la empresa y sus metas estratégicas, incluyendo métricas financieras y no financieras.\n",
    "    - Proponer Lead KPIs que proporcionen información predictiva para los ajustes operativos y Lag KPIs para la planificación estratégica.\n",
    "\n",
    "&nbsp;\n",
    "\n",
    "3. Cálculo de métricas:\n",
    "    - Calcule los KPI seleccionados utilizando los datos históricos proporcionados. Utilice Python y pandas en su Jupyter Notebook para la manipulación y el cálculo de datos.\n",
    "    - Analice las tendencias y los patrones de estas métricas para proporcionar información sobre la eficacia operativa y la alineación estratégica.\n",
    "\n",
    "&nbsp;\n",
    "\n",
    "4. Establecer parámetros de referencia (benchmarks):\n",
    "    - Investigar los estándares de la industria y los parámetros de referencia de empresas tecnológicas similares en etapas comparables de crecimiento.\n",
    "    - Comparar el desempeño de OptiTech con estos parámetros de referencia para identificar áreas de fortaleza y oportunidades de mejora.\n",
    "\n",
    "&nbsp;\n",
    "\n",
    "5. Presentar los hallazgos:\n",
    "    - Resume el análisis, los hallazgos y las recomendaciones.\n",
    "    - Resalta cómo los KPIs propuestos pueden ayudar a OptiTech a lograr sus objetivos estratégicos y prepararse de manera eficaz para la ronda de financiación de la Serie B."
   ]
  },
  {
   "cell_type": "markdown",
   "id": "a6ac98f2-c9b8-4726-b8ff-33cde6a924b7",
   "metadata": {
    "tags": []
   },
   "source": [
    "**Punto 2**\n",
    "\n",
    "Los indicadores a elegir para el caso son el CAC y el CSAT.\n",
    "\n",
    "El CAC es una métrica que nos indica cuanto le cuesta a la empresa conseguir nuevos clientes, por la etapa en la que se encuentran calcularlo es algo útil para presentarle a los nuevos inversionistas, y se tienen disponibles los datos neecsarios para calcular este indicador.\n",
    "\n",
    "EL CSAT nos ayudará a conocer que tantos clientes están satisfechos con el servicio que ofrece la empresa y si tiene una buena relación entre clientes satisfechos y no satisfechos.\n",
    "\n",
    "El CAC sería el indicador lead, pues da una perspectiva de cuento esta costando adquirir clientes y con ello te da una idea de que tan bien estará la empresa a futuro dependiendo que tan caro es conseguir nuevos clientes. El CSAT es el indicador lag, pues es un resultado de lo bien que ofreces el servicio y te dice la satisfacción del cliente."
   ]
  },
  {
   "cell_type": "markdown",
   "id": "3f7db353-e248-445c-8771-199daf92de1d",
   "metadata": {},
   "source": [
    "**Punto 3 y 4**"
   ]
  },
  {
   "cell_type": "code",
   "execution_count": 1,
   "id": "767d393a",
   "metadata": {
    "tags": []
   },
   "outputs": [],
   "source": [
    "import pandas as pd"
   ]
  },
  {
   "cell_type": "code",
   "execution_count": 2,
   "id": "ebaa204e-066f-4e2d-a7cc-b525384d4899",
   "metadata": {
    "tags": []
   },
   "outputs": [
    {
     "data": {
      "text/html": [
       "<div>\n",
       "<style scoped>\n",
       "    .dataframe tbody tr th:only-of-type {\n",
       "        vertical-align: middle;\n",
       "    }\n",
       "\n",
       "    .dataframe tbody tr th {\n",
       "        vertical-align: top;\n",
       "    }\n",
       "\n",
       "    .dataframe thead th {\n",
       "        text-align: right;\n",
       "    }\n",
       "</style>\n",
       "<table border=\"1\" class=\"dataframe\">\n",
       "  <thead>\n",
       "    <tr style=\"text-align: right;\">\n",
       "      <th></th>\n",
       "      <th>Date</th>\n",
       "      <th>Marketing_Expenditure</th>\n",
       "      <th>Web_Traffic</th>\n",
       "      <th>New_Customers</th>\n",
       "      <th>Beginning_Customers</th>\n",
       "      <th>Monthly_Revenue</th>\n",
       "      <th>Employee_Training_Hours</th>\n",
       "      <th>Total_Customer_Respondents</th>\n",
       "      <th>High_Customer_Score_Respondents</th>\n",
       "      <th>Total_Employee_Respondents</th>\n",
       "      <th>Promoters_Employee_Score_Respondents</th>\n",
       "      <th>Detractors_Employee_Score_Respondents</th>\n",
       "    </tr>\n",
       "  </thead>\n",
       "  <tbody>\n",
       "    <tr>\n",
       "      <th>0</th>\n",
       "      <td>2019-01-31</td>\n",
       "      <td>14542</td>\n",
       "      <td>23452</td>\n",
       "      <td>71</td>\n",
       "      <td>71</td>\n",
       "      <td>65003</td>\n",
       "      <td>115</td>\n",
       "      <td>232</td>\n",
       "      <td>63</td>\n",
       "      <td>85</td>\n",
       "      <td>17</td>\n",
       "      <td>5</td>\n",
       "    </tr>\n",
       "    <tr>\n",
       "      <th>1</th>\n",
       "      <td>2019-02-28</td>\n",
       "      <td>29014</td>\n",
       "      <td>25523</td>\n",
       "      <td>16</td>\n",
       "      <td>79</td>\n",
       "      <td>32044</td>\n",
       "      <td>137</td>\n",
       "      <td>285</td>\n",
       "      <td>122</td>\n",
       "      <td>75</td>\n",
       "      <td>26</td>\n",
       "      <td>4</td>\n",
       "    </tr>\n",
       "    <tr>\n",
       "      <th>2</th>\n",
       "      <td>2019-03-31</td>\n",
       "      <td>27571</td>\n",
       "      <td>15227</td>\n",
       "      <td>44</td>\n",
       "      <td>124</td>\n",
       "      <td>57586</td>\n",
       "      <td>128</td>\n",
       "      <td>258</td>\n",
       "      <td>116</td>\n",
       "      <td>57</td>\n",
       "      <td>21</td>\n",
       "      <td>3</td>\n",
       "    </tr>\n",
       "    <tr>\n",
       "      <th>3</th>\n",
       "      <td>2019-04-30</td>\n",
       "      <td>27316</td>\n",
       "      <td>13223</td>\n",
       "      <td>17</td>\n",
       "      <td>141</td>\n",
       "      <td>66405</td>\n",
       "      <td>101</td>\n",
       "      <td>214</td>\n",
       "      <td>91</td>\n",
       "      <td>99</td>\n",
       "      <td>36</td>\n",
       "      <td>7</td>\n",
       "    </tr>\n",
       "    <tr>\n",
       "      <th>4</th>\n",
       "      <td>2019-05-31</td>\n",
       "      <td>25355</td>\n",
       "      <td>29371</td>\n",
       "      <td>95</td>\n",
       "      <td>228</td>\n",
       "      <td>95995</td>\n",
       "      <td>113</td>\n",
       "      <td>235</td>\n",
       "      <td>93</td>\n",
       "      <td>77</td>\n",
       "      <td>25</td>\n",
       "      <td>5</td>\n",
       "    </tr>\n",
       "  </tbody>\n",
       "</table>\n",
       "</div>"
      ],
      "text/plain": [
       "         Date  Marketing_Expenditure  Web_Traffic  New_Customers  \\\n",
       "0  2019-01-31                  14542        23452             71   \n",
       "1  2019-02-28                  29014        25523             16   \n",
       "2  2019-03-31                  27571        15227             44   \n",
       "3  2019-04-30                  27316        13223             17   \n",
       "4  2019-05-31                  25355        29371             95   \n",
       "\n",
       "   Beginning_Customers  Monthly_Revenue  Employee_Training_Hours  \\\n",
       "0                   71            65003                      115   \n",
       "1                   79            32044                      137   \n",
       "2                  124            57586                      128   \n",
       "3                  141            66405                      101   \n",
       "4                  228            95995                      113   \n",
       "\n",
       "   Total_Customer_Respondents  High_Customer_Score_Respondents  \\\n",
       "0                         232                               63   \n",
       "1                         285                              122   \n",
       "2                         258                              116   \n",
       "3                         214                               91   \n",
       "4                         235                               93   \n",
       "\n",
       "   Total_Employee_Respondents  Promoters_Employee_Score_Respondents  \\\n",
       "0                          85                                    17   \n",
       "1                          75                                    26   \n",
       "2                          57                                    21   \n",
       "3                          99                                    36   \n",
       "4                          77                                    25   \n",
       "\n",
       "   Detractors_Employee_Score_Respondents  \n",
       "0                                      5  \n",
       "1                                      4  \n",
       "2                                      3  \n",
       "3                                      7  \n",
       "4                                      5  "
      ]
     },
     "execution_count": 2,
     "metadata": {},
     "output_type": "execute_result"
    }
   ],
   "source": [
    "df = pd.read_csv('optitech_solutions_data.csv')\n",
    "df.head()"
   ]
  },
  {
   "cell_type": "code",
   "execution_count": 3,
   "id": "8bbe97f2-89f7-4986-afe4-9f89612f3245",
   "metadata": {
    "tags": []
   },
   "outputs": [
    {
     "name": "stdout",
     "output_type": "stream",
     "text": [
      "<class 'pandas.core.frame.DataFrame'>\n",
      "RangeIndex: 60 entries, 0 to 59\n",
      "Data columns (total 12 columns):\n",
      " #   Column                                 Non-Null Count  Dtype \n",
      "---  ------                                 --------------  ----- \n",
      " 0   Date                                   60 non-null     object\n",
      " 1   Marketing_Expenditure                  60 non-null     int64 \n",
      " 2   Web_Traffic                            60 non-null     int64 \n",
      " 3   New_Customers                          60 non-null     int64 \n",
      " 4   Beginning_Customers                    60 non-null     int64 \n",
      " 5   Monthly_Revenue                        60 non-null     int64 \n",
      " 6   Employee_Training_Hours                60 non-null     int64 \n",
      " 7   Total_Customer_Respondents             60 non-null     int64 \n",
      " 8   High_Customer_Score_Respondents        60 non-null     int64 \n",
      " 9   Total_Employee_Respondents             60 non-null     int64 \n",
      " 10  Promoters_Employee_Score_Respondents   60 non-null     int64 \n",
      " 11  Detractors_Employee_Score_Respondents  60 non-null     int64 \n",
      "dtypes: int64(11), object(1)\n",
      "memory usage: 5.8+ KB\n"
     ]
    }
   ],
   "source": [
    "df.info()"
   ]
  },
  {
   "cell_type": "code",
   "execution_count": 4,
   "id": "c4ed89ab-a019-4719-a131-e59f68b227f9",
   "metadata": {
    "tags": []
   },
   "outputs": [
    {
     "data": {
      "text/html": [
       "<div>\n",
       "<style scoped>\n",
       "    .dataframe tbody tr th:only-of-type {\n",
       "        vertical-align: middle;\n",
       "    }\n",
       "\n",
       "    .dataframe tbody tr th {\n",
       "        vertical-align: top;\n",
       "    }\n",
       "\n",
       "    .dataframe thead th {\n",
       "        text-align: right;\n",
       "    }\n",
       "</style>\n",
       "<table border=\"1\" class=\"dataframe\">\n",
       "  <thead>\n",
       "    <tr style=\"text-align: right;\">\n",
       "      <th></th>\n",
       "      <th>Marketing_Expenditure</th>\n",
       "      <th>Web_Traffic</th>\n",
       "      <th>New_Customers</th>\n",
       "      <th>Beginning_Customers</th>\n",
       "      <th>Monthly_Revenue</th>\n",
       "      <th>Employee_Training_Hours</th>\n",
       "      <th>Total_Customer_Respondents</th>\n",
       "      <th>High_Customer_Score_Respondents</th>\n",
       "      <th>Total_Employee_Respondents</th>\n",
       "      <th>Promoters_Employee_Score_Respondents</th>\n",
       "      <th>Detractors_Employee_Score_Respondents</th>\n",
       "    </tr>\n",
       "  </thead>\n",
       "  <tbody>\n",
       "    <tr>\n",
       "      <th>count</th>\n",
       "      <td>60.000000</td>\n",
       "      <td>60.000000</td>\n",
       "      <td>60.000000</td>\n",
       "      <td>60.000000</td>\n",
       "      <td>6.000000e+01</td>\n",
       "      <td>60.000000</td>\n",
       "      <td>60.000000</td>\n",
       "      <td>60.000000</td>\n",
       "      <td>60.000000</td>\n",
       "      <td>60.000000</td>\n",
       "      <td>60.000000</td>\n",
       "    </tr>\n",
       "    <tr>\n",
       "      <th>mean</th>\n",
       "      <td>23770.650000</td>\n",
       "      <td>23998.700000</td>\n",
       "      <td>48.316667</td>\n",
       "      <td>1299.083333</td>\n",
       "      <td>5.325228e+05</td>\n",
       "      <td>123.166667</td>\n",
       "      <td>232.050000</td>\n",
       "      <td>99.533333</td>\n",
       "      <td>75.133333</td>\n",
       "      <td>26.233333</td>\n",
       "      <td>4.566667</td>\n",
       "    </tr>\n",
       "    <tr>\n",
       "      <th>std</th>\n",
       "      <td>3302.653175</td>\n",
       "      <td>9221.395511</td>\n",
       "      <td>32.123433</td>\n",
       "      <td>769.860328</td>\n",
       "      <td>3.503077e+05</td>\n",
       "      <td>20.818153</td>\n",
       "      <td>46.027046</td>\n",
       "      <td>22.392089</td>\n",
       "      <td>14.611891</td>\n",
       "      <td>5.315046</td>\n",
       "      <td>0.963163</td>\n",
       "    </tr>\n",
       "    <tr>\n",
       "      <th>min</th>\n",
       "      <td>14542.000000</td>\n",
       "      <td>10000.000000</td>\n",
       "      <td>10.000000</td>\n",
       "      <td>71.000000</td>\n",
       "      <td>3.204400e+04</td>\n",
       "      <td>83.000000</td>\n",
       "      <td>150.000000</td>\n",
       "      <td>59.000000</td>\n",
       "      <td>50.000000</td>\n",
       "      <td>17.000000</td>\n",
       "      <td>3.000000</td>\n",
       "    </tr>\n",
       "    <tr>\n",
       "      <th>25%</th>\n",
       "      <td>21308.250000</td>\n",
       "      <td>18215.250000</td>\n",
       "      <td>22.750000</td>\n",
       "      <td>638.250000</td>\n",
       "      <td>2.652680e+05</td>\n",
       "      <td>104.750000</td>\n",
       "      <td>196.000000</td>\n",
       "      <td>84.750000</td>\n",
       "      <td>62.000000</td>\n",
       "      <td>22.000000</td>\n",
       "      <td>4.000000</td>\n",
       "    </tr>\n",
       "    <tr>\n",
       "      <th>50%</th>\n",
       "      <td>24019.000000</td>\n",
       "      <td>23090.000000</td>\n",
       "      <td>41.500000</td>\n",
       "      <td>1264.500000</td>\n",
       "      <td>4.950735e+05</td>\n",
       "      <td>122.500000</td>\n",
       "      <td>237.000000</td>\n",
       "      <td>98.000000</td>\n",
       "      <td>76.500000</td>\n",
       "      <td>26.000000</td>\n",
       "      <td>4.500000</td>\n",
       "    </tr>\n",
       "    <tr>\n",
       "      <th>75%</th>\n",
       "      <td>25557.000000</td>\n",
       "      <td>28350.500000</td>\n",
       "      <td>66.250000</td>\n",
       "      <td>1849.500000</td>\n",
       "      <td>7.556240e+05</td>\n",
       "      <td>138.000000</td>\n",
       "      <td>272.000000</td>\n",
       "      <td>117.500000</td>\n",
       "      <td>85.000000</td>\n",
       "      <td>29.250000</td>\n",
       "      <td>5.000000</td>\n",
       "    </tr>\n",
       "    <tr>\n",
       "      <th>max</th>\n",
       "      <td>29950.000000</td>\n",
       "      <td>51420.000000</td>\n",
       "      <td>134.000000</td>\n",
       "      <td>2727.000000</td>\n",
       "      <td>1.674471e+06</td>\n",
       "      <td>182.000000</td>\n",
       "      <td>298.000000</td>\n",
       "      <td>142.000000</td>\n",
       "      <td>99.000000</td>\n",
       "      <td>39.000000</td>\n",
       "      <td>7.000000</td>\n",
       "    </tr>\n",
       "  </tbody>\n",
       "</table>\n",
       "</div>"
      ],
      "text/plain": [
       "       Marketing_Expenditure   Web_Traffic  New_Customers  \\\n",
       "count              60.000000     60.000000      60.000000   \n",
       "mean            23770.650000  23998.700000      48.316667   \n",
       "std              3302.653175   9221.395511      32.123433   \n",
       "min             14542.000000  10000.000000      10.000000   \n",
       "25%             21308.250000  18215.250000      22.750000   \n",
       "50%             24019.000000  23090.000000      41.500000   \n",
       "75%             25557.000000  28350.500000      66.250000   \n",
       "max             29950.000000  51420.000000     134.000000   \n",
       "\n",
       "       Beginning_Customers  Monthly_Revenue  Employee_Training_Hours  \\\n",
       "count            60.000000     6.000000e+01                60.000000   \n",
       "mean           1299.083333     5.325228e+05               123.166667   \n",
       "std             769.860328     3.503077e+05                20.818153   \n",
       "min              71.000000     3.204400e+04                83.000000   \n",
       "25%             638.250000     2.652680e+05               104.750000   \n",
       "50%            1264.500000     4.950735e+05               122.500000   \n",
       "75%            1849.500000     7.556240e+05               138.000000   \n",
       "max            2727.000000     1.674471e+06               182.000000   \n",
       "\n",
       "       Total_Customer_Respondents  High_Customer_Score_Respondents  \\\n",
       "count                   60.000000                        60.000000   \n",
       "mean                   232.050000                        99.533333   \n",
       "std                     46.027046                        22.392089   \n",
       "min                    150.000000                        59.000000   \n",
       "25%                    196.000000                        84.750000   \n",
       "50%                    237.000000                        98.000000   \n",
       "75%                    272.000000                       117.500000   \n",
       "max                    298.000000                       142.000000   \n",
       "\n",
       "       Total_Employee_Respondents  Promoters_Employee_Score_Respondents  \\\n",
       "count                   60.000000                             60.000000   \n",
       "mean                    75.133333                             26.233333   \n",
       "std                     14.611891                              5.315046   \n",
       "min                     50.000000                             17.000000   \n",
       "25%                     62.000000                             22.000000   \n",
       "50%                     76.500000                             26.000000   \n",
       "75%                     85.000000                             29.250000   \n",
       "max                     99.000000                             39.000000   \n",
       "\n",
       "       Detractors_Employee_Score_Respondents  \n",
       "count                              60.000000  \n",
       "mean                                4.566667  \n",
       "std                                 0.963163  \n",
       "min                                 3.000000  \n",
       "25%                                 4.000000  \n",
       "50%                                 4.500000  \n",
       "75%                                 5.000000  \n",
       "max                                 7.000000  "
      ]
     },
     "execution_count": 4,
     "metadata": {},
     "output_type": "execute_result"
    }
   ],
   "source": [
    "df.describe()"
   ]
  },
  {
   "cell_type": "code",
   "execution_count": 5,
   "id": "0425e7ed-a7ed-4a55-bf1e-0028e55b769b",
   "metadata": {
    "tags": []
   },
   "outputs": [],
   "source": [
    "df['cac'] = df['Marketing_Expenditure'] / df['New_Customers']"
   ]
  },
  {
   "cell_type": "code",
   "execution_count": 6,
   "id": "34b9bb96-1fd6-48ef-93f6-d256027622a2",
   "metadata": {
    "tags": []
   },
   "outputs": [
    {
     "data": {
      "text/plain": [
       "777.7167768724031"
      ]
     },
     "execution_count": 6,
     "metadata": {},
     "output_type": "execute_result"
    }
   ],
   "source": [
    "df.cac.mean()"
   ]
  },
  {
   "cell_type": "code",
   "execution_count": 7,
   "id": "31a38966-3c10-4950-8029-02ce61781943",
   "metadata": {
    "tags": []
   },
   "outputs": [
    {
     "data": {
      "image/png": "[encoded data removed]",
      "text/plain": [
       "<Figure size 640x480 with 1 Axes>"
      ]
     },
     "metadata": {},
     "output_type": "display_data"
    }
   ],
   "source": [
    "import matplotlib.pyplot as plt\n",
    "plt.plot(df.cac, c = 'navy')\n",
    "plt.grid()"
   ]
  },
  {
   "cell_type": "markdown",
   "id": "06020675-1a81-40d1-8acd-b008e9b7230d",
   "metadata": {},
   "source": [
    "El CAC de la empresa la mayoría del tiempo se encuentra entre 500 y 1500, por lo que es bastante constante en los 5 años de información que tenemos, esto es algo positivo pues se puede tener cierto nivel de confianza en cuanto será hacia futuro, sin embargo, tienen un problema que son los outliers ya que tienen varios y algunos llegando hasta más de 2500 que está muy lejos de lo habitual. Un estándar de la industria es de unos 800, y el promedio de la empresa es de 777 por lo que están en un buen rango dentro de la industria."
   ]
  },
  {
   "cell_type": "code",
   "execution_count": 8,
   "id": "6566bd20-2f5c-43b4-999e-603ec4855907",
   "metadata": {
    "tags": []
   },
   "outputs": [],
   "source": [
    "# CSAT = usuarios que contestan 4 o 5 (del 1 al 5) / total que contestan\n",
    "df['csat'] = df['High_Customer_Score_Respondents'] / df['Total_Customer_Respondents']"
   ]
  },
  {
   "cell_type": "code",
   "execution_count": 9,
   "id": "68468795-4e72-49b4-a306-79b39ff0b603",
   "metadata": {
    "tags": []
   },
   "outputs": [
    {
     "data": {
      "image/png": "[encoded data removed]",
      "text/plain": [
       "<Figure size 640x480 with 1 Axes>"
      ]
     },
     "metadata": {},
     "output_type": "display_data"
    }
   ],
   "source": [
    "plt.plot(df.csat, c = 'navy')\n",
    "plt.grid()"
   ]
  },
  {
   "cell_type": "markdown",
   "id": "2b7536d3-e03c-498a-b984-23d231649c5f",
   "metadata": {},
   "source": [
    "Para empresas que ofrecen este tipo de servicios un buen CSAT es de alrededor de 60%. En la gráfica se puede ver que tienen un CSAT bastante estable manteniendose entre 40% y 45%, que sería algo bajo para su industria, por lo tanto se debe hacer cierto enfoque para mejorar esta parte ya que significaría tener clientes más satisfechos."
   ]
  },
  {
   "cell_type": "markdown",
   "id": "5ef88028-9406-4399-ab6e-879a1cfe12c1",
   "metadata": {},
   "source": [
    "**Punto 5**\n",
    "\n",
    "Después de analizar los datos de la empresa vemos que esta en un buen estado de manera general. Por la parte del CSAT es una métrica que se encuentra un poco baja  contra la industria, pero tampoco están en un mal estado, por lo que pueden mejorar este aspecto de su empresa, para lograrlo pueden mejorar su atención al cliente para dar más seguimiento con ellos y en genral mejorar el servicio para tener una satisfacción mayor por parte de sus usuarios.\n",
    "\n",
    "En cuanto al CAC, en promedio están en un buen punto respecto a su industria lo cual es algo bueno, su área de mejora sería estabilizar un poco más su métrica y reducirla un poco de ser posible, para esto lo que se puede hacer para evitar los outliers es ver sus estrategias de marketing y con esto ver como hacerlas más eficientes para conseguir nuevos clientes.\n",
    "\n",
    "Estos dos KPIs son de utilidad para la empresa pues son dos métricas en las cuales los inverisonistas estarán interesados para tomar la decisión de invertir en OptiTech si lo considerán como una empresa con oportunidad de crecimiento pues ya no son una empresa muy pequeña, ya que han conseguido varios clientes y genran dinero, por lo que estas métricas son adecuadas para la etapa en la que se encuentran."
   ]
  }
 ],
 "metadata": {
  "kernelspec": {
   "display_name": "Python 3 (ipykernel)",
   "language": "python",
   "name": "python3"
  },
  "language_info": {
   "codemirror_mode": {
    "name": "ipython",
    "version": 3
   },
   "file_extension": ".py",
   "mimetype": "text/x-python",
   "name": "python",
   "nbconvert_exporter": "python",
   "pygments_lexer": "ipython3",
   "version": "3.11.4"
  }
 },
 "nbformat": 4,
 "nbformat_minor": 5
}
