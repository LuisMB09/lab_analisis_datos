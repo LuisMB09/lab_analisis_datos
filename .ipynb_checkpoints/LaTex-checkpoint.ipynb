{
 "cells": [
  {
   "cell_type": "markdown",
   "id": "fce5b6e2-0166-4153-a5f2-889687ea723a",
   "metadata": {},
   "source": [
    "\\begin{cases}\n",
    "\\begin{align*}\n",
    "10x_1 + 7x_2 + 8x_3 + 6x_4 + 7x_5 + 5x_6 + 10x_7 + 8x_8 + 7x_9 + 100x_{10} &= 100M + s_1 \\\\\n",
    "10x_1 + 7x_2 + 8x_3 + 6x_4 + 7x_5 + 5x_6 + 10x_7 + 8x_8 + 107x_9 + s_1  &= 200M + s_2 \\\\\n",
    "10x_1 + 7x_2 + 8x_3 + 6x_4 + 7x_5 + 5x_6 + 110x_7 + 108x_8 + s_2  &= 800M+ s_3 \\\\\n",
    "10x_1 + 7x_2 + 8x_3 + 6x_4 + 7x_5 + 105x_6 + s_3  &= 100M+ s_4 \\\\\n",
    "10x_1 + 7x_2 + 8x_3 + 106x_4 + 107x_5 + s_4  &= 800M+ s_5 \\\\\n",
    "110x_1 + 107x_2 + 108x_3 + s_5  &= 1200M+ s_6 \\\\\n",
    "x_i, i=\\{1,...,10\\} &\\geq 0 \\\\\n",
    "s_i, i=\\{1,...,6\\} &\\geq 0 \\\\\n",
    "\\end{align*}\n",
    "\\end{cases}"
   ]
  },
  {
   "cell_type": "markdown",
   "id": "780e5620-4625-4c16-953f-123a32343c38",
   "metadata": {},
   "source": [
    "\\begin{cases}\n",
    "\\begin{align*}\n",
    "10x_1 + 7x_2 + 8x_3 + 6x_4 + 7x_5 + 5x_6 + 10x_7 + 8x_8 + 7x_9 + 100x_{10} - s_1 &= 100M \\\\\n",
    "10x_1 + 7x_2 + 8x_3 + 6x_4 + 7x_5 + 5x_6 + 10x_7 + 8x_8 + 107x_9 + s_1 - s_2 &= 200M \\\\\n",
    "10x_1 + 7x_2 + 8x_3 + 6x_4 + 7x_5 + 5x_6 + 110x_7 + 108x_8 + s_2 - s_3 &= 800M \\\\\n",
    "10x_1 + 7x_2 + 8x_3 + 6x_4 + 7x_5 + 105x_6 + s_3 - s_4 &= 100M \\\\\n",
    "10x_1 + 7x_2 + 8x_3 + 106x_4 + 107x_5 + s_4 - s_5 &= 800M \\\\\n",
    "110x_1 + 107x_2 + 108x_3 + s_5 - s_6 &= 1200M \\\\\n",
    "x_i, i=\\{1,...,10\\} &\\geq 0 \\\\\n",
    "s_i, i=\\{1,...,6\\} &\\geq 0 \\\\\n",
    "\\end{align*}\n",
    "\\end{cases}"
   ]
  },
  {
   "cell_type": "markdown",
   "id": "7f997d28-7df6-4868-b77f-f0981ff02e7f",
   "metadata": {},
   "source": [
    "\\begin{align}\n",
    "s_i,\\quad i=\\{1,...,6\\}: \\text{Excedente}\n",
    "\\end{align}"
   ]
  },
  {
   "cell_type": "markdown",
   "id": "bb658960-a1b3-48aa-a866-1b0764c5ae4c",
   "metadata": {},
   "source": [
    "\\begin{bmatrix}\n",
    "10 & 7 & 8 & 6 & 7 & 5 & 10 & 8 & 7 & 100 & -1 & 0 & 0 & 0 & 0 & 0 \\\\\n",
    "10 & 7 & 8 & 6 & 7 & 5 & 10 & 8 & 107 & 0 & 1 & -1 & 0 & 0 & 0 & 0 \\\\\n",
    "10 & 7 & 8 & 6 & 7 & 5 & 110 & 108 & 0 & 0 & 0 & 1 & -1 & 0 & 0 & 0 \\\\\n",
    "10 & 7 & 8 & 6 & 7 & 105 & 0 & 0 & 0 & 0 & 0 & 0 & 1 & -1 & 0 & 0 \\\\\n",
    "10 & 7 & 8 & 106 & 107 & 0 & 0 & 0 & 0 & 0 & 0 & 0 & 0 & 1 & -1 & 0 \\\\\n",
    "110 & 107 & 108 & 0 & 0 & 0 & 0 & 0 & 0 & 0 & 0 & 0 & 0 & 0 & 1 & -1 \\\\\n",
    "\\end{bmatrix}\n"
   ]
  },
  {
   "cell_type": "markdown",
   "id": "125bfcf6-5910-4e9f-bd10-44784b004f1e",
   "metadata": {},
   "source": [
    "\\begin{bmatrix}\n",
    "x_{1} \\\\\n",
    "x_{2} \\\\\n",
    "x_{3} \\\\\n",
    "x_{4} \\\\\n",
    "x_{5} \\\\\n",
    "x_{6} \\\\\n",
    "x_{7} \\\\\n",
    "x_{8} \\\\\n",
    "x_{9} \\\\\n",
    "x_{10} \\\\\n",
    "s_{1} \\\\\n",
    "s_{2} \\\\\n",
    "s_{3} \\\\\n",
    "s_{4} \\\\\n",
    "s_{5} \\\\\n",
    "s_{6} \\\\\n",
    "\\end{bmatrix}"
   ]
  },
  {
   "cell_type": "markdown",
   "id": "f52b21ef-94d5-41cf-aa6d-af856ce34dad",
   "metadata": {},
   "source": [
    "\\begin{bmatrix}\n",
    "109 \\\\\n",
    "94.8 \\\\\n",
    "99.5 \\\\\n",
    "93.1 \\\\\n",
    "97.2 \\\\\n",
    "92.9 \\\\\n",
    "110 \\\\\n",
    "104 \\\\\n",
    "102 \\\\\n",
    "95.2 \\\\\n",
    "1 \\\\\n",
    "1 \\\\\n",
    "1 \\\\\n",
    "1 \\\\\n",
    "1 \\\\\n",
    "1 \\\\\n",
    "\\end{bmatrix}"
   ]
  },
  {
   "cell_type": "markdown",
   "id": "34e1f734-a2fa-4783-ba64-8c8920dd419d",
   "metadata": {},
   "source": [
    "\\begin{align}\n",
    "min \\quad 109x_1 + 94.8x_2 + 99.5x_3 + 93.1x_4 + 97.2x_5 + 96.3x_6 + 92.9x_7 + 110x_8 + 104x_9 + 101x_{10} + 107x_{11} + 102x_{12} + 95.2x_{13} + 1s_1 + 1s_2 + 1s_3 + 1s_4 + 1s_5 + 1s_6\n",
    "\\end{align}"
   ]
  },
  {
   "cell_type": "markdown",
   "id": "811de3f7-e8f5-476a-8afa-90cf4087016f",
   "metadata": {},
   "source": [
    "\\begin{cases}\n",
    "\\begin{align}\n",
    "10x_1 + 7x_2 + 8x_3 + 6x_4 + 7x_5 + 6x_6 + 5x_7 + 10x_8 + 8x_9 + 6x_{10} + 10x_{11} + 7x_{12} + 100x_{13} &= 500 + s_1 \\\\\n",
    "10x_1 + 7x_2 + 8x_3 + 6x_4 + 7x_5 + 6x_6 + 5x_7 + 10x_8 + 8x_9 + 6x_{10} + 110x_{11} + 107x_{12} + s_1  &= 200+ s_2 \\\\\n",
    "10x_1 + 7x_2 + 8x_3 + 6x_4 + 7x_5 + 6x_6 + 5x_7 + 110x_8 + 108x_9 + 106x_{10} + s_2  &= 800+ s_3 \\\\\n",
    "10x_1 + 7x_2 + 8x_3 + 6x_4 + 7x_5 + 106x_6 + 105x_7 + s_3  &= 200+ s_4 \\\\\n",
    "10x_1 + 7x_2 + 8x_3 + 106x_4 + 107x_5 + s_4  &= 800+ s_5 \\\\\n",
    "110x_1 + 107x_2 + 108x_3 + s_5  &= 1200+ s_6 \\\\\n",
    "x_i, i=\\{1,...,13\\} &\\geq 0 \\\\\n",
    "s_i, i=\\{1,...,6\\} &\\geq 0 \\\\\n",
    "\\end{align}\n",
    "\\end{cases}"
   ]
  },
  {
   "cell_type": "markdown",
   "id": "e87519a0-8b46-4085-bd7f-5f32027fbee6",
   "metadata": {},
   "source": [
    "\\begin{cases}\n",
    "\\begin{align}\n",
    "10x_1 + 7x_2 + 8x_3 + 6x_4 + 7x_5 + 6x_6 + 5x_7 + 10x_8 + 8x_9 + 6x_{10} + 10x_{11} + 7x_{12} + 100x_{13} - s_1 &= 500 \\\\\n",
    "10x_1 + 7x_2 + 8x_3 + 6x_4 + 7x_5 + 6x_6 + 5x_7 + 10x_8 + 8x_9 + 6x_{10} + 110x_{11} + 107x_{12} + s_1 - s_2 &= 200 \\\\\n",
    "10x_1 + 7x_2 + 8x_3 + 6x_4 + 7x_5 + 6x_6 + 5x_7 + 110x_8 + 108x_9 + 106x_{10} + s_2 - s_3 &= 800 \\\\\n",
    "10x_1 + 7x_2 + 8x_3 + 6x_4 + 7x_5 + 106x_6 + 105x_7 + s_3 - s_4 &= 200 \\\\\n",
    "10x_1 + 7x_2 + 8x_3 + 106x_4 + 107x_5 + s_4 - s_5 &= 800 \\\\\n",
    "110x_1 + 107x_2 + 108x_3 + s_5 - s_6 &= 1200 \\\\\n",
    "x_i, i=\\{1,...,13\\} &\\geq 0 \\\\\n",
    "s_i, i=\\{1,...,6\\} &\\geq 0 \\\\\n",
    "\\end{align}\n",
    "\\end{cases}"
   ]
  },
  {
   "cell_type": "markdown",
   "id": "a382d103-fa32-44a0-94ca-9870325dafbf",
   "metadata": {},
   "source": [
    "\\begin{align}\n",
    "x_1 : \\text{Dinero pedido en préstamo a 2 años} \\\\\n",
    "y_i,\\quad i=\\{1,...,8\\}: \\text{Dinero pedido en préstamo a 6 meses} \\\\\n",
    "z_i,\\quad i=\\{1,...,8\\}: \\text{Dinero pedido en préstamo trimestral} \\\\\n",
    "w_i,\\quad i=\\{1,...,8\\}: \\text{Excedente para inversión} \\\\\n",
    "\\end{align}"
   ]
  },
  {
   "cell_type": "markdown",
   "id": "a6ed42de-f8a0-4681-ad93-ade8b7ccbac0",
   "metadata": {},
   "source": [
    "\\begin{align}\n",
    "max \\quad w_8-y_8-z_8\n",
    "\\end{align}"
   ]
  },
  {
   "cell_type": "markdown",
   "id": "9849fc76-c538-436c-bf0d-de272be5851c",
   "metadata": {},
   "source": [
    "\\begin{cases}\n",
    "\\begin{align}\n",
    "x_1 + y_1 + z_1 - w_1 &= 100 \\\\\n",
    "-0.01x_1 - 0.018y_1 + y_2 - 1.025z_1 + z_2 + 1.005w_1 - w_2 &= 500 \\\\\n",
    "-0.01x_1 - 1.018y_1 - 0.018y_2 + y_3 - 1.025z_2 + z_3 + 1.005w_2 - w_3 &= 100 \\\\\n",
    "-0.01x_1 - 1.018y_2 - 0.018y_3 + y_4 - 1.025z_3 + z_4 + 1.005w_3 - w_4 &= -600 \\\\\n",
    "-0.01x_1 - 1.018y_3 - 0.018y_4 + y_5 - 1.025z_4 + z_5 + 1.005w_4 - w_5 &= -500 \\\\\n",
    "-0.01x_1 - 1.018y_4 - 0.018y_5 + y_6 - 1.025z_5 + z_6 + 1.005w_5 - w_6 &= 200 \\\\\n",
    "-0.01x_1 - 1.018y_5 - 0.018y_6 + y_7 - 1.025z_6 + z_7 + 1.005w_6 - w_7 &= 600 \\\\\n",
    "-1.01x_1 - 1.018y_6 - 0.018y_7 + y_8 - 1.025z_7 + z_8 + 1.005w_7 - w_8 &= -900 \\\\\n",
    "0 \\leq x_1 &\\leq 400 \\\\\n",
    "0 \\leq y_i, i=\\{1,...,8\\} &\\leq 400 \\\\\n",
    "0 \\leq z_i, i=\\{1,...,8\\} &\\leq 400 \\\\\n",
    "w_i, i=\\{1,...,8\\} &\\geq 0 \\\\\n",
    "\\end{align}\n",
    "\\end{cases}"
   ]
  },
  {
   "cell_type": "markdown",
   "id": "40ce363e-31a8-4710-80ad-366bf2ca75e4",
   "metadata": {},
   "source": [
    "\\begin{bmatrix}\n",
    "1 & 0 & 1 & 1 & 0 & 1 & 0 & 0 \\\\\n",
    "0.5 & -1 & 1.2 & 0 & 0 & 1.08 & -1 & 0 \\\\\n",
    "1 & 0.5 & 0 & 0 & -1 & 0 & 1.08 & -1\n",
    "\\end{bmatrix}"
   ]
  },
  {
   "cell_type": "markdown",
   "id": "b48ff3a5-cb25-4de1-a693-4415e99c6d08",
   "metadata": {},
   "source": [
    "\\begin{bmatrix}\n",
    "  0 & 0 & 1 & -1 & 0 & 0 \\\\\n",
    "  0 & 0 & 1 & 0 & -1 & 0 \\\\\n",
    "  0 & 0 & 1 & 0 & 0 & -1 \\\\\n",
    "  12 & 4 & 0 & 0 & 0 & 0 \\\\\n",
    "  4 & 4 & 0 & 0 & 0 & 0 \\\\\n",
    "  10 & 20 & 0 & 0 & 0 & 0 \\\\\n",
    "  -1 & 0 & 0 & 0 & 0 & 0 \\\\\n",
    "  0 & -1 & 0 & 0 & 0 & 0 \\\\\n",
    "\\end{bmatrix}"
   ]
  }
 ],
 "metadata": {
  "kernelspec": {
   "display_name": "Python 3 (ipykernel)",
   "language": "python",
   "name": "python3"
  },
  "language_info": {
   "codemirror_mode": {
    "name": "ipython",
    "version": 3
   },
   "file_extension": ".py",
   "mimetype": "text/x-python",
   "name": "python",
   "nbconvert_exporter": "python",
   "pygments_lexer": "ipython3",
   "version": "3.12.3"
  }
 },
 "nbformat": 4,
 "nbformat_minor": 5
}
