{
 "cells": [
  {
   "cell_type": "markdown",
   "id": "b82df57d",
   "metadata": {},
   "source": [
    "# Sesion 2: Entendiendo y clasificando indicadores\n",
    "\n",
    "En esta sesión profundizaremos sobre distintos tipos de KPIs. Exploraremos distintas clasificaciones de indicadores: Cuantitativos, cualitativos, estrategicos, operacionales y funcionales. Entender estas clasificaciones te ayudara a seleccionar KPIs de manera apropiada basado en las necesidades y objetivos del negocio\n",
    "\n",
    "\n",
    "## Que aprenderas:\n",
    "- Diferencia entre KPIs cualitativos y cuantitativos.\n",
    "- Distingir entre KPIs estrategicos, operativos y funcionales.\n",
    "- Usar este conocimiento en un caso practico para definir y calcular un KPI."
   ]
  },
  {
   "cell_type": "markdown",
   "id": "4f1af357",
   "metadata": {},
   "source": [
    "## KPIs Cuantitativos y Cualitativos\n",
    "\n",
    "### KPIs Cuantitativos\n",
    "KPIs cuantitativos estan expresados en numeros y son posibles de medir de manera muy directa. Son esenciales para objetivos de evaluaciones y son comunmente relacionados a metricas de desempeño que influyen en el ingreso económico y rentabilidad de una empresa.\n",
    "\n",
    "**Ejemplos:**\n",
    "- **Ingreso de ventas (Sales Revenue):** Ingresos totales por actividades de venta. Es un indicador directo del desempeño de un negocio.\n",
    "<img style=\"margin: 0px 0px 15px 15px;\" src=\"https://online.hbs.edu/PublishingImages/Company-B-Income-Statement-version2.jpg\" width=\"400px\" height=\"400px\" />\n",
    "- **Margen de Ganancia Neto (Net Profit Margin):** Representa el porcentaje de ganancias sobre ingresos totales: $\\frac{\\text{Ingresos} - \\text{Costos}}{\\text{Ingresos}} = 1 - \\frac{\\text{Costos}}{\\text{Ingresos}}$.\n",
    "- **Valor del tiempo de vida del cliente (Customer Lifetime Value, CLTV o LTV):** Predice la ganancia neta atribuida a toda la relación futura del cliente. Una de muchas maneras de calcularlo es la siguiente $\\frac{\\text{ARPU} x \\text{% Margin}}{\\text{Churn Rate}}$ donde ARPU es el ingreso promedio mensual por usuario, % Margin es el Margen de ganancia neto y churn rate es la tasa de perdida de clientes mensual.\n",
    "\n",
    "**EJEMPLOS DE ALUMNOS**\n",
    "\n",
    "### KPIs Cualitativos\n",
    "Los KPIs cualitativos son mas subjetivos y comunmente son usados para medir el desempeño de actividades que no son cuantificables facilmente, como el Net Prompoter Score (NPS), Satisfacción del cliente (CSAT) y moral de los empleados.\n",
    "\n",
    "**Examples:**\n",
    "- **Customer Satisfaction Scores (CSAT):** Se obtiene a traves de formularios de retroalimentación y encuestas. Mide como los productos o servicios alcanzan o sobrepasan la expectativa del cliente. $\\frac{\\text{Respuestas de 4 o 5}}{\\text{Respuestas totales}}$\n",
    "<img style=\"margin: 0px 0px 15px 15px;\" src=\"https://www.questionpro.com/blog/wp-content/uploads/2020/04/Macdonalds-1.png\" width=\"400px\" height=\"400px\" />\n",
    "\n",
    "- **Net Promoters Score (NPS):** Indicador que mide la satisfacción del cliente, haciendole directamente la pregunta \"¿Recomendarías a tu familia y amigos que probaran el producto X?\" en escala del 1 al 10. Despues los que contestaron 9 o 10 los considerarás promotores, los que contestaron 6 o menos los consideraras detractores. El NPS se calcularía de la siguiente manera: $\\frac{\\text{Promotores}-\\text{Detractores}}{\\text{# usuarios que contestaron}}$\n",
    "<img style=\"margin: 0px 0px 15px 15px;\" src=\"https://business.critizr.com/hubfs/Measuring_emplpoye_satisfaction_eNPS.jpeg\" width=\"400px\" height=\"400px\" />\n",
    "\n",
    "- **Employee Satisfaction Index (ESI):** Tipicamente medido a traves de encuestas para entender la felicidad y compromiso del empleado, impactando la retención y productividad. Esto es contestando estas tres preguntas en una escala del 1 al 10, sumando las respuestas y dividiendolas entre 30 para sacar el porcentaje de satisfacción total.\n",
    "    - How satisfied are you with your current workplace?\n",
    "    - How well does your current workplace meet your expectations?\n",
    "    - How close is your current workplace to the ideal one?\n",
    "\n",
    "\n",
    "## KPIs estratégicos, operacionales y funcionales\n",
    "\n",
    "### KPIs estratégicos\n",
    "\n",
    "Los KPIs estratégicos están alineados con los objetivos de alto nivel de la compañia y metas de largo plazo. Ayudan a los directivos a impulsar el exito de la compañia y lograr sus objetivos estrategicos. Dependen mucho de la etapa de madurez de la empresa.\n",
    "\n",
    "**Ejemplos:**\n",
    "- **Return on Investment (ROI):** Mide la eficiencia de diferentes inversiones, determinando que tan bien la compañia esta usando su capital para generar ganancias. $\\frac{\\text{Ganancia neta}}{\\text{Costo de inversiones}}$\n",
    "- **Market Share:** Para compañias ya maduras, indica la porción de ventas dentro de la industria, otorgando conclusiones sobre el posicionamiento competitivo. $\\frac{\\text{Ventas de mi empresa}}{\\text{Ventas totales en la industria}}$\n",
    "- **Monthly Active Users (MAU) o Daily Active Users (DAU):** Para startups de tecnología, particularmente aplicaciones o plataformas en linea, darle seguimiento a usuarios activos es un indicador vital de crecimiento potencial.\n",
    "\n",
    "### KPIs operacionales\n",
    "\n",
    "KPIs operacionales son usados para medir la eficiencia y efectividad de la operación de la compañia. Son cruciales para la administración diaria y para darle seguimiento a la salud operacional de la compañia.\n",
    "\n",
    "**¿Que es la operación de la compañia?**\n",
    "Son todas las actividades requeridas para entregar productos o servicios a los clientes y alcanzar los objetivos de los negocios.\n",
    "\n",
    "**Ejemplos:**\n",
    "- **Tiempo del ciclo de cumplimiento del pedido:** Mide el tiempo tomado desde recibir una orden del cliente hasta entregar el producto. Muestra la eficiencia operacional.\n",
    "- **Rotación de inventario:** Muestra que tan seguido el inventario se vende y es remplazado sobre un periodo. Indica la efectividad de la administración de inventario. $\\frac{\\text{Costo de bienes vendidos}}{\\text{Promedio de inventario diario en el mes}}$\n",
    "- **Production Downtime:** Mide el tiempo que la producción estubo parada, impactando el tiempo de productividad total. $\\frac{\\text{Horas totales de producción en paro}}{\\text{Horas en el año operables (8,760 normalmente)}}$\n",
    "\n",
    "### KPIs Funcionales\n",
    "Los KPIs funcionales se enfocan en departamentos especificos dentro de la organización, enforcandose en el desempeño y la eficiencia de las areas especializadas.\n",
    "\n",
    "**Ejemplos:**\n",
    "- **Finanzas: Numero de proveedores** - Medición que ayuda al departamento financiero cuantos nuevos proveedores existen en la compañia dentro del sistema de contabilidad.\n",
    "- **Recursos Humanos: Tasa de rotación** - Indica la tasa a la cual los empleados se van y son reemplazados, afectando el costo de reclutamiento y estabilidad organizacional.\n",
    "- **Marketing: Clicks en los email enviados** - Medición que permite comparar el éxito de campañas de email y mejorar sus procesos de envio.\n",
    "\n"
   ]
  },
  {
   "cell_type": "markdown",
   "id": "1d4f5642",
   "metadata": {
    "tags": []
   },
   "source": [
    "## Estudio de caso 1: Análisis de abandono de clientes en Telecomunicaciones\n",
    "\n",
    "### **Contexto  y antecedentes:**\n",
    "\n",
    "Para esta sesión, utilizaremos un conjunto de datos de una empresa de telecomunicaciones ficticia que proporcionó servicios de Internet y telefonía residencial a 7043 clientes en California durante el tercer trimestre. Este conjunto de datos, conocido como el conjunto de datos \"Telco Customer Churn\", incluye datos demográficos, servicios e información de cuentas de clientes. Nos centraremos en comprender la rotación de clientes, lo cual es crucial para desarrollar estrategias efectivas de retención de clientes.\n",
    "\n",
    "### Objetivo\n",
    "\n",
    "El objetivo de este estudio de caso es calcular indicadores clave que puedan ayudarnos a comprender cuanto porcentaje de los clientes se van y establecer una base para futuros análisis en profundidad destinados a mejorar las tasas de retención.\n",
    "\n",
    "### Descripción de la actividad\n",
    "\n",
    "1. **Exploración y comprensión de datos:** \n",
    "    - Los estudiantes primero explorarán el conjunto de datos para comprender el tipo de datos disponibles, centrándose en variables directamente relacionadas con la pérdida de clientes. ¿Cuantas y cuales variables tenemos disponibles?, ¿faltan datos?, ¿Los datos en las variables aparentan estar correctos?, ¿hay outliers?, ¿existe alguna que nos ayude identificar si un cliente abandono?\n",
    "\n",
    "2. **Cálculo del indicador:** \n",
    "    - Tasa de abandono: calcule la tasa de abandono general de la empresa para comprender la línea de base de deserción de clientes.\n",
    "    - Uso de servicios entre clientes que han abandonado: analice qué servicios (como teléfono, Internet, seguridad en línea) son más utilizados por los clientes que han abandonado.\n",
    "\n",
    "3. **Establecer la línea de base para análisis futuros:** \n",
    "    - Identifique patrones o tendencias potenciales en los datos de abandono relacionados con la demografía de los clientes (como personas mayores, socios, dependientes) o tipos de servicios.\n",
    "    - Proponga hipótesis sobre lo que podría estar influyendo en las tasas de abandono, como cargos mensuales elevados o quejas de servicios específicos."
   ]
  },
  {
   "cell_type": "code",
   "execution_count": 1,
   "id": "f416f248",
   "metadata": {
    "tags": []
   },
   "outputs": [],
   "source": [
    "### Empezar el ejercicio aqui ####\n",
    "import pandas as pd"
   ]
  },
  {
   "cell_type": "code",
   "execution_count": 2,
   "id": "2ff5c091-f71e-46b5-adc3-3d594775bc7c",
   "metadata": {
    "tags": []
   },
   "outputs": [
    {
     "name": "stdout",
     "output_type": "stream",
     "text": [
      "<class 'pandas.core.frame.DataFrame'>\n",
      "RangeIndex: 7043 entries, 0 to 7042\n",
      "Data columns (total 21 columns):\n",
      " #   Column            Non-Null Count  Dtype  \n",
      "---  ------            --------------  -----  \n",
      " 0   customerID        7043 non-null   object \n",
      " 1   gender            7043 non-null   object \n",
      " 2   SeniorCitizen     7043 non-null   int64  \n",
      " 3   Partner           7043 non-null   object \n",
      " 4   Dependents        7043 non-null   object \n",
      " 5   tenure            7043 non-null   int64  \n",
      " 6   PhoneService      7043 non-null   object \n",
      " 7   MultipleLines     7043 non-null   object \n",
      " 8   InternetService   7043 non-null   object \n",
      " 9   OnlineSecurity    7043 non-null   object \n",
      " 10  OnlineBackup      7043 non-null   object \n",
      " 11  DeviceProtection  7043 non-null   object \n",
      " 12  TechSupport       7043 non-null   object \n",
      " 13  StreamingTV       7043 non-null   object \n",
      " 14  StreamingMovies   7043 non-null   object \n",
      " 15  Contract          7043 non-null   object \n",
      " 16  PaperlessBilling  7043 non-null   object \n",
      " 17  PaymentMethod     7043 non-null   object \n",
      " 18  MonthlyCharges    7043 non-null   float64\n",
      " 19  TotalCharges      7043 non-null   object \n",
      " 20  Churn             7043 non-null   object \n",
      "dtypes: float64(1), int64(2), object(18)\n",
      "memory usage: 1.1+ MB\n"
     ]
    }
   ],
   "source": [
    "telco = pd.read_csv('telco.csv')\n",
    "telco.info()"
   ]
  },
  {
   "cell_type": "code",
   "execution_count": 3,
   "id": "82db1128-b05d-4cf6-a0d7-cb6557090165",
   "metadata": {
    "tags": []
   },
   "outputs": [
    {
     "data": {
      "text/html": [
       "<div>\n",
       "<style scoped>\n",
       "    .dataframe tbody tr th:only-of-type {\n",
       "        vertical-align: middle;\n",
       "    }\n",
       "\n",
       "    .dataframe tbody tr th {\n",
       "        vertical-align: top;\n",
       "    }\n",
       "\n",
       "    .dataframe thead th {\n",
       "        text-align: right;\n",
       "    }\n",
       "</style>\n",
       "<table border=\"1\" class=\"dataframe\">\n",
       "  <thead>\n",
       "    <tr style=\"text-align: right;\">\n",
       "      <th></th>\n",
       "      <th>SeniorCitizen</th>\n",
       "      <th>tenure</th>\n",
       "      <th>MonthlyCharges</th>\n",
       "    </tr>\n",
       "  </thead>\n",
       "  <tbody>\n",
       "    <tr>\n",
       "      <th>count</th>\n",
       "      <td>7043.000000</td>\n",
       "      <td>7043.000000</td>\n",
       "      <td>7043.000000</td>\n",
       "    </tr>\n",
       "    <tr>\n",
       "      <th>mean</th>\n",
       "      <td>0.162147</td>\n",
       "      <td>32.371149</td>\n",
       "      <td>64.761692</td>\n",
       "    </tr>\n",
       "    <tr>\n",
       "      <th>std</th>\n",
       "      <td>0.368612</td>\n",
       "      <td>24.559481</td>\n",
       "      <td>30.090047</td>\n",
       "    </tr>\n",
       "    <tr>\n",
       "      <th>min</th>\n",
       "      <td>0.000000</td>\n",
       "      <td>0.000000</td>\n",
       "      <td>18.250000</td>\n",
       "    </tr>\n",
       "    <tr>\n",
       "      <th>25%</th>\n",
       "      <td>0.000000</td>\n",
       "      <td>9.000000</td>\n",
       "      <td>35.500000</td>\n",
       "    </tr>\n",
       "    <tr>\n",
       "      <th>50%</th>\n",
       "      <td>0.000000</td>\n",
       "      <td>29.000000</td>\n",
       "      <td>70.350000</td>\n",
       "    </tr>\n",
       "    <tr>\n",
       "      <th>75%</th>\n",
       "      <td>0.000000</td>\n",
       "      <td>55.000000</td>\n",
       "      <td>89.850000</td>\n",
       "    </tr>\n",
       "    <tr>\n",
       "      <th>max</th>\n",
       "      <td>1.000000</td>\n",
       "      <td>72.000000</td>\n",
       "      <td>118.750000</td>\n",
       "    </tr>\n",
       "  </tbody>\n",
       "</table>\n",
       "</div>"
      ],
      "text/plain": [
       "       SeniorCitizen       tenure  MonthlyCharges\n",
       "count    7043.000000  7043.000000     7043.000000\n",
       "mean        0.162147    32.371149       64.761692\n",
       "std         0.368612    24.559481       30.090047\n",
       "min         0.000000     0.000000       18.250000\n",
       "25%         0.000000     9.000000       35.500000\n",
       "50%         0.000000    29.000000       70.350000\n",
       "75%         0.000000    55.000000       89.850000\n",
       "max         1.000000    72.000000      118.750000"
      ]
     },
     "execution_count": 3,
     "metadata": {},
     "output_type": "execute_result"
    }
   ],
   "source": [
    "telco.describe()"
   ]
  },
  {
   "cell_type": "code",
   "execution_count": 4,
   "id": "64ec9084-1bda-49c3-8b94-baf6235a843b",
   "metadata": {
    "tags": []
   },
   "outputs": [
    {
     "data": {
      "text/plain": [
       "No     5174\n",
       "Yes    1869\n",
       "Name: Churn, dtype: int64"
      ]
     },
     "execution_count": 4,
     "metadata": {},
     "output_type": "execute_result"
    }
   ],
   "source": [
    "# Datos únicos\n",
    "telco['Churn'].value_counts()"
   ]
  },
  {
   "cell_type": "code",
   "execution_count": 5,
   "id": "6e81227f-992f-4bde-b962-b090a7b5104d",
   "metadata": {
    "tags": []
   },
   "outputs": [
    {
     "data": {
      "text/plain": [
       "0       0\n",
       "1       0\n",
       "2       1\n",
       "3       0\n",
       "4       1\n",
       "       ..\n",
       "7038    0\n",
       "7039    0\n",
       "7040    0\n",
       "7041    1\n",
       "7042    0\n",
       "Name: churn_flag, Length: 7043, dtype: int32"
      ]
     },
     "execution_count": 5,
     "metadata": {},
     "output_type": "execute_result"
    }
   ],
   "source": [
    "telco['churn_flag'] = 1 * (telco['Churn'] == 'Yes')\n",
    "telco['churn_flag']"
   ]
  },
  {
   "cell_type": "code",
   "execution_count": 6,
   "id": "8a4bbf95-6073-4b4a-857c-387be9c8d16e",
   "metadata": {
    "tags": []
   },
   "outputs": [
    {
     "data": {
      "text/plain": [
       "0.2653698707936959"
      ]
     },
     "execution_count": 6,
     "metadata": {},
     "output_type": "execute_result"
    }
   ],
   "source": [
    "telco['churn_flag'].mean()"
   ]
  },
  {
   "cell_type": "code",
   "execution_count": 7,
   "id": "5affe852-55de-4d2d-bd4c-3caff2967962",
   "metadata": {
    "tags": []
   },
   "outputs": [
    {
     "data": {
      "text/plain": [
       "Yes    1699\n",
       "No      170\n",
       "Name: PhoneService, dtype: int64"
      ]
     },
     "execution_count": 7,
     "metadata": {},
     "output_type": "execute_result"
    }
   ],
   "source": [
    "telco[telco['Churn'] == 'Yes']['PhoneService'].value_counts()"
   ]
  },
  {
   "cell_type": "code",
   "execution_count": 8,
   "id": "8544e07c-9aef-4b8a-9262-3f0450529564",
   "metadata": {
    "tags": []
   },
   "outputs": [
    {
     "data": {
      "text/plain": [
       "0.9090422685928304"
      ]
     },
     "execution_count": 8,
     "metadata": {},
     "output_type": "execute_result"
    }
   ],
   "source": [
    "1699/(1699 + 170)"
   ]
  },
  {
   "cell_type": "code",
   "execution_count": 9,
   "id": "ee7defad-aeed-4743-91e0-bbfa1c625526",
   "metadata": {
    "tags": []
   },
   "outputs": [
    {
     "data": {
      "text/plain": [
       "Yes    4662\n",
       "No      512\n",
       "Name: PhoneService, dtype: int64"
      ]
     },
     "execution_count": 9,
     "metadata": {},
     "output_type": "execute_result"
    }
   ],
   "source": [
    "telco[telco['Churn'] == 'No']['PhoneService'].value_counts()"
   ]
  },
  {
   "cell_type": "code",
   "execution_count": 10,
   "id": "9b072a9f-6f4c-4d3a-ab28-1f13c4e84cc7",
   "metadata": {
    "tags": []
   },
   "outputs": [
    {
     "data": {
      "text/plain": [
       "0.9010436799381523"
      ]
     },
     "execution_count": 10,
     "metadata": {},
     "output_type": "execute_result"
    }
   ],
   "source": [
    "4662/(4662+512)"
   ]
  },
  {
   "cell_type": "markdown",
   "id": "c9e97901",
   "metadata": {},
   "source": [
    "## Estudio de caso 2: Análisis del comercio minorista en línea\n",
    "\n",
    "### **Contexto  y antecedentes:**\n",
    "\n",
    "Se le proporcionan datos de una tienda minorista en línea. El conjunto de datos incluye transacciones del 12/01/2009 al 12/09/2011 para un comercio en línea y con sede en el Reino Unido. La empresa vende principalmente regalos únicos para todas las ocasiones. Muchos clientes de la empresa son mayoristas.\n",
    "\n",
    "### Objetivo\n",
    "\n",
    "Su tarea es analizar los datos proporcionados para identificar KPI importantes que podrían ayudar a la gerencia a comprender mejor el desempeño de su negocio, centrándose específicamente en el valor del cliente y las ventas totales a traves del tiempo.\n",
    "\n",
    "### Datos disponibles\n",
    "\n",
    "El dataset incluye los siguientes atributos (variables, features, columnas, campos, etc...):\n",
    "- InvoiceNo: Numero de ticket. Nominal. Un número de 6 digitos unico por cada transacción. Si comienza con una letra \"c\", indica que fue una cancelación. \n",
    "- StockCode: Codigo del producto (item). Nominal. Número de 5 diginos unico por cada producto distinto.\n",
    "- Description: Nombre del producto (item). Nominal. \n",
    "- Quantity: Cantidad de producto (item) vendido en la transacción. Numérico.\t\n",
    "- InvoiceDate: Fecha y hora que se generó la transacción. Numérico. \n",
    "- UnitPrice: Precio unitario. Numérico. Precio del producto en libras esterlinas (Â£). \n",
    "- CustomerID: Numero de cliente. Nominal. Número entero de 5 digitos unico asociado a cada cliente. \n",
    "- Country: Nombre del país. Nominal. Nombre del país donde el cliente reside.\n",
    "\n",
    "**Datos disponibles en:** [Online Retail II Data](https://archive.ics.uci.edu/ml/datasets/Online+Retail+II)\n",
    "\n",
    "### Descripción de la actividad\n",
    "\n",
    "1. **Exploración y comprensión de datos:** \n",
    "    - Los estudiantes primero explorarán el conjunto de datos para comprender el tipo de datos disponibles, centrándose en variables directamente relacionadas con el objetivo de la empresa.\n",
    "\n",
    "2. **Selección de indicadores:**\n",
    "    - Los estudiantes escogerán que indicadores estarían relacionados con el objetivo de la empresa.\n",
    "\n",
    "3. **Cálculo de los indicadores:** \n",
    "    - Una vez seleccionados los indicadores es momento de calcularlos.\n",
    "\n",
    "4. **Analizar los resultados y preparar un reporte breve de lo que se observo:** \n",
    "    - Que dicen los resultados de la empresa. ¿El valor de sus clientes aumento?, ¿el desempeño de ventas aumento?, ¿Si yo quisiera valuar la empresa con multiplos con los datos que tengo como le puedo hacer?"
   ]
  },
  {
   "cell_type": "code",
   "execution_count": 11,
   "id": "5dead0ca",
   "metadata": {
    "tags": []
   },
   "outputs": [],
   "source": [
    "regalos_1 = pd.read_excel('online_retail.xlsx', sheet_name = 0)"
   ]
  },
  {
   "cell_type": "code",
   "execution_count": 12,
   "id": "4f842428-4faf-480b-a9dc-00f243fe56da",
   "metadata": {
    "tags": []
   },
   "outputs": [],
   "source": [
    "regalos_2 = pd.read_excel('online_retail.xlsx', sheet_name = 1)"
   ]
  },
  {
   "cell_type": "code",
   "execution_count": 13,
   "id": "28272a24-c501-4b8f-91c5-0f8c91c295e4",
   "metadata": {
    "tags": []
   },
   "outputs": [],
   "source": [
    "regalos = pd.concat([regalos_1, regalos_2], axis = 0)"
   ]
  },
  {
   "cell_type": "code",
   "execution_count": 14,
   "id": "7c5de663-6b38-4b64-a0fc-3a25096b0831",
   "metadata": {
    "tags": []
   },
   "outputs": [
    {
     "data": {
      "text/plain": [
       "count    1.067371e+06\n",
       "mean     1.806987e+01\n",
       "std      2.924202e+02\n",
       "min     -1.684696e+05\n",
       "25%      3.750000e+00\n",
       "50%      9.900000e+00\n",
       "75%      1.770000e+01\n",
       "max      1.684696e+05\n",
       "Name: revenue, dtype: float64"
      ]
     },
     "execution_count": 14,
     "metadata": {},
     "output_type": "execute_result"
    }
   ],
   "source": [
    "regalos['revenue'] = regalos.Quantity * regalos.Price\n",
    "regalos['revenue'].describe()"
   ]
  },
  {
   "cell_type": "code",
   "execution_count": 18,
   "id": "84c6e2b6-ac8a-4439-9fa9-83ac229658e4",
   "metadata": {
    "tags": []
   },
   "outputs": [
    {
     "data": {
      "text/html": [
       "<div>\n",
       "<style scoped>\n",
       "    .dataframe tbody tr th:only-of-type {\n",
       "        vertical-align: middle;\n",
       "    }\n",
       "\n",
       "    .dataframe tbody tr th {\n",
       "        vertical-align: top;\n",
       "    }\n",
       "\n",
       "    .dataframe thead th {\n",
       "        text-align: right;\n",
       "    }\n",
       "</style>\n",
       "<table border=\"1\" class=\"dataframe\">\n",
       "  <thead>\n",
       "    <tr style=\"text-align: right;\">\n",
       "      <th></th>\n",
       "      <th>Invoice</th>\n",
       "      <th>StockCode</th>\n",
       "      <th>Description</th>\n",
       "      <th>Quantity</th>\n",
       "      <th>InvoiceDate</th>\n",
       "      <th>Price</th>\n",
       "      <th>Customer ID</th>\n",
       "      <th>Country</th>\n",
       "      <th>revenue</th>\n",
       "    </tr>\n",
       "  </thead>\n",
       "  <tbody>\n",
       "    <tr>\n",
       "      <th>0</th>\n",
       "      <td>489434</td>\n",
       "      <td>85048</td>\n",
       "      <td>15CM CHRISTMAS GLASS BALL 20 LIGHTS</td>\n",
       "      <td>12</td>\n",
       "      <td>2009-12-01 07:45:00</td>\n",
       "      <td>6.95</td>\n",
       "      <td>13085.0</td>\n",
       "      <td>United Kingdom</td>\n",
       "      <td>83.40</td>\n",
       "    </tr>\n",
       "    <tr>\n",
       "      <th>1</th>\n",
       "      <td>489434</td>\n",
       "      <td>79323P</td>\n",
       "      <td>PINK CHERRY LIGHTS</td>\n",
       "      <td>12</td>\n",
       "      <td>2009-12-01 07:45:00</td>\n",
       "      <td>6.75</td>\n",
       "      <td>13085.0</td>\n",
       "      <td>United Kingdom</td>\n",
       "      <td>81.00</td>\n",
       "    </tr>\n",
       "    <tr>\n",
       "      <th>2</th>\n",
       "      <td>489434</td>\n",
       "      <td>79323W</td>\n",
       "      <td>WHITE CHERRY LIGHTS</td>\n",
       "      <td>12</td>\n",
       "      <td>2009-12-01 07:45:00</td>\n",
       "      <td>6.75</td>\n",
       "      <td>13085.0</td>\n",
       "      <td>United Kingdom</td>\n",
       "      <td>81.00</td>\n",
       "    </tr>\n",
       "    <tr>\n",
       "      <th>3</th>\n",
       "      <td>489434</td>\n",
       "      <td>22041</td>\n",
       "      <td>RECORD FRAME 7\" SINGLE SIZE</td>\n",
       "      <td>48</td>\n",
       "      <td>2009-12-01 07:45:00</td>\n",
       "      <td>2.10</td>\n",
       "      <td>13085.0</td>\n",
       "      <td>United Kingdom</td>\n",
       "      <td>100.80</td>\n",
       "    </tr>\n",
       "    <tr>\n",
       "      <th>4</th>\n",
       "      <td>489434</td>\n",
       "      <td>21232</td>\n",
       "      <td>STRAWBERRY CERAMIC TRINKET BOX</td>\n",
       "      <td>24</td>\n",
       "      <td>2009-12-01 07:45:00</td>\n",
       "      <td>1.25</td>\n",
       "      <td>13085.0</td>\n",
       "      <td>United Kingdom</td>\n",
       "      <td>30.00</td>\n",
       "    </tr>\n",
       "    <tr>\n",
       "      <th>...</th>\n",
       "      <td>...</td>\n",
       "      <td>...</td>\n",
       "      <td>...</td>\n",
       "      <td>...</td>\n",
       "      <td>...</td>\n",
       "      <td>...</td>\n",
       "      <td>...</td>\n",
       "      <td>...</td>\n",
       "      <td>...</td>\n",
       "    </tr>\n",
       "    <tr>\n",
       "      <th>541905</th>\n",
       "      <td>581587</td>\n",
       "      <td>22899</td>\n",
       "      <td>CHILDREN'S APRON DOLLY GIRL</td>\n",
       "      <td>6</td>\n",
       "      <td>2011-12-09 12:50:00</td>\n",
       "      <td>2.10</td>\n",
       "      <td>12680.0</td>\n",
       "      <td>France</td>\n",
       "      <td>12.60</td>\n",
       "    </tr>\n",
       "    <tr>\n",
       "      <th>541906</th>\n",
       "      <td>581587</td>\n",
       "      <td>23254</td>\n",
       "      <td>CHILDRENS CUTLERY DOLLY GIRL</td>\n",
       "      <td>4</td>\n",
       "      <td>2011-12-09 12:50:00</td>\n",
       "      <td>4.15</td>\n",
       "      <td>12680.0</td>\n",
       "      <td>France</td>\n",
       "      <td>16.60</td>\n",
       "    </tr>\n",
       "    <tr>\n",
       "      <th>541907</th>\n",
       "      <td>581587</td>\n",
       "      <td>23255</td>\n",
       "      <td>CHILDRENS CUTLERY CIRCUS PARADE</td>\n",
       "      <td>4</td>\n",
       "      <td>2011-12-09 12:50:00</td>\n",
       "      <td>4.15</td>\n",
       "      <td>12680.0</td>\n",
       "      <td>France</td>\n",
       "      <td>16.60</td>\n",
       "    </tr>\n",
       "    <tr>\n",
       "      <th>541908</th>\n",
       "      <td>581587</td>\n",
       "      <td>22138</td>\n",
       "      <td>BAKING SET 9 PIECE RETROSPOT</td>\n",
       "      <td>3</td>\n",
       "      <td>2011-12-09 12:50:00</td>\n",
       "      <td>4.95</td>\n",
       "      <td>12680.0</td>\n",
       "      <td>France</td>\n",
       "      <td>14.85</td>\n",
       "    </tr>\n",
       "    <tr>\n",
       "      <th>541909</th>\n",
       "      <td>581587</td>\n",
       "      <td>POST</td>\n",
       "      <td>POSTAGE</td>\n",
       "      <td>1</td>\n",
       "      <td>2011-12-09 12:50:00</td>\n",
       "      <td>18.00</td>\n",
       "      <td>12680.0</td>\n",
       "      <td>France</td>\n",
       "      <td>18.00</td>\n",
       "    </tr>\n",
       "  </tbody>\n",
       "</table>\n",
       "<p>1067371 rows × 9 columns</p>\n",
       "</div>"
      ],
      "text/plain": [
       "       Invoice StockCode                          Description  Quantity  \\\n",
       "0       489434     85048  15CM CHRISTMAS GLASS BALL 20 LIGHTS        12   \n",
       "1       489434    79323P                   PINK CHERRY LIGHTS        12   \n",
       "2       489434    79323W                  WHITE CHERRY LIGHTS        12   \n",
       "3       489434     22041         RECORD FRAME 7\" SINGLE SIZE         48   \n",
       "4       489434     21232       STRAWBERRY CERAMIC TRINKET BOX        24   \n",
       "...        ...       ...                                  ...       ...   \n",
       "541905  581587     22899         CHILDREN'S APRON DOLLY GIRL          6   \n",
       "541906  581587     23254        CHILDRENS CUTLERY DOLLY GIRL          4   \n",
       "541907  581587     23255      CHILDRENS CUTLERY CIRCUS PARADE         4   \n",
       "541908  581587     22138        BAKING SET 9 PIECE RETROSPOT          3   \n",
       "541909  581587      POST                              POSTAGE         1   \n",
       "\n",
       "               InvoiceDate  Price  Customer ID         Country  revenue  \n",
       "0      2009-12-01 07:45:00   6.95      13085.0  United Kingdom    83.40  \n",
       "1      2009-12-01 07:45:00   6.75      13085.0  United Kingdom    81.00  \n",
       "2      2009-12-01 07:45:00   6.75      13085.0  United Kingdom    81.00  \n",
       "3      2009-12-01 07:45:00   2.10      13085.0  United Kingdom   100.80  \n",
       "4      2009-12-01 07:45:00   1.25      13085.0  United Kingdom    30.00  \n",
       "...                    ...    ...          ...             ...      ...  \n",
       "541905 2011-12-09 12:50:00   2.10      12680.0          France    12.60  \n",
       "541906 2011-12-09 12:50:00   4.15      12680.0          France    16.60  \n",
       "541907 2011-12-09 12:50:00   4.15      12680.0          France    16.60  \n",
       "541908 2011-12-09 12:50:00   4.95      12680.0          France    14.85  \n",
       "541909 2011-12-09 12:50:00  18.00      12680.0          France    18.00  \n",
       "\n",
       "[1067371 rows x 9 columns]"
      ]
     },
     "execution_count": 18,
     "metadata": {},
     "output_type": "execute_result"
    }
   ],
   "source": [
    "regalos"
   ]
  },
  {
   "cell_type": "code",
   "execution_count": 15,
   "id": "055e2715-4896-46f5-8bb8-d3a42f2487e0",
   "metadata": {
    "tags": []
   },
   "outputs": [],
   "source": [
    "compras_por_usuario = regalos.groupby('Customer ID')['revenue'].sum()"
   ]
  },
  {
   "cell_type": "code",
   "execution_count": 16,
   "id": "8529467a-c000-48b3-9604-6cfa932dcaa6",
   "metadata": {
    "tags": []
   },
   "outputs": [
    {
     "data": {
      "text/plain": [
       "2801.7994594412658"
      ]
     },
     "execution_count": 16,
     "metadata": {},
     "output_type": "execute_result"
    }
   ],
   "source": [
    "compras_por_usuario.mean()"
   ]
  },
  {
   "cell_type": "code",
   "execution_count": 17,
   "id": "0a6f32c6-922c-483e-b702-8182d1f7613f",
   "metadata": {
    "tags": []
   },
   "outputs": [
    {
     "data": {
      "text/plain": [
       "16648292.388"
      ]
     },
     "execution_count": 17,
     "metadata": {},
     "output_type": "execute_result"
    }
   ],
   "source": [
    "compras_por_usuario.sum()"
   ]
  },
  {
   "cell_type": "markdown",
   "id": "4eb6e10a",
   "metadata": {},
   "source": [
    "<script>\n",
    "  $(document).ready(function(){\n",
    "    $('div.prompt').hide();\n",
    "    $('div.back-to-top').hide();\n",
    "    $('nav#menubar').hide();\n",
    "    $('.breadcrumb').hide();\n",
    "    $('.hidden-print').hide();\n",
    "  });\n",
    "</script>\n",
    "\n",
    "<footer id=\"attribution\" style=\"float:right; color:#808080; background:#fff;\">\n",
    "Created with Jupyter by Carlos Kelly\n",
    "</footer>"
   ]
  }
 ],
 "metadata": {
  "kernelspec": {
   "display_name": "Python 3 (ipykernel)",
   "language": "python",
   "name": "python3"
  },
  "language_info": {
   "codemirror_mode": {
    "name": "ipython",
    "version": 3
   },
   "file_extension": ".py",
   "mimetype": "text/x-python",
   "name": "python",
   "nbconvert_exporter": "python",
   "pygments_lexer": "ipython3",
   "version": "3.11.4"
  }
 },
 "nbformat": 4,
 "nbformat_minor": 5
}
