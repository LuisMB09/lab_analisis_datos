{
 "cells": [
  {
   "cell_type": "markdown",
   "id": "ad754eab",
   "metadata": {},
   "source": [
    "# Quiz 1\n",
    "\n",
    "## Pregunta 1\n",
    "\n",
    "### Contexto del Caso:\n",
    "\n",
    "#### Contexto de la Compañía:\n",
    "\n",
    "AlfaTech es una empresa de desarrollo de software que se especializa en soluciones para la gestión de recursos humanos. La empresa ha estado enfrentando desafíos para mantener la eficiencia operativa mientras escala rápidamente para atender a un mercado más amplio.\n",
    "\n",
    "#### Datos Disponibles:\n",
    "\n",
    "- Ingresos Mensuales\n",
    "- Horas de Mantenimiento del Sistema\n",
    "- Tickets de Soporte Mensuales\n",
    "- Costos de Operaciones\n",
    "- Satisfacción del Cliente\n",
    "- Web_Traffic\n",
    "\n",
    "#### Problema:\n",
    "\n",
    "Recientemente, AlfaTech ha experimentado un aumento en los tickets de soporte, lo que ha afectado la satisfacción general del cliente. El equipo directivo desea monitorear un KPI operacional que les permita evaluar y mejorar la eficiencia del soporte técnico.\n",
    "\n",
    "#### Pregunta:\n",
    "\n",
    "¿Cuál de los siguientes KPIs sería el más adecuado para que AlfaTech monitoree la eficiencia del soporte técnico y tome medidas correctivas?\n",
    "\n",
    "1. Ingresos Mensuales (Ingresos totales generados en un mes)\n",
    "2. Horas de Mantenimiento del Sistema (Total de horas dedicadas al mantenimiento de sistemas en un mes)\n",
    "3. Tickets de Soporte Mensuales (Número total de tickets de soporte generados por los usuarios en un mes)\n",
    "4. Costos de Operaciones (Gastos totales relacionados con las operaciones del negocio en un mes)"
   ]
  },
  {
   "cell_type": "markdown",
   "id": "6402a36e",
   "metadata": {},
   "source": [
    "EL KPI más indicado sería el de **Tickets de Soporte Mensuales.**\n",
    "\n",
    "Es el más adecuado ya que se relaciona directamente con el probelma de la empresa. Si estos tickets aumentan muestra que hay un problema en la eficacia del soporte técnico de la empresa lo cual afecta la satisfacción del cliente quien queda con problemas, también ver una disminución de estos tickets significa que menos gente pide ayuda lo cual hace que esten más satisfechos, por lo que seguir de cerca este KPI ayudaría a la empresa con su problema. Además un análisis detallado de estos tickets podría identificar problemas comunes para los clientes."
   ]
  },
  {
   "cell_type": "markdown",
   "id": "5a103796",
   "metadata": {},
   "source": [
    "## Pregunta 2\n",
    "\n",
    "Este conjunto de datos representa transacciones de clientes múltiples con diferentes cohortes y varias transacciones. Cada fila es una transacción, donde 'State' puede ser 'Active' (activa) o 'Cancelled' (cancelada). Solo las transacciones activas contribuyen al cálculo del CLTV."
   ]
  },
  {
   "cell_type": "code",
   "execution_count": 1,
   "id": "60e5d8b9",
   "metadata": {
    "tags": []
   },
   "outputs": [],
   "source": [
    "import pandas as pd\n",
    "import numpy as np\n",
    "\n",
    "np.random.seed(42)\n",
    "\n",
    "dates = pd.date_range(start=\"2019-01-01\", end=\"2021-12-31\", freq='M')\n",
    "cohorts = ['2019-01', '2019-06', '2020-01', '2020-06', '2021-01']\n",
    "\n",
    "num_customers = 100\n",
    "customer_ids = np.arange(1, num_customers + 1)\n",
    "customer_cohorts = np.random.choice(cohorts, size=num_customers, replace=True)\n",
    "\n",
    "customers_df = pd.DataFrame({\n",
    "    'Customer_ID': customer_ids,\n",
    "    'Cohort': customer_cohorts\n",
    "})\n",
    "\n",
    "transactions = []\n",
    "\n",
    "for index, row in customers_df.iterrows():\n",
    "    num_transactions = np.random.poisson(5) \n",
    "    transaction_dates = np.sort(np.random.choice(dates, size=num_transactions, replace=False))\n",
    "    \n",
    "    for date in transaction_dates:\n",
    "        amount = np.random.normal(100, 20)  \n",
    "        state = 'Active' if np.random.rand() > 0.1 else 'Cancelled'\n",
    "        transactions.append([row['Customer_ID'], row['Cohort'], date, amount, state])\n",
    "\n",
    "transactions_df = pd.DataFrame(transactions, columns=['Customer_ID', 'Cohort', 'Transaction_Date', 'Amount', 'State'])"
   ]
  },
  {
   "cell_type": "markdown",
   "id": "309c3934",
   "metadata": {},
   "source": [
    "Dado el conjunto de datos, calcule el CLTV que llevamos adquirido del cliente con ID 007. Asuma que el margen de beneficio es del 20%."
   ]
  },
  {
   "cell_type": "markdown",
   "id": "9314e338-e898-46c5-b55b-2feed8be9e85",
   "metadata": {},
   "source": [
    " - **Customer Lifetime Value (CLTV):** Predice el revenue total que un negocio puede esperar de manera razonable de un cliente a traves de la relación comercial que tenga con el negocio.\n",
    "    - Formula: $\\text{CLTV} = \\frac{\\text{Average Revenue per User (ARPU)} \\times \\text{Gross Margin}}{\\text{Churn Rate}}$"
   ]
  },
  {
   "cell_type": "code",
   "execution_count": 2,
   "id": "7354fe72",
   "metadata": {
    "tags": []
   },
   "outputs": [
    {
     "data": {
      "text/html": [
       "<div>\n",
       "<style scoped>\n",
       "    .dataframe tbody tr th:only-of-type {\n",
       "        vertical-align: middle;\n",
       "    }\n",
       "\n",
       "    .dataframe tbody tr th {\n",
       "        vertical-align: top;\n",
       "    }\n",
       "\n",
       "    .dataframe thead th {\n",
       "        text-align: right;\n",
       "    }\n",
       "</style>\n",
       "<table border=\"1\" class=\"dataframe\">\n",
       "  <thead>\n",
       "    <tr style=\"text-align: right;\">\n",
       "      <th></th>\n",
       "      <th>Customer_ID</th>\n",
       "      <th>Cohort</th>\n",
       "      <th>Transaction_Date</th>\n",
       "      <th>Amount</th>\n",
       "      <th>State</th>\n",
       "    </tr>\n",
       "  </thead>\n",
       "  <tbody>\n",
       "    <tr>\n",
       "      <th>0</th>\n",
       "      <td>1</td>\n",
       "      <td>2020-06</td>\n",
       "      <td>2019-02-28</td>\n",
       "      <td>97.894857</td>\n",
       "      <td>Active</td>\n",
       "    </tr>\n",
       "    <tr>\n",
       "      <th>1</th>\n",
       "      <td>1</td>\n",
       "      <td>2020-06</td>\n",
       "      <td>2019-08-31</td>\n",
       "      <td>80.893071</td>\n",
       "      <td>Active</td>\n",
       "    </tr>\n",
       "    <tr>\n",
       "      <th>2</th>\n",
       "      <td>1</td>\n",
       "      <td>2020-06</td>\n",
       "      <td>2021-01-31</td>\n",
       "      <td>93.118389</td>\n",
       "      <td>Active</td>\n",
       "    </tr>\n",
       "    <tr>\n",
       "      <th>3</th>\n",
       "      <td>1</td>\n",
       "      <td>2020-06</td>\n",
       "      <td>2021-04-30</td>\n",
       "      <td>115.015718</td>\n",
       "      <td>Active</td>\n",
       "    </tr>\n",
       "    <tr>\n",
       "      <th>4</th>\n",
       "      <td>1</td>\n",
       "      <td>2020-06</td>\n",
       "      <td>2021-07-31</td>\n",
       "      <td>94.836304</td>\n",
       "      <td>Active</td>\n",
       "    </tr>\n",
       "    <tr>\n",
       "      <th>...</th>\n",
       "      <td>...</td>\n",
       "      <td>...</td>\n",
       "      <td>...</td>\n",
       "      <td>...</td>\n",
       "      <td>...</td>\n",
       "    </tr>\n",
       "    <tr>\n",
       "      <th>519</th>\n",
       "      <td>100</td>\n",
       "      <td>2019-01</td>\n",
       "      <td>2019-06-30</td>\n",
       "      <td>118.678903</td>\n",
       "      <td>Active</td>\n",
       "    </tr>\n",
       "    <tr>\n",
       "      <th>520</th>\n",
       "      <td>100</td>\n",
       "      <td>2019-01</td>\n",
       "      <td>2020-02-29</td>\n",
       "      <td>93.426760</td>\n",
       "      <td>Active</td>\n",
       "    </tr>\n",
       "    <tr>\n",
       "      <th>521</th>\n",
       "      <td>100</td>\n",
       "      <td>2019-01</td>\n",
       "      <td>2020-03-31</td>\n",
       "      <td>60.479991</td>\n",
       "      <td>Active</td>\n",
       "    </tr>\n",
       "    <tr>\n",
       "      <th>522</th>\n",
       "      <td>100</td>\n",
       "      <td>2019-01</td>\n",
       "      <td>2020-08-31</td>\n",
       "      <td>120.557642</td>\n",
       "      <td>Active</td>\n",
       "    </tr>\n",
       "    <tr>\n",
       "      <th>523</th>\n",
       "      <td>100</td>\n",
       "      <td>2019-01</td>\n",
       "      <td>2021-06-30</td>\n",
       "      <td>86.949817</td>\n",
       "      <td>Active</td>\n",
       "    </tr>\n",
       "  </tbody>\n",
       "</table>\n",
       "<p>524 rows × 5 columns</p>\n",
       "</div>"
      ],
      "text/plain": [
       "     Customer_ID   Cohort Transaction_Date      Amount   State\n",
       "0              1  2020-06       2019-02-28   97.894857  Active\n",
       "1              1  2020-06       2019-08-31   80.893071  Active\n",
       "2              1  2020-06       2021-01-31   93.118389  Active\n",
       "3              1  2020-06       2021-04-30  115.015718  Active\n",
       "4              1  2020-06       2021-07-31   94.836304  Active\n",
       "..           ...      ...              ...         ...     ...\n",
       "519          100  2019-01       2019-06-30  118.678903  Active\n",
       "520          100  2019-01       2020-02-29   93.426760  Active\n",
       "521          100  2019-01       2020-03-31   60.479991  Active\n",
       "522          100  2019-01       2020-08-31  120.557642  Active\n",
       "523          100  2019-01       2021-06-30   86.949817  Active\n",
       "\n",
       "[524 rows x 5 columns]"
      ]
     },
     "execution_count": 2,
     "metadata": {},
     "output_type": "execute_result"
    }
   ],
   "source": [
    "transactions_df"
   ]
  },
  {
   "cell_type": "code",
   "execution_count": 21,
   "id": "9194f559-60ce-45cd-ba34-3af58f29fa45",
   "metadata": {
    "tags": []
   },
   "outputs": [],
   "source": [
    "id_007 = transactions_df.query(\"Customer_ID == 7 and State == 'Active'\")"
   ]
  },
  {
   "cell_type": "code",
   "execution_count": 22,
   "id": "a473c5d0-5700-422c-b6a4-165bff95043d",
   "metadata": {
    "tags": []
   },
   "outputs": [
    {
     "data": {
      "text/html": [
       "<div>\n",
       "<style scoped>\n",
       "    .dataframe tbody tr th:only-of-type {\n",
       "        vertical-align: middle;\n",
       "    }\n",
       "\n",
       "    .dataframe tbody tr th {\n",
       "        vertical-align: top;\n",
       "    }\n",
       "\n",
       "    .dataframe thead th {\n",
       "        text-align: right;\n",
       "    }\n",
       "</style>\n",
       "<table border=\"1\" class=\"dataframe\">\n",
       "  <thead>\n",
       "    <tr style=\"text-align: right;\">\n",
       "      <th></th>\n",
       "      <th>Customer_ID</th>\n",
       "      <th>Cohort</th>\n",
       "      <th>Transaction_Date</th>\n",
       "      <th>Amount</th>\n",
       "      <th>State</th>\n",
       "    </tr>\n",
       "  </thead>\n",
       "  <tbody>\n",
       "    <tr>\n",
       "      <th>31</th>\n",
       "      <td>7</td>\n",
       "      <td>2020-01</td>\n",
       "      <td>2019-06-30</td>\n",
       "      <td>121.935925</td>\n",
       "      <td>Active</td>\n",
       "    </tr>\n",
       "    <tr>\n",
       "      <th>32</th>\n",
       "      <td>7</td>\n",
       "      <td>2020-01</td>\n",
       "      <td>2019-07-31</td>\n",
       "      <td>75.235383</td>\n",
       "      <td>Active</td>\n",
       "    </tr>\n",
       "    <tr>\n",
       "      <th>33</th>\n",
       "      <td>7</td>\n",
       "      <td>2020-01</td>\n",
       "      <td>2021-01-31</td>\n",
       "      <td>83.506973</td>\n",
       "      <td>Active</td>\n",
       "    </tr>\n",
       "    <tr>\n",
       "      <th>35</th>\n",
       "      <td>7</td>\n",
       "      <td>2020-01</td>\n",
       "      <td>2021-07-31</td>\n",
       "      <td>96.322165</td>\n",
       "      <td>Active</td>\n",
       "    </tr>\n",
       "  </tbody>\n",
       "</table>\n",
       "</div>"
      ],
      "text/plain": [
       "    Customer_ID   Cohort Transaction_Date      Amount   State\n",
       "31            7  2020-01       2019-06-30  121.935925  Active\n",
       "32            7  2020-01       2019-07-31   75.235383  Active\n",
       "33            7  2020-01       2021-01-31   83.506973  Active\n",
       "35            7  2020-01       2021-07-31   96.322165  Active"
      ]
     },
     "execution_count": 22,
     "metadata": {},
     "output_type": "execute_result"
    }
   ],
   "source": [
    "id_007"
   ]
  },
  {
   "cell_type": "code",
   "execution_count": 24,
   "id": "a713bd37-16d4-4fbc-93e2-7b46540847cb",
   "metadata": {
    "tags": []
   },
   "outputs": [
    {
     "data": {
      "text/plain": [
       "377.00044675827917"
      ]
     },
     "execution_count": 24,
     "metadata": {},
     "output_type": "execute_result"
    }
   ],
   "source": [
    "arpu = id_007.Amount.sum()\n",
    "arpu"
   ]
  },
  {
   "cell_type": "code",
   "execution_count": 25,
   "id": "96c2f2c2-5909-4996-a7d5-50de12c1ba1c",
   "metadata": {
    "tags": []
   },
   "outputs": [
    {
     "data": {
      "text/plain": [
       "75.40008935165584"
      ]
     },
     "execution_count": 25,
     "metadata": {},
     "output_type": "execute_result"
    }
   ],
   "source": [
    "cltv = arpu * 0.2\n",
    "cltv"
   ]
  }
 ],
 "metadata": {
  "kernelspec": {
   "display_name": "Python 3 (ipykernel)",
   "language": "python",
   "name": "python3"
  },
  "language_info": {
   "codemirror_mode": {
    "name": "ipython",
    "version": 3
   },
   "file_extension": ".py",
   "mimetype": "text/x-python",
   "name": "python",
   "nbconvert_exporter": "python",
   "pygments_lexer": "ipython3",
   "version": "3.11.4"
  }
 },
 "nbformat": 4,
 "nbformat_minor": 5
}
