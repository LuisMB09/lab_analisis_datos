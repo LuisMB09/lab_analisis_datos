{
 "cells": [
  {
   "cell_type": "markdown",
   "id": "0d7ce1f0-0921-4257-9388-4aefb2befa34",
   "metadata": {},
   "source": [
    "# Categorización y Análisis de Juegos en el Contexto de AI Generativa\n",
    "\n",
    "## Objetivo de la Sesión\n",
    "\n",
    "El objetivo de esta sesión es entender cómo **AI generativa** puede ser aplicada para analizar grandes cantidades de contenido, como juegos, y generar insights clave. Para ello, utilizaremos APIs de OpenAI y otras herramientas para automatizar y optimizar el análisis de juegos en plataformas extensas como Roblox. Aprenderemos a clasificar juegos y evaluar su contenido, proporcionando a los padres un mejor entendimiento de los tipos de juegos a los que sus hijos están expuestos.\n",
    "\n",
    "---\n",
    "\n",
    "### ¿Qué es un API?\n",
    "\n",
    "Un **API** (Application Programming Interface) es un conjunto de definiciones y protocolos que permite que un software se comunique con otro. En esta sesión, trabajaremos con APIs de herramientas como OpenAI, Google Translate, y bases de datos. Usaremos estas APIs para procesar información masiva de manera eficiente y analizar juegos.\n",
    "\n",
    "**Ejemplos de APIs:**\n",
    "- **OpenAI API**: Para obtener embeddings de texto que nos ayudarán a categorizar y comparar contenidos.\n",
    "- **Google Translate API**: Para traducir textos cuando el idioma de un juego específico no coincide con el idioma deseado de salida.\n",
    "- **Roblox API**: Para obtener información detallada de los juegos, como género, nombre y descripción.\n",
    "\n",
    "---\n",
    "\n",
    "### Caso Práctico: Gabu y el Análisis de Juegos en Roblox\n",
    "\n",
    "**Contexto del Caso**:\n",
    "- **Problema**: Gabu, una empresa de monitoreo de juegos en línea, busca brindar información a los padres sobre los juegos que sus hijos juegan en Roblox, plataforma con más de 40 millones de juegos.\n",
    "- **Objetivo de Negocio**: Permitir que los padres conozcan el contenido y categoría de los juegos de sus hijos, detectando posibles riesgos como contenido inapropiado, violencia o interacción social excesiva.\n",
    "- **Restricciones**:\n",
    "  - La clasificación debe ser rápida y precisa.\n",
    "  - Proteger la privacidad de los datos de los usuarios.\n",
    "  - Minimizar los costos y tiempo de procesamiento en la obtención de resultados.\n",
    "\n",
    "#### Objetivos Específicos\n",
    "1. **Clasificación de Juegos**: Utilizar embeddings para categorizar los juegos según su contenido.\n",
    "2. **Análisis de Riesgo de Contenido**: Evaluar y etiquetar juegos en función de criterios como \"Contenido Violento\", \"Interacción Social\", y \"Monetización\".\n",
    "3. **Generación de Resumen de Juego**: Proporcionar un resumen de cada juego que sea fácil de entender y relevante para los padres.\n",
    "\n",
    "---"
   ]
  },
  {
   "cell_type": "markdown",
   "id": "340e0d89-36fd-4a33-af44-af5ce65f3a06",
   "metadata": {},
   "source": [
    "### Caso Práctico: Gabu y el Análisis de Audio\n",
    "\n",
    "**Contexto del Caso**:\n",
    "- **Problema**: Gabu, una empresa de monitoreo de juegos en línea, busca brindar información a los padres sobre las sesiones que tienen en linea sus hijos.\n",
    "- **Objetivo de Negocio**: Permitir a los padres tener conclusiones sobre las sesiones de juego para ampliar el úso de la aplicación por los padres.\n",
    "- **Restricciones**:\n",
    "  - El análisis tiene que ser en batch y en primeras instancias no mandarse automáticamente para analizar los resultados.\n",
    "  - Proteger la privacidad de los niños.\n",
    "  - Minimizar los costos y tiempo de procesamiento en la obtención de resultados.\n",
    "\n",
    "---"
   ]
  },
  {
   "cell_type": "code",
   "execution_count": 6,
   "id": "d97456fc-3a3e-4b6f-83a0-944e18eddf5e",
   "metadata": {
    "tags": []
   },
   "outputs": [
    {
     "name": "stdout",
     "output_type": "stream",
     "text": [
      "ChatCompletion(id='chatcmpl-AQOmQYS0BANGKV6OKf2FvevDHhl95', choices=[Choice(finish_reason='stop', index=0, logprobs=None, message=ChatCompletionMessage(content='Machine learning is a subset of artificial intelligence. Artificial intelligence refers to the development of systems that can perform tasks that typically require human intelligence, such as speech recognition, decision-making, visual perception, and language translation. Machine learning is a specific approach within artificial intelligence that involves training algorithms to learn patterns and make predictions from data, rather than being explicitly programmed.\\n\\nIn other words, artificial intelligence is the broader concept of machines being able to carry out tasks in a way that we would consider \"smart,\" while machine learning is a specific subset of AI that enables machines to learn from data and improve their performance over time without being explicitly programmed.', refusal=None, role='assistant', audio=None, function_call=None, tool_calls=None))], created=1730855146, model='gpt-3.5-turbo-0125', object='chat.completion', service_tier=None, system_fingerprint=None, usage=CompletionUsage(completion_tokens=125, prompt_tokens=18, total_tokens=143, completion_tokens_details=CompletionTokensDetails(accepted_prediction_tokens=0, audio_tokens=None, reasoning_tokens=0, rejected_prediction_tokens=0), prompt_tokens_details=PromptTokensDetails(audio_tokens=None, cached_tokens=0)))\n"
     ]
    }
   ],
   "source": [
    "from openai import OpenAI\n",
    "\n",
    "client = OpenAI(\n",
    "    api_key=\"TU_KEY\",\n",
    ")\n",
    "\n",
    "def generate_response(prompt, model=\"gpt-3.5-turbo\", temperature=0.7, max_tokens=100):\n",
    "    try:\n",
    "        response = client.chat.completions.create(\n",
    "            messages=[\n",
    "                {\n",
    "                    \"role\": \"user\",\n",
    "                    \"content\": prompt,\n",
    "                }\n",
    "            ],\n",
    "            model=model,\n",
    "            temperature=temperature\n",
    "        )\n",
    "        \n",
    "        return response\n",
    "    except Exception as e:\n",
    "        return f\"Error: {e}\"\n",
    "\n",
    "# Example usage\n",
    "prompt = \"Explain the difference between machine learning and artificial intelligence.\"\n",
    "response = generate_response(prompt)\n",
    "print(response)"
   ]
  }
 ],
 "metadata": {
  "kernelspec": {
   "display_name": "Python 3 (ipykernel)",
   "language": "python",
   "name": "python3"
  },
  "language_info": {
   "codemirror_mode": {
    "name": "ipython",
    "version": 3
   },
   "file_extension": ".py",
   "mimetype": "text/x-python",
   "name": "python",
   "nbconvert_exporter": "python",
   "pygments_lexer": "ipython3",
   "version": "3.11.5"
  }
 },
 "nbformat": 4,
 "nbformat_minor": 5
}
